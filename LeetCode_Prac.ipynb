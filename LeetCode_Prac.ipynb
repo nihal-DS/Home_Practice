{
 "cells": [
  {
   "cell_type": "code",
   "execution_count": 1,
   "id": "90d99c96-7a51-476e-9e03-6fcd9ac114be",
   "metadata": {
    "tags": []
   },
   "outputs": [],
   "source": [
    "from icecream import ic\n",
    "import numpy as np\n",
    "import pandas as pd\n",
    "from collections import defaultdict\n",
    "from collections import deque"
   ]
  },
  {
   "cell_type": "markdown",
   "id": "75ba4006-7305-48ca-a04e-8766924a1ec5",
   "metadata": {},
   "source": [
    "## 14. Longest Common Prefix"
   ]
  },
  {
   "cell_type": "code",
   "execution_count": 25,
   "id": "8a4c316b-3dda-4eb2-93e0-fa0c7e6ed8b6",
   "metadata": {
    "tags": []
   },
   "outputs": [],
   "source": [
    "strs1 = [\"flower\",\"flow\",\"flight\"]\n",
    "strs2 = [\"dog\",\"racecar\",\"car\"]"
   ]
  },
  {
   "cell_type": "code",
   "execution_count": 26,
   "id": "92b41a23-2d2d-4a0c-9c83-50c77f4471c6",
   "metadata": {
    "tags": []
   },
   "outputs": [
    {
     "name": "stderr",
     "output_type": "stream",
     "text": [
      "ic| longest_prefix_length: 6\n",
      "ic| i: 'flower'\n",
      "ic| longest_prefix_length: 6\n",
      "ic| i: 'flow'\n",
      "ic| longest_prefix_length: 4\n",
      "ic| i: 'flight'\n",
      "ic| longest_prefix_length: 4\n"
     ]
    }
   ],
   "source": [
    "# Finding length of longest prefix possible\n",
    "longest_prefix_length = len(strs1[0])\n",
    "ic(longest_prefix_length)\n",
    "for i in strs1:\n",
    "    ic(i)\n",
    "    longest_prefix_length = min(longest_prefix_length, len(i))\n",
    "    ic(longest_prefix_length)"
   ]
  },
  {
   "cell_type": "code",
   "execution_count": 27,
   "id": "bc9b50ca-767e-4d69-97ca-f0d7a28f6119",
   "metadata": {
    "tags": []
   },
   "outputs": [
    {
     "data": {
      "text/plain": [
       "4"
      ]
     },
     "execution_count": 27,
     "metadata": {},
     "output_type": "execute_result"
    }
   ],
   "source": [
    "longest_prefix_length"
   ]
  },
  {
   "cell_type": "code",
   "execution_count": 37,
   "id": "b50fcf2d-9f71-4c78-8577-8f6d75439a96",
   "metadata": {
    "tags": []
   },
   "outputs": [
    {
     "name": "stderr",
     "output_type": "stream",
     "text": [
      "ic| string: ''\n",
      "ic| i: 0\n",
      "ic| nxt: 'f'\n",
      "ic| keep: True\n",
      "ic| j: 'flower'\n",
      "ic| start: 'f'\n",
      "ic| nxt: 'f'\n",
      "ic| j: 'flow'\n",
      "ic| start: 'f'\n",
      "ic| nxt: 'f'\n",
      "ic| j: 'flight'\n",
      "ic| start: 'f'\n",
      "ic| nxt: 'f'\n",
      "ic| string: 'f'\n",
      "ic| i: 1\n",
      "ic| nxt: 'l'\n",
      "ic| keep: True\n",
      "ic| j: 'flower'\n",
      "ic| start: 'l'\n",
      "ic| nxt: 'l'\n",
      "ic| j: 'flow'\n",
      "ic| start: 'l'\n",
      "ic| nxt: 'l'\n",
      "ic| j: 'flight'\n",
      "ic| start: 'l'\n",
      "ic| nxt: 'l'\n",
      "ic| string: 'fl'\n",
      "ic| i: 2\n",
      "ic| nxt: 'o'\n",
      "ic| keep: True\n",
      "ic| j: 'flower'\n",
      "ic| start: 'o'\n",
      "ic| nxt: 'o'\n",
      "ic| j: 'flow'\n",
      "ic| start: 'o'\n",
      "ic| nxt: 'o'\n",
      "ic| j: 'flight'\n",
      "ic| start: 'i'\n"
     ]
    }
   ],
   "source": [
    "# My solution\n",
    "string = \"\"\n",
    "ic(string)\n",
    "for i in range(longest_prefix_length):\n",
    "    ic(i)\n",
    "    nxt = strs1[0][i]\n",
    "    ic(nxt)\n",
    "    keep = True\n",
    "    ic(keep)\n",
    "    for j in strs1:\n",
    "        ic(j)\n",
    "        start = j[i]\n",
    "        ic(start)\n",
    "        if start != nxt:\n",
    "            keep = False\n",
    "            break\n",
    "        nxt = start\n",
    "        ic(nxt)\n",
    "    if keep == False:\n",
    "        break\n",
    "    else:\n",
    "        string += strs1[0][i]\n",
    "        ic(string)"
   ]
  },
  {
   "cell_type": "code",
   "execution_count": 36,
   "id": "543cb9c4-a395-4406-82cd-1a3a15afb7f4",
   "metadata": {
    "tags": []
   },
   "outputs": [
    {
     "data": {
      "text/plain": [
       "'fl'"
      ]
     },
     "execution_count": 36,
     "metadata": {},
     "output_type": "execute_result"
    }
   ],
   "source": [
    "string"
   ]
  },
  {
   "cell_type": "code",
   "execution_count": 39,
   "id": "38a323c5-3b8e-479e-99af-f5cb32206454",
   "metadata": {
    "tags": []
   },
   "outputs": [
    {
     "name": "stderr",
     "output_type": "stream",
     "text": [
      "ic| sorted_strs1: ['flight', 'flow', 'flower']\n"
     ]
    }
   ],
   "source": [
    "# Best solution\n",
    "sorted_strs1 = sorted(strs1)\n",
    "ic(sorted_strs1)               # https://leetcode.com/problems/longest-common-prefix/solutions/3273176/python3-c-java-19-ms-beats-99-91/\n",
    "first = sorted_strs1[0]\n",
    "last = sorted_strs1[-1]\n",
    "string = \"\"\n",
    "for i in range(min(len(first), len(last))):\n",
    "    if first[i] == last[i]:\n",
    "        string += first[i]\n",
    "    else:\n",
    "        break"
   ]
  },
  {
   "cell_type": "code",
   "execution_count": 42,
   "id": "e34504b3-3c08-4d43-86de-647d0b3f2bd7",
   "metadata": {
    "tags": []
   },
   "outputs": [
    {
     "data": {
      "text/plain": [
       "'fl'"
      ]
     },
     "execution_count": 42,
     "metadata": {},
     "output_type": "execute_result"
    }
   ],
   "source": [
    "string"
   ]
  },
  {
   "cell_type": "markdown",
   "id": "1c5a291b-de93-4597-8a58-c5b581c14226",
   "metadata": {},
   "source": [
    "## 20. Valid Parentheses"
   ]
  },
  {
   "cell_type": "code",
   "execution_count": 70,
   "id": "cca226b0-0b8b-4ec4-b116-97bd2f213a21",
   "metadata": {
    "tags": []
   },
   "outputs": [],
   "source": [
    "s1 = \"()[]{}\"\n",
    "s2 = \"(]\"\n",
    "s3 = \"{[]}\""
   ]
  },
  {
   "cell_type": "code",
   "execution_count": 88,
   "id": "3f556cc0-fc6c-48ff-b560-3eb143eac775",
   "metadata": {
    "tags": []
   },
   "outputs": [],
   "source": [
    "# Best Solution\n",
    "def valid_parentheses(s):    \n",
    "    stack = []\n",
    "    for para in s:\n",
    "        if para in \"([{\":\n",
    "            stack.append(para)\n",
    "        else:\n",
    "            if not stack or \\\n",
    "            (para == \")\" and stack[-1] != \"(\") or \\\n",
    "            (para == \"]\" and stack[-1] != \"[\") or \\\n",
    "            (para == \"}\" and stack[-1] != \"{\"):\n",
    "                return False\n",
    "            stack.pop()\n",
    "    return not stack"
   ]
  },
  {
   "cell_type": "code",
   "execution_count": 89,
   "id": "0cb09d0a-cad0-47f3-891f-24f3a96d12ed",
   "metadata": {
    "tags": []
   },
   "outputs": [
    {
     "data": {
      "text/plain": [
       "False"
      ]
     },
     "execution_count": 89,
     "metadata": {},
     "output_type": "execute_result"
    }
   ],
   "source": [
    "valid_parentheses(s2)"
   ]
  },
  {
   "cell_type": "code",
   "execution_count": 90,
   "id": "fc379541-71cf-4e8d-956f-bd333d3ee039",
   "metadata": {
    "tags": []
   },
   "outputs": [
    {
     "data": {
      "text/plain": [
       "True"
      ]
     },
     "execution_count": 90,
     "metadata": {},
     "output_type": "execute_result"
    }
   ],
   "source": [
    "valid_parentheses(s3)"
   ]
  },
  {
   "cell_type": "markdown",
   "id": "700229de-0f4b-4aa8-8cc8-49f35e553cf6",
   "metadata": {
    "tags": []
   },
   "source": [
    "## 27. Remove Element"
   ]
  },
  {
   "cell_type": "code",
   "execution_count": 158,
   "id": "9fc86441-5575-4586-8d6f-2547d59a2148",
   "metadata": {
    "tags": []
   },
   "outputs": [],
   "source": [
    "nums = [0,1,2,2,3,0,4,2]\n",
    "val = 2"
   ]
  },
  {
   "cell_type": "code",
   "execution_count": 176,
   "id": "777143e8-f96a-4c41-b38d-7d1b61e3c280",
   "metadata": {
    "tags": []
   },
   "outputs": [],
   "source": [
    "# My Solution\n",
    "def remove_elements(nums):\n",
    "    for i in reversed(range(len(nums))):\n",
    "        if nums[i] == val:\n",
    "            nums.pop(i)\n",
    "    return len(nums)"
   ]
  },
  {
   "cell_type": "code",
   "execution_count": 177,
   "id": "f25f46b4-358e-4dca-99b2-c1b94aded07f",
   "metadata": {},
   "outputs": [
    {
     "data": {
      "text/plain": [
       "5"
      ]
     },
     "execution_count": 177,
     "metadata": {},
     "output_type": "execute_result"
    }
   ],
   "source": [
    "remove_elements(nums)"
   ]
  },
  {
   "cell_type": "code",
   "execution_count": 178,
   "id": "b67f31e1-9d75-4ff6-a24f-21ad8a0923b3",
   "metadata": {
    "tags": []
   },
   "outputs": [
    {
     "data": {
      "text/plain": [
       "[0, 1, 3, 0, 4]"
      ]
     },
     "execution_count": 178,
     "metadata": {},
     "output_type": "execute_result"
    }
   ],
   "source": [
    "nums"
   ]
  },
  {
   "cell_type": "code",
   "execution_count": 179,
   "id": "f6cc49ee-f48f-4070-8a38-8c6189ec79a0",
   "metadata": {
    "tags": []
   },
   "outputs": [],
   "source": [
    "# Alternate Solution\n",
    "def removeElement(nums):\n",
    "    index = 0\n",
    "    for i in range(len(nums)):\n",
    "        if nums[i] != val:\n",
    "            nums[index] = nums[i]\n",
    "            index += 1\n",
    "    return index"
   ]
  },
  {
   "cell_type": "markdown",
   "id": "4b798196-19ae-4ca4-8752-23d26bae769a",
   "metadata": {},
   "source": [
    "## 28. Find the Index of the First Occurrence in a String"
   ]
  },
  {
   "cell_type": "code",
   "execution_count": 180,
   "id": "308054f5-5e0d-48c8-813e-7f5ab027570f",
   "metadata": {
    "tags": []
   },
   "outputs": [],
   "source": [
    "haystack = \"sadbutsad\"\n",
    "needle = \"sad\""
   ]
  },
  {
   "cell_type": "code",
   "execution_count": 191,
   "id": "7420fb59-896f-42de-be06-b4091aa715d5",
   "metadata": {
    "tags": []
   },
   "outputs": [
    {
     "name": "stderr",
     "output_type": "stream",
     "text": [
      "ic| idx: 0\n",
      "ic| needle: 'sad'\n",
      "ic| haystack[idx : idx + len(needle)]: 'sad'\n",
      "ic| idx: 1\n",
      "ic| idx: 2\n",
      "ic| idx: 3\n",
      "ic| idx: 4\n",
      "ic| idx: 5\n",
      "ic| idx: 6\n",
      "ic| needle: 'sad'\n",
      "ic| haystack[idx : idx + len(needle)]: 'sad'\n"
     ]
    },
    {
     "name": "stdout",
     "output_type": "stream",
     "text": [
      "0\n",
      "6\n"
     ]
    }
   ],
   "source": [
    "# My Solution\n",
    "for idx in range(len(haystack) - len(needle) + 1):\n",
    "    ic(idx)\n",
    "    if needle == haystack[idx : idx + len(needle)]:\n",
    "        ic(needle)\n",
    "        ic(haystack[idx : idx + len(needle)])\n",
    "        print(idx)"
   ]
  },
  {
   "cell_type": "code",
   "execution_count": 193,
   "id": "2e8b2ca0-fd92-4295-9127-1f39207d43bb",
   "metadata": {
    "tags": []
   },
   "outputs": [
    {
     "data": {
      "text/plain": [
       "0"
      ]
     },
     "execution_count": 193,
     "metadata": {},
     "output_type": "execute_result"
    }
   ],
   "source": [
    "# Alternate Solution\n",
    "haystack.find(needle)"
   ]
  },
  {
   "cell_type": "markdown",
   "id": "35db625b-3e29-4fb9-a57b-fbeae6ad1fde",
   "metadata": {},
   "source": [
    "## 35. Search Insert Position"
   ]
  },
  {
   "cell_type": "code",
   "execution_count": 195,
   "id": "23cf4d69-eba0-4636-af5e-8faf4d84229e",
   "metadata": {
    "tags": []
   },
   "outputs": [],
   "source": [
    "nums = [1,3,5,6]\n",
    "target = 5"
   ]
  },
  {
   "cell_type": "code",
   "execution_count": 203,
   "id": "3f19264f-aa2f-49d1-a7a0-bd47c0ca8083",
   "metadata": {
    "tags": []
   },
   "outputs": [],
   "source": [
    "# My Solution\n",
    "def insert_pos(nums, target):\n",
    "    for idx, val in enumerate(nums):\n",
    "        if val == target:\n",
    "            return idx\n",
    "        elif val > target:\n",
    "            return idx\n",
    "    return len(nums)"
   ]
  },
  {
   "cell_type": "code",
   "execution_count": 204,
   "id": "7b6e1137-59c0-4397-9f11-a51b39da3156",
   "metadata": {
    "tags": []
   },
   "outputs": [
    {
     "data": {
      "text/plain": [
       "4"
      ]
     },
     "execution_count": 204,
     "metadata": {},
     "output_type": "execute_result"
    }
   ],
   "source": [
    "insert_pos(nums, target)"
   ]
  },
  {
   "cell_type": "code",
   "execution_count": 205,
   "id": "1eec66a2-1c51-4eee-8f72-97084a1f6c4a",
   "metadata": {
    "tags": []
   },
   "outputs": [
    {
     "data": {
      "text/plain": [
       "1"
      ]
     },
     "execution_count": 205,
     "metadata": {},
     "output_type": "execute_result"
    }
   ],
   "source": [
    "nums = [1,3,5,6]\n",
    "target = 2\n",
    "insert_pos(nums, target)"
   ]
  },
  {
   "cell_type": "code",
   "execution_count": 206,
   "id": "601c36f3-fa41-426b-945f-53aaaf740ace",
   "metadata": {
    "tags": []
   },
   "outputs": [
    {
     "data": {
      "text/plain": [
       "4"
      ]
     },
     "execution_count": 206,
     "metadata": {},
     "output_type": "execute_result"
    }
   ],
   "source": [
    "nums = [1,3,5,6]\n",
    "target = 7\n",
    "insert_pos(nums, target)"
   ]
  },
  {
   "cell_type": "markdown",
   "id": "4d332448-ba9c-41b8-87ab-1aa6e00797be",
   "metadata": {},
   "source": [
    "## 58. Length of Last Word"
   ]
  },
  {
   "cell_type": "code",
   "execution_count": 13,
   "id": "0648d64e-12e1-4fe5-879d-9c861ba00492",
   "metadata": {},
   "outputs": [],
   "source": [
    "s = \"   fly me   to   the moon  \""
   ]
  },
  {
   "cell_type": "code",
   "execution_count": 14,
   "id": "64a1c7e1-f4ac-4ba5-bb8f-26fc12960e56",
   "metadata": {
    "tags": []
   },
   "outputs": [
    {
     "data": {
      "text/plain": [
       "4"
      ]
     },
     "execution_count": 14,
     "metadata": {},
     "output_type": "execute_result"
    }
   ],
   "source": [
    "# My Solution\n",
    "len(s.split()[-1])"
   ]
  },
  {
   "cell_type": "code",
   "execution_count": 15,
   "id": "913fada5-144b-4b4c-b8d6-fe41b4b00de7",
   "metadata": {
    "tags": []
   },
   "outputs": [],
   "source": [
    "# My Alternate Solution\n",
    "foundword = False\n",
    "length = 0\n",
    "for i in reversed(s):\n",
    "    if i.isalpha():\n",
    "        length += 1\n",
    "        foundword = True\n",
    "    if i.isspace() and foundword:\n",
    "        break"
   ]
  },
  {
   "cell_type": "code",
   "execution_count": 16,
   "id": "cbe45c07-56dc-4a6e-b8d7-8beff1a4fcce",
   "metadata": {
    "tags": []
   },
   "outputs": [
    {
     "data": {
      "text/plain": [
       "4"
      ]
     },
     "execution_count": 16,
     "metadata": {},
     "output_type": "execute_result"
    }
   ],
   "source": [
    "length"
   ]
  },
  {
   "cell_type": "markdown",
   "id": "bcd04459-2273-44f3-910d-8652a6e40763",
   "metadata": {},
   "source": [
    "## 66. Plus One"
   ]
  },
  {
   "cell_type": "code",
   "execution_count": 52,
   "id": "22d58d12-bfeb-4e8b-b49e-6d8ae311f878",
   "metadata": {
    "tags": []
   },
   "outputs": [],
   "source": [
    "digits = [9, 9]\n",
    "digits = [1,2,9]"
   ]
  },
  {
   "cell_type": "code",
   "execution_count": 53,
   "id": "67c51b72-1069-4237-ae55-49b8470a39e3",
   "metadata": {
    "tags": []
   },
   "outputs": [],
   "source": [
    "# My Solution\n",
    "# for i in reversed(range(len(digits))):\n",
    "#     if digits[i] == 9:\n",
    "#         if i == 0:\n",
    "#             digits[i] = 1\n",
    "#             digits.append(0)\n",
    "#             break\n",
    "#         digits[i] = 0\n",
    "#     else:\n",
    "#         digits[i] += 1\n",
    "#         break"
   ]
  },
  {
   "cell_type": "code",
   "execution_count": 54,
   "id": "7f81b637-5946-450e-aa34-89262bd17b11",
   "metadata": {
    "tags": []
   },
   "outputs": [],
   "source": [
    "# digits"
   ]
  },
  {
   "cell_type": "code",
   "execution_count": 59,
   "id": "b3b21869-6333-44bd-92b1-dcbc4169fc7f",
   "metadata": {
    "tags": []
   },
   "outputs": [],
   "source": [
    "# My Alternate Solution\n",
    "string = \"\"\n",
    "for i in digits:\n",
    "    string += str(i)\n",
    "string = str(int(string) + 1)\n",
    "string1 = [int(s) for s in string]"
   ]
  },
  {
   "cell_type": "code",
   "execution_count": 60,
   "id": "a070a38b-6dbb-4133-b39d-f03970d177d1",
   "metadata": {
    "tags": []
   },
   "outputs": [
    {
     "data": {
      "text/plain": [
       "[1, 3, 0]"
      ]
     },
     "execution_count": 60,
     "metadata": {},
     "output_type": "execute_result"
    }
   ],
   "source": [
    "string1"
   ]
  },
  {
   "cell_type": "markdown",
   "id": "7124824d-746b-4601-9a67-92b7e3885b04",
   "metadata": {},
   "source": [
    "## 67. Add Binary"
   ]
  },
  {
   "cell_type": "code",
   "execution_count": 61,
   "id": "399e84f9-e373-47e9-b93a-09096de3c1ce",
   "metadata": {
    "tags": []
   },
   "outputs": [],
   "source": [
    "a = \"11\"\n",
    "b = \"1\""
   ]
  },
  {
   "cell_type": "code",
   "execution_count": 67,
   "id": "4b7d5bf2-5eac-43e9-9631-283517035b0b",
   "metadata": {
    "tags": []
   },
   "outputs": [
    {
     "data": {
      "text/plain": [
       "'100'"
      ]
     },
     "execution_count": 67,
     "metadata": {},
     "output_type": "execute_result"
    }
   ],
   "source": [
    "bin(int(a, 2) + int(b, 2))[2:]"
   ]
  },
  {
   "cell_type": "markdown",
   "id": "f557be3b-8a96-4b76-93de-0426aa5a0f1e",
   "metadata": {},
   "source": [
    "## 69. Sqrt(x)"
   ]
  },
  {
   "cell_type": "code",
   "execution_count": 83,
   "id": "14bae83f-ffa4-4dfc-9383-4e49ad329fcf",
   "metadata": {
    "tags": []
   },
   "outputs": [],
   "source": [
    "x = 8192"
   ]
  },
  {
   "cell_type": "code",
   "execution_count": 84,
   "id": "7d21ccab-d322-425a-bc52-615866e6e290",
   "metadata": {
    "tags": []
   },
   "outputs": [],
   "source": [
    "# Newton Method: https://www.geeksforgeeks.org/find-root-of-a-number-using-newtons-method/\n",
    "def mySqrt(x: int) -> int:\n",
    "    if x == 0:\n",
    "        return 0\n",
    "    elif len(str(x)) <= 3:\n",
    "        init = x / 2\n",
    "    else:\n",
    "        init = int(str(x)[:int(len(str(x))/2)])\n",
    "    for i in range(7):\n",
    "        init = (init + (x/init))/2\n",
    "    return int(init)"
   ]
  },
  {
   "cell_type": "code",
   "execution_count": 85,
   "id": "8e9764bc-a4d9-447b-a997-652d3ce12f8d",
   "metadata": {
    "tags": []
   },
   "outputs": [
    {
     "data": {
      "text/plain": [
       "90"
      ]
     },
     "execution_count": 85,
     "metadata": {},
     "output_type": "execute_result"
    }
   ],
   "source": [
    "mySqrt(x)"
   ]
  },
  {
   "cell_type": "code",
   "execution_count": 91,
   "id": "32da07d5-ea35-4e24-9207-91e1d1da11ea",
   "metadata": {
    "tags": []
   },
   "outputs": [],
   "source": [
    "# Binary Search: https://www.youtube.com/watch?v=Bsv3FPUX_BA\n",
    "def binary_search_sqrt(x):\n",
    "    if x == 0:\n",
    "        return 0\n",
    "    first = 1\n",
    "    last = x\n",
    "    while first <= last:\n",
    "        middle = int((first + last) / 2)\n",
    "        if x == (middle * middle):\n",
    "            return middle\n",
    "        elif x < (middle * middle):\n",
    "            last = middle - 1\n",
    "        else:\n",
    "            first = middle + 1\n",
    "    return last"
   ]
  },
  {
   "cell_type": "code",
   "execution_count": 96,
   "id": "30d55877-1262-44a3-bd00-b87c117ff8d0",
   "metadata": {
    "tags": []
   },
   "outputs": [
    {
     "data": {
      "text/plain": [
       "10"
      ]
     },
     "execution_count": 96,
     "metadata": {},
     "output_type": "execute_result"
    }
   ],
   "source": [
    "binary_search_sqrt(120)"
   ]
  },
  {
   "cell_type": "markdown",
   "id": "bf61e04b-dac7-4515-adb0-8cef05f59089",
   "metadata": {},
   "source": [
    "## 70. Climbing Stairs"
   ]
  },
  {
   "cell_type": "code",
   "execution_count": 2,
   "id": "6d0a880e-e7fd-4b55-b298-7e7c8220d676",
   "metadata": {
    "tags": []
   },
   "outputs": [],
   "source": [
    "from itertools import permutations"
   ]
  },
  {
   "cell_type": "code",
   "execution_count": 12,
   "id": "b5034ed7-5f00-4093-9106-1f7ca3906500",
   "metadata": {
    "tags": []
   },
   "outputs": [
    {
     "data": {
      "text/plain": [
       "[(1, 2), (2, 1)]"
      ]
     },
     "execution_count": 12,
     "metadata": {},
     "output_type": "execute_result"
    }
   ],
   "source": [
    "list(permutations([1,2], 2))"
   ]
  },
  {
   "cell_type": "code",
   "execution_count": 17,
   "id": "965a00b8-b995-4340-a0bd-138909584d89",
   "metadata": {
    "tags": []
   },
   "outputs": [],
   "source": [
    "# Best Solution: Dynamic Programming : https://www.youtube.com/watch?v=Y0lT9Fck7qI\n",
    "def climb_stairs(n):\n",
    "    if n == 0:\n",
    "        return 0\n",
    "    if n == 1:\n",
    "        return 1\n",
    "    else:\n",
    "        one, two, new = 1, 1, 0\n",
    "        for i in range(n - 1):\n",
    "            new = one + two\n",
    "            two = one\n",
    "            one = new\n",
    "    return new"
   ]
  },
  {
   "cell_type": "code",
   "execution_count": 19,
   "id": "9147fdac-8f9e-4af2-84ef-b07c422c6421",
   "metadata": {
    "tags": []
   },
   "outputs": [
    {
     "data": {
      "text/plain": [
       "3"
      ]
     },
     "execution_count": 19,
     "metadata": {},
     "output_type": "execute_result"
    }
   ],
   "source": [
    "climb_stairs(3)"
   ]
  },
  {
   "cell_type": "markdown",
   "id": "39b79a74-a9ad-49ad-8ff2-702ede0812e8",
   "metadata": {},
   "source": [
    "## 83. Remove Duplicates from Sorted List"
   ]
  },
  {
   "cell_type": "code",
   "execution_count": null,
   "id": "47be425c-6c42-4adb-9b08-a30fbbf5271b",
   "metadata": {},
   "outputs": [],
   "source": [
    "# ListNode is an object which has a value and 'next' which has pointer to next ListNode object\n",
    "# ListNode is stored this way: ListNode{val: 2, next: ListNode{val: 4, next: None}} (Recursive)"
   ]
  },
  {
   "cell_type": "code",
   "execution_count": 2,
   "id": "2f944d58-ef59-47e0-8af0-c007b6830849",
   "metadata": {
    "tags": []
   },
   "outputs": [],
   "source": [
    "class ListNode:\n",
    "    def __init__(self, val=0, next=None):\n",
    "        self.val = val\n",
    "        self.next = next"
   ]
  },
  {
   "cell_type": "code",
   "execution_count": 8,
   "id": "9906b7c2-aa27-4d6d-94d4-b1daa152188d",
   "metadata": {
    "tags": []
   },
   "outputs": [],
   "source": [
    "# Best Solution\n",
    "def deleteDuplicates(head):\n",
    "    if head == None:\n",
    "        return None\n",
    "\n",
    "    current = head\n",
    "    while current.next:\n",
    "        if current.val == current.next.val:\n",
    "            current.next = current.next.next\n",
    "        else:\n",
    "            current = current.next\n",
    "\n",
    "    return head"
   ]
  },
  {
   "cell_type": "markdown",
   "id": "958a155f-59a6-4298-a0f9-55a1f02f537d",
   "metadata": {},
   "source": [
    "## 88. Merge Sorted Array"
   ]
  },
  {
   "cell_type": "code",
   "execution_count": 9,
   "id": "624496e3-7715-4d18-9832-50a9ed940014",
   "metadata": {
    "tags": []
   },
   "outputs": [],
   "source": [
    "nums1 = [1, 2, 3, 0, 0, 0]"
   ]
  },
  {
   "cell_type": "code",
   "execution_count": 10,
   "id": "d29ef3f1-4aa9-4eea-83d2-258336761e66",
   "metadata": {
    "tags": []
   },
   "outputs": [],
   "source": [
    "# My Solution 1\n",
    "def merge_sorted(nums1, m, nums2, n):\n",
    "    nums1[m:] = nums2\n",
    "    nums1.sort()"
   ]
  },
  {
   "cell_type": "code",
   "execution_count": 12,
   "id": "64a57602-7e4c-4127-bb72-89ec5412efd4",
   "metadata": {
    "tags": []
   },
   "outputs": [],
   "source": [
    "# Algo Solution (backwards pass)\n",
    "def merge_sorted(nums1, m, nums2, n):    \n",
    "    x = m - 1\n",
    "    y = n - 1\n",
    "    track = n + m - 1\n",
    "    while y >= 0:\n",
    "        if x >= 0 and nums1[x] > nums2[y]:\n",
    "            nums1[track] = nums1[x]\n",
    "            x -= 1\n",
    "        else:\n",
    "            nums1[track] = nums2[y]\n",
    "            y -= 1\n",
    "        track -= 1 "
   ]
  },
  {
   "cell_type": "markdown",
   "id": "af9a71c9-6793-4d29-ba34-374017bdb893",
   "metadata": {},
   "source": [
    "## 94. Binary Tree Inorder Traversal"
   ]
  },
  {
   "cell_type": "code",
   "execution_count": 15,
   "id": "8c3b1d3b-f67d-4f6b-9929-f40af3337c3a",
   "metadata": {
    "tags": []
   },
   "outputs": [],
   "source": [
    "# In-order treversal is a method of travelling through a binary tree: https://www.youtube.com/watch?v=5dySuyZf9Qg"
   ]
  },
  {
   "cell_type": "code",
   "execution_count": 16,
   "id": "ba0aa790-ebb1-4bad-b40e-edec2e1fa03a",
   "metadata": {
    "tags": []
   },
   "outputs": [],
   "source": [
    "def inorderTraversal(root):\n",
    "    res = []\n",
    "    def inorder(root):\n",
    "        if not root:\n",
    "            return None\n",
    "        inorder(root.left)\n",
    "        res.append(root.val)\n",
    "        inorder(root.right)\n",
    "    inorder(root)\n",
    "    return res"
   ]
  },
  {
   "cell_type": "markdown",
   "id": "ee760fad-f161-4733-bb27-a6d451306b00",
   "metadata": {},
   "source": [
    "## 100. Same Tree"
   ]
  },
  {
   "cell_type": "code",
   "execution_count": 5,
   "id": "bb404ff3-9188-408f-a4a9-a7d97e462808",
   "metadata": {},
   "outputs": [],
   "source": [
    "# Recursion Solution :https://youtu.be/vRbbcKXCxOw?si=WquoNe5pi-tCUyyX\n",
    "def isSameTree(p, q) -> bool:\n",
    "    if not p and not q:\n",
    "        return True\n",
    "    if not p or not q or p.val != q.val:\n",
    "        return False\n",
    "    return (self.isSameTree(p.left, q.left) and self.isSameTree(p.right, q.right))"
   ]
  },
  {
   "cell_type": "markdown",
   "id": "3d861d15-d61e-4f74-8cc6-f718e7e5edc5",
   "metadata": {},
   "source": [
    "## 118. Pascal's Triangle"
   ]
  },
  {
   "cell_type": "code",
   "execution_count": 4,
   "id": "50c9de71-a386-40b7-8c41-83a23764f0d9",
   "metadata": {
    "tags": []
   },
   "outputs": [],
   "source": [
    "from math import ceil"
   ]
  },
  {
   "cell_type": "code",
   "execution_count": 32,
   "id": "0d7a5404-3169-4584-840a-d862e5e965d3",
   "metadata": {
    "tags": []
   },
   "outputs": [
    {
     "data": {
      "text/plain": [
       "1"
      ]
     },
     "execution_count": 32,
     "metadata": {},
     "output_type": "execute_result"
    }
   ],
   "source": [
    "ceil(2/2)"
   ]
  },
  {
   "cell_type": "code",
   "execution_count": 10,
   "id": "d8102f40-b71e-47e5-b0cc-8af5d82f1c7b",
   "metadata": {
    "tags": []
   },
   "outputs": [],
   "source": [
    "# My Solution\n",
    "def generate(numRows):\n",
    "    output = []\n",
    "    for row_num in range(1, numRows + 1):\n",
    "        ic(row_num)\n",
    "        if row_num == 1:\n",
    "            output.append([1])\n",
    "        else:\n",
    "            temp = [0] * row_num\n",
    "            reverse = -1\n",
    "            for col in range(ceil(row_num / 2)):\n",
    "                if col == 0:\n",
    "                    temp[0] = 1\n",
    "                    temp[-1] = 1\n",
    "                else:\n",
    "                    temp[col] = sum(output[row_num-2][col-1:col+1])\n",
    "                    temp[reverse] = temp[col]\n",
    "                reverse -= 1\n",
    "            output.append(temp)\n",
    "    return output"
   ]
  },
  {
   "cell_type": "code",
   "execution_count": 108,
   "id": "e1fa64f3-12b2-4cf5-b6a2-1e68f63e958e",
   "metadata": {
    "tags": []
   },
   "outputs": [
    {
     "name": "stderr",
     "output_type": "stream",
     "text": [
      "ic| row_num: 1\n",
      "ic| row_num: 2\n",
      "ic| row_num: 3\n"
     ]
    },
    {
     "data": {
      "text/plain": [
       "[[1], [1, 1], [1, 2, 1]]"
      ]
     },
     "execution_count": 108,
     "metadata": {},
     "output_type": "execute_result"
    }
   ],
   "source": [
    "generate(3)"
   ]
  },
  {
   "cell_type": "markdown",
   "id": "4976de01-211e-48e2-a8d2-ce50d528f0f7",
   "metadata": {},
   "source": [
    "## 119. Pascal's Triangle II"
   ]
  },
  {
   "cell_type": "code",
   "execution_count": 9,
   "id": "4f67c5b9-ae22-47de-a4b2-ba8914c108d4",
   "metadata": {
    "tags": []
   },
   "outputs": [],
   "source": [
    "# My Solution\n",
    "def generate(rowIndex):\n",
    "    if rowIndex == 0:\n",
    "        return [1]\n",
    "    if rowIndex == 1:\n",
    "        return [1,1]\n",
    "    else:                         # 2nd idx [1,2,1]\n",
    "        prev = [1,1]\n",
    "        for i in range(2, rowIndex + 1):\n",
    "            ic(i)\n",
    "            ic(prev)\n",
    "            window = 0\n",
    "            forward = 1\n",
    "            reverse = -2\n",
    "            new = [1] * (i + 1)\n",
    "            for ite in range(int(i/2)):\n",
    "                ic(ite)\n",
    "                ic(int(rowIndex/2))\n",
    "                new[forward] = sum(prev[window:window+2])\n",
    "                new[reverse] = new[forward]\n",
    "                window += 1\n",
    "                forward += 1\n",
    "                reverse -= 1\n",
    "            prev = new\n",
    "    return prev"
   ]
  },
  {
   "cell_type": "code",
   "execution_count": 57,
   "id": "f1eaf744-23b0-4878-af18-7b19d06b0d6e",
   "metadata": {
    "tags": []
   },
   "outputs": [
    {
     "name": "stderr",
     "output_type": "stream",
     "text": [
      "ic| i: 2\n",
      "ic| prev: [1, 1]\n",
      "ic| ite: 0\n",
      "ic| int(rowIndex/2): 2\n",
      "ic| i: 3\n",
      "ic| prev: [1, 2, 1]\n",
      "ic| ite: 0\n",
      "ic| int(rowIndex/2): 2\n",
      "ic| i: 4\n",
      "ic| prev: [1, 3, 3, 1]\n",
      "ic| ite: 0\n",
      "ic| int(rowIndex/2): 2\n",
      "ic| ite: 1\n",
      "ic| int(rowIndex/2): 2\n"
     ]
    },
    {
     "data": {
      "text/plain": [
       "[1, 4, 6, 4, 1]"
      ]
     },
     "execution_count": 57,
     "metadata": {},
     "output_type": "execute_result"
    }
   ],
   "source": [
    "generate(4)"
   ]
  },
  {
   "cell_type": "markdown",
   "id": "8f1ab476-8f13-45e8-8571-019e383ea8fb",
   "metadata": {},
   "source": [
    "## 121. Best Time to Buy and Sell Stock"
   ]
  },
  {
   "cell_type": "code",
   "execution_count": 3,
   "id": "4face5cb-2e6c-4d20-b0fb-dbfb8d1c521b",
   "metadata": {
    "tags": []
   },
   "outputs": [],
   "source": [
    "prices = [7,1,5,3,6,4]\n",
    "prices1 = [2,4,1]"
   ]
  },
  {
   "cell_type": "code",
   "execution_count": 8,
   "id": "aa9fb8b5-76a2-466a-8ed6-d3104f14730d",
   "metadata": {
    "tags": []
   },
   "outputs": [],
   "source": [
    "# My Solution\n",
    "def maxprofit(prices):\n",
    "    maximum = prices[0]\n",
    "    minimum = prices[0]\n",
    "    maxp = 0\n",
    "    for current in prices[1:]:\n",
    "        if current < minimum:\n",
    "            minimum = current\n",
    "            maximum = current\n",
    "            continue\n",
    "        if current > maximum:\n",
    "            maximum = current\n",
    "        maxp = max(maxp, (maximum - minimum))\n",
    "    return maxp"
   ]
  },
  {
   "cell_type": "code",
   "execution_count": 7,
   "id": "278fd349-5ffb-48f6-9dff-a5809038f9b3",
   "metadata": {
    "tags": []
   },
   "outputs": [
    {
     "data": {
      "text/plain": [
       "2"
      ]
     },
     "execution_count": 7,
     "metadata": {},
     "output_type": "execute_result"
    }
   ],
   "source": [
    "maxprofit(prices1)"
   ]
  },
  {
   "cell_type": "markdown",
   "id": "3efd631d-7fea-46a2-ac47-3769f9de58f0",
   "metadata": {},
   "source": [
    "## 125. Valid Palindrome"
   ]
  },
  {
   "cell_type": "code",
   "execution_count": 25,
   "id": "0e13f0fc-bc82-42e5-85a5-061ad07b34fc",
   "metadata": {
    "tags": []
   },
   "outputs": [],
   "source": [
    "s = \"A man, a plan, a canal: Panama\""
   ]
  },
  {
   "cell_type": "code",
   "execution_count": 32,
   "id": "cbbd3372-b7e8-4d26-a182-dc7595473d30",
   "metadata": {
    "tags": []
   },
   "outputs": [],
   "source": [
    "# My Solution\n",
    "def ispalindrome(s):\n",
    "    s1 = \"\"\n",
    "    for i in s.lower():\n",
    "        if i.isalnum():\n",
    "            s1 += i\n",
    "    left = 0\n",
    "    right = len(s1)-1\n",
    "    while left < right:\n",
    "        if s1[left] != s1[right]:\n",
    "            return False\n",
    "        left += 1\n",
    "        right -= 1\n",
    "    return True"
   ]
  },
  {
   "cell_type": "code",
   "execution_count": 33,
   "id": "5e947f6f-456b-4fd9-aa2d-7689ebbafd29",
   "metadata": {
    "tags": []
   },
   "outputs": [
    {
     "data": {
      "text/plain": [
       "True"
      ]
     },
     "execution_count": 33,
     "metadata": {},
     "output_type": "execute_result"
    }
   ],
   "source": [
    "ispalindrome(s)"
   ]
  },
  {
   "cell_type": "markdown",
   "id": "e70688bc-2f58-4ecf-9258-b3eb7dab6bdf",
   "metadata": {},
   "source": [
    "## 136. Single Number"
   ]
  },
  {
   "cell_type": "code",
   "execution_count": 34,
   "id": "b234c9f4-a930-42b7-b285-04995d1ea350",
   "metadata": {
    "tags": []
   },
   "outputs": [],
   "source": [
    "nums = [4,1,2,1,2]"
   ]
  },
  {
   "cell_type": "code",
   "execution_count": 52,
   "id": "78bdd644-2ca7-4993-8ab9-2f4d55380a5a",
   "metadata": {
    "tags": []
   },
   "outputs": [],
   "source": [
    "def single_number(nums):\n",
    "    count = {}\n",
    "    for i in nums:\n",
    "        if i not in count:\n",
    "            count[i] = 1\n",
    "        else:\n",
    "            count.pop(i)\n",
    "    return next(iter(count))"
   ]
  },
  {
   "cell_type": "code",
   "execution_count": 53,
   "id": "0f1d184c-ba1b-4768-9968-d8581c502b8f",
   "metadata": {
    "tags": []
   },
   "outputs": [
    {
     "data": {
      "text/plain": [
       "4"
      ]
     },
     "execution_count": 53,
     "metadata": {},
     "output_type": "execute_result"
    }
   ],
   "source": [
    "single_number(nums)"
   ]
  },
  {
   "cell_type": "markdown",
   "id": "f44abb78-46e7-4f1d-98ed-7ebbcaa12908",
   "metadata": {},
   "source": [
    "## 141. Linked List Cycle"
   ]
  },
  {
   "cell_type": "code",
   "execution_count": 55,
   "id": "8bafbd48-b6cb-4d73-b72a-69f14b918871",
   "metadata": {
    "tags": []
   },
   "outputs": [],
   "source": [
    "# Floyd's Tortoise and Hare: https://www.youtube.com/watch?v=gBTe7lFR3vc\n",
    "def hasCycle(head):\n",
    "    slow, fast = head, head\n",
    "    while fast and fast.next:\n",
    "        slow = slow.next\n",
    "        fast = fast.next.next\n",
    "        if slow == fast:\n",
    "            return True\n",
    "    return False"
   ]
  },
  {
   "cell_type": "markdown",
   "id": "c2ae680a-4b3f-47f4-8577-f55b923b74e9",
   "metadata": {},
   "source": [
    "## 144. Binary Tree Preorder Traversal"
   ]
  },
  {
   "cell_type": "code",
   "execution_count": 58,
   "id": "28bb7c77-b751-4ab9-a97f-fd05ea0abc3d",
   "metadata": {
    "tags": []
   },
   "outputs": [],
   "source": [
    "# Visualization: https://www.youtube.com/watch?v=1WxLM2hwL-U\n",
    "def preorderTraversal(root):\n",
    "    res = []\n",
    "    def preorder(root):\n",
    "        if not root:\n",
    "            return None\n",
    "        res.append(root.val)\n",
    "        preorder(root.left)\n",
    "        preorder(root.right)\n",
    "    preorder(root)\n",
    "    return res"
   ]
  },
  {
   "cell_type": "markdown",
   "id": "4c4bb03b-0945-4430-abb7-c24635756379",
   "metadata": {},
   "source": [
    "## 145. Binary Tree Postorder Traversal"
   ]
  },
  {
   "cell_type": "code",
   "execution_count": 60,
   "id": "b5bbcca9-d480-45df-8149-1abb986c2309",
   "metadata": {
    "tags": []
   },
   "outputs": [],
   "source": [
    "# Visualization: https://www.youtube.com/watch?v=4zVdfkpcT6U\n",
    "def postorderTraversal(root):\n",
    "    res = []\n",
    "    def postorder(root):\n",
    "        if not root:\n",
    "            return None\n",
    "        postorder(root.left)\n",
    "        postorder(root.right)\n",
    "        res.append(root.val)\n",
    "    postorder(root)\n",
    "    return res"
   ]
  },
  {
   "cell_type": "markdown",
   "id": "7032eadc-d708-4ca7-9740-7f40a116207a",
   "metadata": {},
   "source": [
    "## 160. Intersection of Two Linked Lists"
   ]
  },
  {
   "cell_type": "code",
   "execution_count": 4,
   "id": "9254d94a-84c5-4bc1-9148-f9709d1924bf",
   "metadata": {},
   "outputs": [],
   "source": [
    "# Best Solution O(m+n) time: https://youtu.be/D0X0BONOQhI?si=okeUJ1mTJUfvVuk5\n",
    "def getIntersectionNode(headA, headB):\n",
    "    p1, p2 = headA, headB\n",
    "    while p1 != p2:\n",
    "        p1 = p1.next if p1 else headB\n",
    "        p2 = p2.next if p2 else headA\n",
    "    return p1"
   ]
  },
  {
   "cell_type": "markdown",
   "id": "f098b9d2-b56e-4bb4-ba8b-41338b08a1b3",
   "metadata": {},
   "source": [
    "## 168. Excel Sheet Column Title"
   ]
  },
  {
   "cell_type": "code",
   "execution_count": 119,
   "id": "a270ba26-e263-484b-9193-b1a202496ccb",
   "metadata": {
    "tags": []
   },
   "outputs": [
    {
     "name": "stderr",
     "output_type": "stream",
     "text": [
      "ic| 1000%26: 12\n",
      "ic| 1000//26: 38\n",
      "ic| 38%26: 12\n",
      "ic| 38//26: 1\n",
      "ic| 1%26: 1\n",
      "ic| 1//26: 0\n"
     ]
    },
    {
     "data": {
      "text/plain": [
       "0"
      ]
     },
     "execution_count": 119,
     "metadata": {},
     "output_type": "execute_result"
    }
   ],
   "source": [
    "ic(1000%26)\n",
    "ic(1000//26)\n",
    "ic(38%26)\n",
    "ic(38//26)\n",
    "ic(1%26)\n",
    "ic(1//26)"
   ]
  },
  {
   "cell_type": "code",
   "execution_count": 111,
   "id": "97efa4a6-5511-4bd7-9556-a2f682a41dec",
   "metadata": {
    "tags": []
   },
   "outputs": [],
   "source": [
    "def convertToTitle(columnNumber: int):\n",
    "    alpha = \"ABCDEFGHIJKLMNOPQRSTUVWXYZ\"\n",
    "    res = \"\"\n",
    "    while columnNumber > 0:\n",
    "        ic(columnNumber)\n",
    "        res += alpha[(columnNumber-1)%26]\n",
    "        ic(res)\n",
    "        columnNumber = (columnNumber-1) // 26\n",
    "        ic(columnNumber)\n",
    "    return res[::-1]"
   ]
  },
  {
   "cell_type": "code",
   "execution_count": 113,
   "id": "256f31cc-0720-4a53-a20b-53e9a7e5b396",
   "metadata": {
    "tags": []
   },
   "outputs": [
    {
     "name": "stderr",
     "output_type": "stream",
     "text": [
      "ic| columnNumber: 1000\n",
      "ic| res: 'L'\n",
      "ic| columnNumber: 38\n",
      "ic| columnNumber: 38\n",
      "ic| res: 'LL'\n",
      "ic| columnNumber: 1\n",
      "ic| columnNumber: 1\n",
      "ic| res: 'LLA'\n",
      "ic| columnNumber: 0\n"
     ]
    },
    {
     "data": {
      "text/plain": [
       "'ALL'"
      ]
     },
     "execution_count": 113,
     "metadata": {},
     "output_type": "execute_result"
    }
   ],
   "source": [
    "convertToTitle(1000)"
   ]
  },
  {
   "cell_type": "markdown",
   "id": "a5400bfb-9ce4-424f-bfac-41c1885cfeb9",
   "metadata": {},
   "source": [
    "## 169. Majority Element"
   ]
  },
  {
   "cell_type": "code",
   "execution_count": 134,
   "id": "7a876eb2-9211-43e2-b701-ca556f038637",
   "metadata": {
    "tags": []
   },
   "outputs": [],
   "source": [
    "nums = [3,2,3,3,3,2]"
   ]
  },
  {
   "cell_type": "code",
   "execution_count": 143,
   "id": "92fa9aa7-1587-43f0-a3bc-81dc31b55b73",
   "metadata": {
    "tags": []
   },
   "outputs": [],
   "source": [
    "from collections import defaultdict\n",
    "count = defaultdict(int)\n",
    "length = len(nums)/2\n",
    "for i in nums:\n",
    "    count[i] += 1\n",
    "    if count[i] >= length:\n",
    "        break"
   ]
  },
  {
   "cell_type": "code",
   "execution_count": 144,
   "id": "11273a5c-f719-437c-9288-1506875b348a",
   "metadata": {
    "tags": []
   },
   "outputs": [
    {
     "data": {
      "text/plain": [
       "defaultdict(int, {3: 3, 2: 1})"
      ]
     },
     "execution_count": 144,
     "metadata": {},
     "output_type": "execute_result"
    }
   ],
   "source": [
    "count"
   ]
  },
  {
   "cell_type": "code",
   "execution_count": 2,
   "id": "dd58d980-22e5-4ae0-a180-e85c1de66542",
   "metadata": {},
   "outputs": [],
   "source": [
    "nums = [2,2,1,1,1,2,2]"
   ]
  },
  {
   "cell_type": "code",
   "execution_count": 4,
   "id": "cc04b53c-8087-495a-852d-caeef5041fbb",
   "metadata": {
    "tags": []
   },
   "outputs": [],
   "source": [
    "# Best Solution: https://youtu.be/7pnhv842keE?si=FQ7BReW3_lTM6Q_Q\n",
    "def majorityElement(nums):\n",
    "    num, count = 0, 0\n",
    "    for i in nums:\n",
    "        if count == 0:\n",
    "            num = i\n",
    "        count += (1 if i == num else -1)\n",
    "    return num"
   ]
  },
  {
   "cell_type": "markdown",
   "id": "87c499d8-cd7b-4385-a989-74765be64e6d",
   "metadata": {},
   "source": [
    "## 171. Excel Sheet Column Number"
   ]
  },
  {
   "cell_type": "code",
   "execution_count": 11,
   "id": "83246042-056e-434b-9f18-8e417442c9dd",
   "metadata": {
    "tags": []
   },
   "outputs": [],
   "source": [
    "from string import ascii_uppercase"
   ]
  },
  {
   "cell_type": "code",
   "execution_count": 23,
   "id": "923640f6-84b1-4b6b-9cdc-f76a15d8ebf1",
   "metadata": {
    "tags": []
   },
   "outputs": [],
   "source": [
    "# for i in ascii_uppercase:\n",
    "#     print(ord(i)-64)"
   ]
  },
  {
   "cell_type": "code",
   "execution_count": 24,
   "id": "66f8e843-24a4-4251-8625-87caca116d28",
   "metadata": {
    "tags": []
   },
   "outputs": [],
   "source": [
    "# My Solution\n",
    "def title_to_num(title):\n",
    "    start = 0\n",
    "    count = 0\n",
    "    for i in title[::-1]:\n",
    "        count += ((ord(i)-64)*(26**start))\n",
    "        start += 1\n",
    "    return count"
   ]
  },
  {
   "cell_type": "code",
   "execution_count": 22,
   "id": "1feff351-472f-4bed-a5e6-cc8e42872b76",
   "metadata": {
    "tags": []
   },
   "outputs": [
    {
     "data": {
      "text/plain": [
       "1000"
      ]
     },
     "execution_count": 22,
     "metadata": {},
     "output_type": "execute_result"
    }
   ],
   "source": [
    "title_to_num(\"ALL\")"
   ]
  },
  {
   "cell_type": "markdown",
   "id": "10524777-2ee8-4aec-826c-294ad638a009",
   "metadata": {},
   "source": [
    "## 181. Employees Earning More Than Their Managers"
   ]
  },
  {
   "cell_type": "code",
   "execution_count": 4,
   "id": "418b2980-e747-4417-a3ad-057b4d526d0a",
   "metadata": {
    "tags": []
   },
   "outputs": [],
   "source": [
    "data = [[1, 'Joe', 70000, 3], [2, 'Henry', 80000, 4], [3, 'Sam', 60000, None], [4, 'Max', 90000, None]]\n",
    "employee = pd.DataFrame(data, columns=['id', 'name', 'salary', 'managerId']).astype({'id':'Int64', 'name':'object', 'salary':'Int64', 'managerId':'Int64'})"
   ]
  },
  {
   "cell_type": "code",
   "execution_count": 5,
   "id": "9195c64b-77bf-4c3a-85c9-432f5c04fc2d",
   "metadata": {
    "tags": []
   },
   "outputs": [
    {
     "data": {
      "text/html": [
       "<div>\n",
       "<style scoped>\n",
       "    .dataframe tbody tr th:only-of-type {\n",
       "        vertical-align: middle;\n",
       "    }\n",
       "\n",
       "    .dataframe tbody tr th {\n",
       "        vertical-align: top;\n",
       "    }\n",
       "\n",
       "    .dataframe thead th {\n",
       "        text-align: right;\n",
       "    }\n",
       "</style>\n",
       "<table border=\"1\" class=\"dataframe\">\n",
       "  <thead>\n",
       "    <tr style=\"text-align: right;\">\n",
       "      <th></th>\n",
       "      <th>id</th>\n",
       "      <th>name</th>\n",
       "      <th>salary</th>\n",
       "      <th>managerId</th>\n",
       "    </tr>\n",
       "  </thead>\n",
       "  <tbody>\n",
       "    <tr>\n",
       "      <th>0</th>\n",
       "      <td>1</td>\n",
       "      <td>Joe</td>\n",
       "      <td>70000</td>\n",
       "      <td>3</td>\n",
       "    </tr>\n",
       "    <tr>\n",
       "      <th>1</th>\n",
       "      <td>2</td>\n",
       "      <td>Henry</td>\n",
       "      <td>80000</td>\n",
       "      <td>4</td>\n",
       "    </tr>\n",
       "    <tr>\n",
       "      <th>2</th>\n",
       "      <td>3</td>\n",
       "      <td>Sam</td>\n",
       "      <td>60000</td>\n",
       "      <td>&lt;NA&gt;</td>\n",
       "    </tr>\n",
       "    <tr>\n",
       "      <th>3</th>\n",
       "      <td>4</td>\n",
       "      <td>Max</td>\n",
       "      <td>90000</td>\n",
       "      <td>&lt;NA&gt;</td>\n",
       "    </tr>\n",
       "  </tbody>\n",
       "</table>\n",
       "</div>"
      ],
      "text/plain": [
       "   id   name  salary  managerId\n",
       "0   1    Joe   70000          3\n",
       "1   2  Henry   80000          4\n",
       "2   3    Sam   60000       <NA>\n",
       "3   4    Max   90000       <NA>"
      ]
     },
     "execution_count": 5,
     "metadata": {},
     "output_type": "execute_result"
    }
   ],
   "source": [
    "employee"
   ]
  },
  {
   "cell_type": "code",
   "execution_count": 12,
   "id": "3e544b8c-192b-4fcf-b862-6e67e4c06ec7",
   "metadata": {
    "tags": []
   },
   "outputs": [
    {
     "data": {
      "text/html": [
       "<div>\n",
       "<style scoped>\n",
       "    .dataframe tbody tr th:only-of-type {\n",
       "        vertical-align: middle;\n",
       "    }\n",
       "\n",
       "    .dataframe tbody tr th {\n",
       "        vertical-align: top;\n",
       "    }\n",
       "\n",
       "    .dataframe thead th {\n",
       "        text-align: right;\n",
       "    }\n",
       "</style>\n",
       "<table border=\"1\" class=\"dataframe\">\n",
       "  <thead>\n",
       "    <tr style=\"text-align: right;\">\n",
       "      <th></th>\n",
       "      <th>id</th>\n",
       "      <th>name</th>\n",
       "      <th>salary</th>\n",
       "      <th>managerId</th>\n",
       "    </tr>\n",
       "  </thead>\n",
       "  <tbody>\n",
       "    <tr>\n",
       "      <th>2</th>\n",
       "      <td>3</td>\n",
       "      <td>Sam</td>\n",
       "      <td>60000</td>\n",
       "      <td>&lt;NA&gt;</td>\n",
       "    </tr>\n",
       "    <tr>\n",
       "      <th>3</th>\n",
       "      <td>4</td>\n",
       "      <td>Max</td>\n",
       "      <td>90000</td>\n",
       "      <td>&lt;NA&gt;</td>\n",
       "    </tr>\n",
       "  </tbody>\n",
       "</table>\n",
       "</div>"
      ],
      "text/plain": [
       "   id name  salary  managerId\n",
       "2   3  Sam   60000       <NA>\n",
       "3   4  Max   90000       <NA>"
      ]
     },
     "execution_count": 12,
     "metadata": {},
     "output_type": "execute_result"
    }
   ],
   "source": [
    "x = employee.loc[employee.id.isin(employee.managerId)]\n",
    "x"
   ]
  },
  {
   "cell_type": "code",
   "execution_count": 13,
   "id": "05a30a8d-7335-4ab6-958b-25ed96a7cebe",
   "metadata": {
    "tags": []
   },
   "outputs": [
    {
     "data": {
      "text/html": [
       "<div>\n",
       "<style scoped>\n",
       "    .dataframe tbody tr th:only-of-type {\n",
       "        vertical-align: middle;\n",
       "    }\n",
       "\n",
       "    .dataframe tbody tr th {\n",
       "        vertical-align: top;\n",
       "    }\n",
       "\n",
       "    .dataframe thead th {\n",
       "        text-align: right;\n",
       "    }\n",
       "</style>\n",
       "<table border=\"1\" class=\"dataframe\">\n",
       "  <thead>\n",
       "    <tr style=\"text-align: right;\">\n",
       "      <th></th>\n",
       "      <th>id</th>\n",
       "      <th>name</th>\n",
       "      <th>salary</th>\n",
       "      <th>managerId</th>\n",
       "    </tr>\n",
       "  </thead>\n",
       "  <tbody>\n",
       "    <tr>\n",
       "      <th>0</th>\n",
       "      <td>1</td>\n",
       "      <td>Joe</td>\n",
       "      <td>70000</td>\n",
       "      <td>3</td>\n",
       "    </tr>\n",
       "    <tr>\n",
       "      <th>1</th>\n",
       "      <td>2</td>\n",
       "      <td>Henry</td>\n",
       "      <td>80000</td>\n",
       "      <td>4</td>\n",
       "    </tr>\n",
       "  </tbody>\n",
       "</table>\n",
       "</div>"
      ],
      "text/plain": [
       "   id   name  salary  managerId\n",
       "0   1    Joe   70000          3\n",
       "1   2  Henry   80000          4"
      ]
     },
     "execution_count": 13,
     "metadata": {},
     "output_type": "execute_result"
    }
   ],
   "source": [
    "y = employee.loc[~employee.managerId.isna()]\n",
    "y"
   ]
  },
  {
   "cell_type": "code",
   "execution_count": 50,
   "id": "56497bb8-b352-45b3-a5c4-a0fe83105fff",
   "metadata": {
    "tags": []
   },
   "outputs": [
    {
     "data": {
      "text/html": [
       "<div>\n",
       "<style scoped>\n",
       "    .dataframe tbody tr th:only-of-type {\n",
       "        vertical-align: middle;\n",
       "    }\n",
       "\n",
       "    .dataframe tbody tr th {\n",
       "        vertical-align: top;\n",
       "    }\n",
       "\n",
       "    .dataframe thead th {\n",
       "        text-align: right;\n",
       "    }\n",
       "</style>\n",
       "<table border=\"1\" class=\"dataframe\">\n",
       "  <thead>\n",
       "    <tr style=\"text-align: right;\">\n",
       "      <th></th>\n",
       "      <th>id_x</th>\n",
       "      <th>name_x</th>\n",
       "      <th>salary_x</th>\n",
       "      <th>managerId_x</th>\n",
       "      <th>id_y</th>\n",
       "      <th>name_y</th>\n",
       "      <th>salary_y</th>\n",
       "      <th>managerId_y</th>\n",
       "    </tr>\n",
       "  </thead>\n",
       "  <tbody>\n",
       "    <tr>\n",
       "      <th>0</th>\n",
       "      <td>1</td>\n",
       "      <td>Joe</td>\n",
       "      <td>70000</td>\n",
       "      <td>3</td>\n",
       "      <td>3</td>\n",
       "      <td>Sam</td>\n",
       "      <td>60000</td>\n",
       "      <td>&lt;NA&gt;</td>\n",
       "    </tr>\n",
       "    <tr>\n",
       "      <th>1</th>\n",
       "      <td>2</td>\n",
       "      <td>Henry</td>\n",
       "      <td>80000</td>\n",
       "      <td>4</td>\n",
       "      <td>4</td>\n",
       "      <td>Max</td>\n",
       "      <td>90000</td>\n",
       "      <td>&lt;NA&gt;</td>\n",
       "    </tr>\n",
       "  </tbody>\n",
       "</table>\n",
       "</div>"
      ],
      "text/plain": [
       "   id_x name_x  salary_x  managerId_x  id_y name_y  salary_y  managerId_y\n",
       "0     1    Joe     70000            3     3    Sam     60000         <NA>\n",
       "1     2  Henry     80000            4     4    Max     90000         <NA>"
      ]
     },
     "execution_count": 50,
     "metadata": {},
     "output_type": "execute_result"
    }
   ],
   "source": [
    "z = pd.merge(employee, employee, left_on = \"managerId\", right_on = \"id\")\n",
    "z"
   ]
  },
  {
   "cell_type": "code",
   "execution_count": 52,
   "id": "d9cb647b-9718-42d2-a2ea-17187cfdcfa4",
   "metadata": {
    "tags": []
   },
   "outputs": [
    {
     "data": {
      "text/html": [
       "<div>\n",
       "<style scoped>\n",
       "    .dataframe tbody tr th:only-of-type {\n",
       "        vertical-align: middle;\n",
       "    }\n",
       "\n",
       "    .dataframe tbody tr th {\n",
       "        vertical-align: top;\n",
       "    }\n",
       "\n",
       "    .dataframe thead th {\n",
       "        text-align: right;\n",
       "    }\n",
       "</style>\n",
       "<table border=\"1\" class=\"dataframe\">\n",
       "  <thead>\n",
       "    <tr style=\"text-align: right;\">\n",
       "      <th></th>\n",
       "      <th>Employee</th>\n",
       "    </tr>\n",
       "  </thead>\n",
       "  <tbody>\n",
       "    <tr>\n",
       "      <th>0</th>\n",
       "      <td>Joe</td>\n",
       "    </tr>\n",
       "  </tbody>\n",
       "</table>\n",
       "</div>"
      ],
      "text/plain": [
       "  Employee\n",
       "0      Joe"
      ]
     },
     "execution_count": 52,
     "metadata": {},
     "output_type": "execute_result"
    }
   ],
   "source": [
    "z.loc[z.salary_x>z.salary_y][\"name_x\"].to_frame().rename(columns = {\"name_x\":\"Employee\"})"
   ]
  },
  {
   "cell_type": "markdown",
   "id": "40c96580-fc55-40d5-b5ad-bec8e9fc292c",
   "metadata": {},
   "source": [
    "## 183. Customers Who Never Order"
   ]
  },
  {
   "cell_type": "code",
   "execution_count": 5,
   "id": "99a89439-adbd-4dc9-b0e0-0347524ad667",
   "metadata": {
    "tags": []
   },
   "outputs": [],
   "source": [
    "data = [[1, 'Joe'], [2, 'Henry'], [3, 'Sam'], [4, 'Max']]\n",
    "customers = pd.DataFrame(data, columns=['id', 'name']).astype({'id':'Int64', 'name':'object'})\n",
    "data = [[1, 3], [2, 1]]\n",
    "orders = pd.DataFrame(data, columns=['id', 'customerId']).astype({'id':'Int64', 'customerId':'Int64'})"
   ]
  },
  {
   "cell_type": "code",
   "execution_count": 6,
   "id": "971835fd-41f9-4707-99e4-838d5770a092",
   "metadata": {
    "tags": []
   },
   "outputs": [
    {
     "data": {
      "text/html": [
       "<div>\n",
       "<style scoped>\n",
       "    .dataframe tbody tr th:only-of-type {\n",
       "        vertical-align: middle;\n",
       "    }\n",
       "\n",
       "    .dataframe tbody tr th {\n",
       "        vertical-align: top;\n",
       "    }\n",
       "\n",
       "    .dataframe thead th {\n",
       "        text-align: right;\n",
       "    }\n",
       "</style>\n",
       "<table border=\"1\" class=\"dataframe\">\n",
       "  <thead>\n",
       "    <tr style=\"text-align: right;\">\n",
       "      <th></th>\n",
       "      <th>id</th>\n",
       "      <th>name</th>\n",
       "    </tr>\n",
       "  </thead>\n",
       "  <tbody>\n",
       "    <tr>\n",
       "      <th>0</th>\n",
       "      <td>1</td>\n",
       "      <td>Joe</td>\n",
       "    </tr>\n",
       "    <tr>\n",
       "      <th>1</th>\n",
       "      <td>2</td>\n",
       "      <td>Henry</td>\n",
       "    </tr>\n",
       "    <tr>\n",
       "      <th>2</th>\n",
       "      <td>3</td>\n",
       "      <td>Sam</td>\n",
       "    </tr>\n",
       "    <tr>\n",
       "      <th>3</th>\n",
       "      <td>4</td>\n",
       "      <td>Max</td>\n",
       "    </tr>\n",
       "  </tbody>\n",
       "</table>\n",
       "</div>"
      ],
      "text/plain": [
       "   id   name\n",
       "0   1    Joe\n",
       "1   2  Henry\n",
       "2   3    Sam\n",
       "3   4    Max"
      ]
     },
     "execution_count": 6,
     "metadata": {},
     "output_type": "execute_result"
    }
   ],
   "source": [
    "customers"
   ]
  },
  {
   "cell_type": "code",
   "execution_count": 7,
   "id": "3f40bd79-000f-42a9-8e95-04d05d9b0f2b",
   "metadata": {
    "tags": []
   },
   "outputs": [
    {
     "data": {
      "text/html": [
       "<div>\n",
       "<style scoped>\n",
       "    .dataframe tbody tr th:only-of-type {\n",
       "        vertical-align: middle;\n",
       "    }\n",
       "\n",
       "    .dataframe tbody tr th {\n",
       "        vertical-align: top;\n",
       "    }\n",
       "\n",
       "    .dataframe thead th {\n",
       "        text-align: right;\n",
       "    }\n",
       "</style>\n",
       "<table border=\"1\" class=\"dataframe\">\n",
       "  <thead>\n",
       "    <tr style=\"text-align: right;\">\n",
       "      <th></th>\n",
       "      <th>id</th>\n",
       "      <th>customerId</th>\n",
       "    </tr>\n",
       "  </thead>\n",
       "  <tbody>\n",
       "    <tr>\n",
       "      <th>0</th>\n",
       "      <td>1</td>\n",
       "      <td>3</td>\n",
       "    </tr>\n",
       "    <tr>\n",
       "      <th>1</th>\n",
       "      <td>2</td>\n",
       "      <td>1</td>\n",
       "    </tr>\n",
       "  </tbody>\n",
       "</table>\n",
       "</div>"
      ],
      "text/plain": [
       "   id  customerId\n",
       "0   1           3\n",
       "1   2           1"
      ]
     },
     "execution_count": 7,
     "metadata": {},
     "output_type": "execute_result"
    }
   ],
   "source": [
    "orders"
   ]
  },
  {
   "cell_type": "code",
   "execution_count": 12,
   "id": "c08da0f7-6e09-4abc-ac03-98d2ef54c5a8",
   "metadata": {
    "tags": []
   },
   "outputs": [
    {
     "data": {
      "text/html": [
       "<div>\n",
       "<style scoped>\n",
       "    .dataframe tbody tr th:only-of-type {\n",
       "        vertical-align: middle;\n",
       "    }\n",
       "\n",
       "    .dataframe tbody tr th {\n",
       "        vertical-align: top;\n",
       "    }\n",
       "\n",
       "    .dataframe thead th {\n",
       "        text-align: right;\n",
       "    }\n",
       "</style>\n",
       "<table border=\"1\" class=\"dataframe\">\n",
       "  <thead>\n",
       "    <tr style=\"text-align: right;\">\n",
       "      <th></th>\n",
       "      <th>name</th>\n",
       "    </tr>\n",
       "  </thead>\n",
       "  <tbody>\n",
       "    <tr>\n",
       "      <th>1</th>\n",
       "      <td>Henry</td>\n",
       "    </tr>\n",
       "    <tr>\n",
       "      <th>3</th>\n",
       "      <td>Max</td>\n",
       "    </tr>\n",
       "  </tbody>\n",
       "</table>\n",
       "</div>"
      ],
      "text/plain": [
       "    name\n",
       "1  Henry\n",
       "3    Max"
      ]
     },
     "execution_count": 12,
     "metadata": {},
     "output_type": "execute_result"
    }
   ],
   "source": [
    "customers.loc[~customers.id.isin(orders.customerId)][\"name\"].to_frame()"
   ]
  },
  {
   "cell_type": "markdown",
   "id": "604f884d-f871-47f2-9b63-c577ec4e1ab4",
   "metadata": {},
   "source": [
    "## 190. Reverse Bits"
   ]
  },
  {
   "cell_type": "code",
   "execution_count": 61,
   "id": "ae3acb27-b9e3-42f3-b527-e6bbba330092",
   "metadata": {
    "tags": []
   },
   "outputs": [],
   "source": [
    "n = 43261596"
   ]
  },
  {
   "cell_type": "code",
   "execution_count": 62,
   "id": "a7ed5666-af49-4f67-942d-ea6318ce4993",
   "metadata": {
    "tags": []
   },
   "outputs": [],
   "source": [
    "# My Solution\n",
    "def reverse_bits(n):\n",
    "    if n < 0:\n",
    "        n = bin(n)[3:][::-1]\n",
    "    else:\n",
    "        n = bin(n)[2:][::-1]\n",
    "    return int(n + \"0\"*(32-len(n)), 2)"
   ]
  },
  {
   "cell_type": "code",
   "execution_count": 64,
   "id": "05ae7b5a-9a8a-4d4b-bdf6-7ca5c8b18043",
   "metadata": {
    "tags": []
   },
   "outputs": [
    {
     "data": {
      "text/plain": [
       "964176192"
      ]
     },
     "execution_count": 64,
     "metadata": {},
     "output_type": "execute_result"
    }
   ],
   "source": [
    "reverse_bits(n)"
   ]
  },
  {
   "cell_type": "code",
   "execution_count": 77,
   "id": "64c1b710-e963-450b-b728-464cdee2b672",
   "metadata": {
    "tags": []
   },
   "outputs": [
    {
     "data": {
      "text/plain": [
       "3"
      ]
     },
     "execution_count": 77,
     "metadata": {},
     "output_type": "execute_result"
    }
   ],
   "source": [
    "2 | 1"
   ]
  },
  {
   "cell_type": "code",
   "execution_count": 83,
   "id": "d08c5bd0-1d87-4ecb-ba69-c3846a6ab1e6",
   "metadata": {
    "tags": []
   },
   "outputs": [],
   "source": [
    "# Bit Manipulation: https://www.youtube.com/watch?v=LJiMk8lPJNc\n",
    "def reverse_bits(n):\n",
    "    res = 0\n",
    "    for i in range(32):\n",
    "        bit = (n >> i) & 1\n",
    "        res = res | (bit << (31 - i))\n",
    "    return res"
   ]
  },
  {
   "cell_type": "code",
   "execution_count": 79,
   "id": "5543266e-f0c1-4164-a79b-028449d54316",
   "metadata": {
    "tags": []
   },
   "outputs": [
    {
     "data": {
      "text/plain": [
       "964176192"
      ]
     },
     "execution_count": 79,
     "metadata": {},
     "output_type": "execute_result"
    }
   ],
   "source": [
    "reverse_bits(n)"
   ]
  },
  {
   "cell_type": "markdown",
   "id": "f717ffcf-35f1-49f5-b87c-c18bc71be1da",
   "metadata": {},
   "source": [
    "## 191. Number of 1 Bits"
   ]
  },
  {
   "cell_type": "code",
   "execution_count": 80,
   "id": "7398cc57-09a9-45c5-bc15-25248e815383",
   "metadata": {
    "tags": []
   },
   "outputs": [],
   "source": [
    "n = 11"
   ]
  },
  {
   "cell_type": "code",
   "execution_count": 84,
   "id": "687ebbfe-8bbc-45ae-a301-657018b91110",
   "metadata": {
    "tags": []
   },
   "outputs": [],
   "source": [
    "# My Solution\n",
    "def hamming_weight(n):\n",
    "    res = 0\n",
    "    for i in range(32):\n",
    "        bit = (n >> i) & 1\n",
    "        res += (1 if bit == 1 else 0)\n",
    "    return res"
   ]
  },
  {
   "cell_type": "code",
   "execution_count": 82,
   "id": "aaaa885a-e616-4d62-8675-40210d3a6192",
   "metadata": {
    "tags": []
   },
   "outputs": [
    {
     "data": {
      "text/plain": [
       "3"
      ]
     },
     "execution_count": 82,
     "metadata": {},
     "output_type": "execute_result"
    }
   ],
   "source": [
    "hamming_weight(n)"
   ]
  },
  {
   "cell_type": "markdown",
   "id": "ed91a654-b71f-4032-959c-9ebb5100bb33",
   "metadata": {},
   "source": [
    "## 202. Happy Number"
   ]
  },
  {
   "cell_type": "code",
   "execution_count": 85,
   "id": "85d17e2c-b8b0-4ef4-ac15-a71b540004ce",
   "metadata": {
    "tags": []
   },
   "outputs": [],
   "source": [
    "n = 19"
   ]
  },
  {
   "cell_type": "code",
   "execution_count": 106,
   "id": "1ff2f6eb-34d4-4ae8-9fd7-d6f555031a43",
   "metadata": {
    "tags": []
   },
   "outputs": [],
   "source": [
    "# My Solution\n",
    "def ishappy(n):\n",
    "    track = set()\n",
    "    track.add(n)\n",
    "    res = n\n",
    "    while res != 1:\n",
    "        res = 0\n",
    "        for i in str(n):\n",
    "            res += int(i) ** 2\n",
    "        if res in track:\n",
    "            return False\n",
    "        track.add(res)\n",
    "        n = res\n",
    "    return True"
   ]
  },
  {
   "cell_type": "code",
   "execution_count": 108,
   "id": "7646bdac-4538-4841-9dd4-1c9a263eeb7e",
   "metadata": {
    "tags": []
   },
   "outputs": [
    {
     "data": {
      "text/plain": [
       "True"
      ]
     },
     "execution_count": 108,
     "metadata": {},
     "output_type": "execute_result"
    }
   ],
   "source": [
    "ishappy(1)"
   ]
  },
  {
   "cell_type": "markdown",
   "id": "ec8b9bc6-0d1e-494f-a900-ac79b6bf7e89",
   "metadata": {},
   "source": [
    "## 203. Remove Linked List Elements"
   ]
  },
  {
   "cell_type": "code",
   "execution_count": 125,
   "id": "bf9de8ce-326a-4553-96a6-10feb22c641b",
   "metadata": {
    "tags": []
   },
   "outputs": [],
   "source": [
    "# My Solution\n",
    "def removeElements(head, val):\n",
    "    while head and (head.val == val):\n",
    "        head = head.next\n",
    "    prev, curr = head, head\n",
    "    while curr:\n",
    "        if curr.val == val:\n",
    "            prev.next = curr.next\n",
    "        else:\n",
    "            prev = curr\n",
    "        curr = curr.next\n",
    "    return head"
   ]
  },
  {
   "cell_type": "markdown",
   "id": "d0ad335f-8141-4afe-ad39-60ef745f5c3e",
   "metadata": {},
   "source": [
    "## 205. Isomorphic Strings"
   ]
  },
  {
   "cell_type": "code",
   "execution_count": 116,
   "id": "9669575c-5b3a-4075-b932-e5df4f29df89",
   "metadata": {
    "tags": []
   },
   "outputs": [],
   "source": [
    "s = \"paper\"\n",
    "t = \"title\""
   ]
  },
  {
   "cell_type": "code",
   "execution_count": 121,
   "id": "0c24ca4a-e9cb-46ff-98f8-ace14b9f20c0",
   "metadata": {
    "tags": []
   },
   "outputs": [],
   "source": [
    "# My Solution\n",
    "def isomorphic(s, t):\n",
    "    track = dict()\n",
    "    val = set()\n",
    "    if len(s) != len(t):\n",
    "        return False\n",
    "    for i in range(len(s)):\n",
    "        if (s[i] not in track) and (t[i] not in val):\n",
    "            track[s[i]] = t[i]\n",
    "            val.add(t[i])\n",
    "        else:\n",
    "            if track.get(s[i], 0) != t[i]:\n",
    "                return False\n",
    "    return True"
   ]
  },
  {
   "cell_type": "code",
   "execution_count": 118,
   "id": "9a140b1c-0b41-4ae6-bc33-37e89719ab17",
   "metadata": {
    "tags": []
   },
   "outputs": [
    {
     "data": {
      "text/plain": [
       "True"
      ]
     },
     "execution_count": 118,
     "metadata": {},
     "output_type": "execute_result"
    }
   ],
   "source": [
    "isomorphic(s, t)"
   ]
  },
  {
   "cell_type": "code",
   "execution_count": 119,
   "id": "8e44df1a-430c-48ae-b23d-7caaa49b43bf",
   "metadata": {
    "tags": []
   },
   "outputs": [
    {
     "data": {
      "text/plain": [
       "False"
      ]
     },
     "execution_count": 119,
     "metadata": {},
     "output_type": "execute_result"
    }
   ],
   "source": [
    "s = \"foo\"\n",
    "t = \"bar\"\n",
    "isomorphic(s, t)"
   ]
  },
  {
   "cell_type": "code",
   "execution_count": 120,
   "id": "2a167403-6049-4b50-9701-876ce0308b91",
   "metadata": {
    "tags": []
   },
   "outputs": [
    {
     "data": {
      "text/plain": [
       "False"
      ]
     },
     "execution_count": 120,
     "metadata": {},
     "output_type": "execute_result"
    }
   ],
   "source": [
    "s = \"badc\"\n",
    "t = \"baba\"\n",
    "isomorphic(s, t)"
   ]
  },
  {
   "cell_type": "markdown",
   "id": "9e011655-4118-47a7-8823-199df0b3388f",
   "metadata": {},
   "source": [
    "## 206. Reverse Linked List"
   ]
  },
  {
   "cell_type": "code",
   "execution_count": 2,
   "id": "7f3410d8-5374-491b-89eb-165d1cf20754",
   "metadata": {},
   "outputs": [],
   "source": [
    "# Best Solution: https://youtu.be/G0_I-ZF0S38?si=3Nauksw350I-npgD\n",
    "# 3 pointer approach\n",
    "def reverseList(head):\n",
    "    prev = None\n",
    "    curr = head\n",
    "    while curr:\n",
    "        nxt = curr.next\n",
    "        curr.next = prev\n",
    "        prev = curr\n",
    "        curr = nxt\n",
    "    return prev"
   ]
  },
  {
   "cell_type": "markdown",
   "id": "0344c2cd-47cb-4b77-abc8-8c6b4ebb1927",
   "metadata": {},
   "source": [
    "## 217. Contains Duplicate"
   ]
  },
  {
   "cell_type": "code",
   "execution_count": 13,
   "id": "4dc431ea-1723-453e-9f53-96dbb2213213",
   "metadata": {
    "tags": []
   },
   "outputs": [],
   "source": [
    "nums = [1,2,3,1]"
   ]
  },
  {
   "cell_type": "code",
   "execution_count": 14,
   "id": "d640a06f-ab20-4770-a3f2-796c1fa18983",
   "metadata": {
    "tags": []
   },
   "outputs": [],
   "source": [
    "def contains_duplicates(nums):\n",
    "    track = defaultdict(int)\n",
    "    for num in nums:\n",
    "        track[num] += 1\n",
    "        if track[num] > 1:\n",
    "            return True\n",
    "    return False"
   ]
  },
  {
   "cell_type": "code",
   "execution_count": 15,
   "id": "6c06290e-b5cc-456c-a256-e6c493a01867",
   "metadata": {
    "tags": []
   },
   "outputs": [
    {
     "data": {
      "text/plain": [
       "True"
      ]
     },
     "execution_count": 15,
     "metadata": {},
     "output_type": "execute_result"
    }
   ],
   "source": [
    "contains_duplicates(nums)"
   ]
  },
  {
   "cell_type": "code",
   "execution_count": 16,
   "id": "4f0e1d14-92aa-4e11-a482-7135e2831fd5",
   "metadata": {
    "tags": []
   },
   "outputs": [
    {
     "data": {
      "text/plain": [
       "False"
      ]
     },
     "execution_count": 16,
     "metadata": {},
     "output_type": "execute_result"
    }
   ],
   "source": [
    "nums = [1,2,3,4]\n",
    "contains_duplicates(nums)"
   ]
  },
  {
   "cell_type": "markdown",
   "id": "bc03182d-9152-4b6e-b270-1d2eb2488533",
   "metadata": {},
   "source": [
    "## 219. Contains Duplicate II"
   ]
  },
  {
   "cell_type": "code",
   "execution_count": 64,
   "id": "5fb03f7f-8be3-4840-a2b6-1f7523ed9100",
   "metadata": {
    "tags": []
   },
   "outputs": [],
   "source": [
    "nums = [1,2,3,1,2,3]\n",
    "k = 2"
   ]
  },
  {
   "cell_type": "code",
   "execution_count": 84,
   "id": "cbaa989b-dab2-486e-9a43-0cdc2f267636",
   "metadata": {
    "tags": []
   },
   "outputs": [],
   "source": [
    "# My Solution\n",
    "def nearby_duplicates(nums, k):\n",
    "    track = set()\n",
    "    start, end = 0, k + 1\n",
    "    for i in nums[start:end]:\n",
    "        if i in track:\n",
    "            return True\n",
    "        else:\n",
    "            track.add(i)\n",
    "    ic(track)\n",
    "    for j in range(len(nums) - k - 1):\n",
    "        ic(start)\n",
    "        ic(nums[start])\n",
    "        ic(track)\n",
    "        track.remove(nums[start])\n",
    "        ic(track)\n",
    "        ic(end)\n",
    "        if nums[end] in track:\n",
    "            return True\n",
    "        else:\n",
    "            track.add(nums[end])\n",
    "        start += 1\n",
    "        end += 1\n",
    "    return False"
   ]
  },
  {
   "cell_type": "code",
   "execution_count": 66,
   "id": "ffd91475-ad3e-46cd-9def-c86b3cdb86f0",
   "metadata": {
    "tags": []
   },
   "outputs": [
    {
     "name": "stderr",
     "output_type": "stream",
     "text": [
      "ic| track: {1, 2, 3}\n",
      "ic| start: 0\n",
      "ic| nums[start]: 1\n",
      "ic| track: {1, 2, 3}\n",
      "ic| track: {2, 3}\n",
      "ic| end: 3\n",
      "ic| start: 1\n",
      "ic| nums[start]: 2\n",
      "ic| track: {1, 2, 3}\n",
      "ic| track: {1, 3}\n",
      "ic| end: 4\n",
      "ic| start: 2\n",
      "ic| nums[start]: 3\n",
      "ic| track: {1, 2, 3}\n",
      "ic| track: {1, 2}\n",
      "ic| end: 5\n"
     ]
    },
    {
     "data": {
      "text/plain": [
       "False"
      ]
     },
     "execution_count": 66,
     "metadata": {},
     "output_type": "execute_result"
    }
   ],
   "source": [
    "nearby_duplicates(nums, k)"
   ]
  },
  {
   "cell_type": "code",
   "execution_count": 67,
   "id": "a2fee890-7e4e-4174-ab4d-e19b57b47ad3",
   "metadata": {
    "tags": []
   },
   "outputs": [
    {
     "data": {
      "text/plain": [
       "True"
      ]
     },
     "execution_count": 67,
     "metadata": {},
     "output_type": "execute_result"
    }
   ],
   "source": [
    "nums = [1,2,3,1]\n",
    "k = 3\n",
    "nearby_duplicates(nums, k)"
   ]
  },
  {
   "cell_type": "code",
   "execution_count": 68,
   "id": "8de2eb41-9e3e-4b4f-b4b6-869cf921ff40",
   "metadata": {
    "tags": []
   },
   "outputs": [
    {
     "name": "stderr",
     "output_type": "stream",
     "text": [
      "ic| track: {0, 1}\n",
      "ic| start: 0\n",
      "ic| nums[start]: 1\n",
      "ic| track: {0, 1}\n",
      "ic| track: {0}\n",
      "ic| end: 2\n",
      "ic| start: 1\n",
      "ic| nums[start]: 0\n",
      "ic| track: {0, 1}\n",
      "ic| track: {1}\n",
      "ic| end: 3\n"
     ]
    },
    {
     "data": {
      "text/plain": [
       "True"
      ]
     },
     "execution_count": 68,
     "metadata": {},
     "output_type": "execute_result"
    }
   ],
   "source": [
    "nums = [1,0,1,1]\n",
    "k = 1\n",
    "nearby_duplicates(nums, k)"
   ]
  },
  {
   "cell_type": "markdown",
   "id": "150cb40a-c5a9-4c1a-9049-a85769ad07fa",
   "metadata": {},
   "source": [
    "## 225. Implement Stack using Queues"
   ]
  },
  {
   "cell_type": "code",
   "execution_count": 83,
   "id": "73d1e528-c496-435a-b973-ee6ae854cd86",
   "metadata": {
    "tags": []
   },
   "outputs": [],
   "source": [
    "# My Solution\n",
    "class MyStack:\n",
    "    def __init__(self):\n",
    "        self.myStack = deque()\n",
    "\n",
    "    def push(self, x: int) -> None:\n",
    "        self.myStack.appendleft(x)\n",
    "\n",
    "    def pop(self) -> int:\n",
    "        return self.myStack.popleft()\n",
    "\n",
    "    def top(self) -> int:\n",
    "        return self.myStack[0]\n",
    "\n",
    "    def empty(self) -> bool:\n",
    "        if len(self.myStack) == 0:\n",
    "            return True\n",
    "        return False"
   ]
  },
  {
   "cell_type": "markdown",
   "id": "ec97696e-5b44-4918-bb8b-1f581d044d19",
   "metadata": {},
   "source": [
    "## 226. Invert Binary Tree"
   ]
  },
  {
   "cell_type": "code",
   "execution_count": 82,
   "id": "fd5ef5af-2f77-489e-941c-c0a26cb6a67b",
   "metadata": {
    "tags": []
   },
   "outputs": [],
   "source": [
    "# Recursion Solution: https://www.youtube.com/watch?v=OnSn2XEQ4MY\n",
    "def invertTree(root):\n",
    "    if not root:\n",
    "        return None\n",
    "    temp = root.left\n",
    "    root.left = root.right\n",
    "    root.right = temp\n",
    "    self.invertTree(root.left)\n",
    "    self.invertTree(root.right)\n",
    "    return root"
   ]
  },
  {
   "cell_type": "markdown",
   "id": "7379c384-90cf-4808-9250-5de31eed1fc3",
   "metadata": {},
   "source": [
    "## 231. Power of Two"
   ]
  },
  {
   "cell_type": "code",
   "execution_count": 181,
   "id": "4f02de99-f048-4506-9bab-dc934e586aa7",
   "metadata": {
    "tags": []
   },
   "outputs": [],
   "source": [
    "# Best Solution: https://www.youtube.com/watch?v=4cqHahxFTYw\n",
    "# Check out other cool solutions in runtime distribution chart\n",
    "from math import ceil, floor, log2\n",
    "def power_of_two(n):\n",
    "    if n == 0:\n",
    "        return False\n",
    "    if ceil(log2(n)) == floor(log2(n)):\n",
    "        return True\n",
    "    return False"
   ]
  },
  {
   "cell_type": "code",
   "execution_count": 182,
   "id": "9f0bb43e-56e0-4c87-b019-ad5f8bbadbf3",
   "metadata": {
    "tags": []
   },
   "outputs": [
    {
     "data": {
      "text/plain": [
       "True"
      ]
     },
     "execution_count": 182,
     "metadata": {},
     "output_type": "execute_result"
    }
   ],
   "source": [
    "power_of_two(1)"
   ]
  },
  {
   "cell_type": "markdown",
   "id": "f1c8783b-efd2-450f-ad4b-633964433489",
   "metadata": {},
   "source": [
    "## 232. Implement Queue using Stacks"
   ]
  },
  {
   "cell_type": "code",
   "execution_count": 1,
   "id": "357d8b75-018e-420e-8160-021ac397a582",
   "metadata": {},
   "outputs": [],
   "source": [
    "# Pointer approach\n",
    "class MyQueue:\n",
    "\n",
    "    def __init__(self):\n",
    "        self.myQueue = []\n",
    "        self.start = 0\n",
    "        self.end = 0\n",
    "\n",
    "    def push(self, x: int) -> None:\n",
    "        self.myQueue.append(x)\n",
    "        self.end += 1\n",
    "\n",
    "    def pop(self) -> int:\n",
    "        if(self.start == self.end):\n",
    "            return -1\n",
    "        first = self.myQueue[self.start]\n",
    "        self.start += 1\n",
    "        return first\n",
    "\n",
    "    def peek(self) -> int:\n",
    "        return self.myQueue[self.start]\n",
    "\n",
    "    def empty(self) -> bool:\n",
    "        return (self.start == self.end)"
   ]
  },
  {
   "cell_type": "markdown",
   "id": "9c4fd20c-688e-4c6b-a8ec-12ef82beac72",
   "metadata": {},
   "source": [
    "## 234. Palindrome Linked List"
   ]
  },
  {
   "cell_type": "code",
   "execution_count": 2,
   "id": "141a0ad2-5873-4e39-b415-13f91d824958",
   "metadata": {
    "tags": []
   },
   "outputs": [],
   "source": [
    "# Best Solution O(n) time and O(1) memory: https://youtu.be/yOzXms1J6Nk?si=MfF7EnrNA8Fr6bJV\n",
    "def isPalindrome(head):\n",
    "    # Finding the mid point in the list using slow and fast pointer\n",
    "    slow = head\n",
    "    fast = head\n",
    "    while fast and fast.next:\n",
    "        slow = slow.next\n",
    "        fast = fast.next.next\n",
    "\n",
    "    # Reversing the 2nd half of the list\n",
    "    prev = None\n",
    "    while slow:\n",
    "        nxt = slow.next\n",
    "        slow.next = prev\n",
    "        prev = slow\n",
    "        slow = nxt\n",
    "\n",
    "    # Standard palindorme comparision\n",
    "    while prev:\n",
    "        if head.val != prev.val:\n",
    "            return False\n",
    "        head = head.next\n",
    "        prev = prev.next\n",
    "    return True"
   ]
  },
  {
   "cell_type": "markdown",
   "id": "2aad8201-2363-4281-a962-36fef34673ed",
   "metadata": {},
   "source": [
    "## 242. Valid Anagram"
   ]
  },
  {
   "cell_type": "code",
   "execution_count": 61,
   "id": "1c25f7f8-a4f8-4fe8-9e30-451913aff813",
   "metadata": {
    "tags": []
   },
   "outputs": [],
   "source": [
    "s = \"rat\"\n",
    "t = \"car\""
   ]
  },
  {
   "cell_type": "code",
   "execution_count": 14,
   "id": "a787e245-ad83-4a08-875e-a2994832251e",
   "metadata": {
    "tags": []
   },
   "outputs": [],
   "source": [
    "s = sorted(s)\n",
    "t = sorted(t)"
   ]
  },
  {
   "cell_type": "code",
   "execution_count": 16,
   "id": "237db648-c457-4d79-958d-cc1cf958a0ad",
   "metadata": {
    "tags": []
   },
   "outputs": [
    {
     "name": "stdout",
     "output_type": "stream",
     "text": [
      "['a', 'r', 't']\n",
      "['a', 'c', 'r']\n"
     ]
    }
   ],
   "source": [
    "print(s)\n",
    "print(t)"
   ]
  },
  {
   "cell_type": "code",
   "execution_count": 22,
   "id": "52e17c04-93a4-47c8-b088-042e322559a1",
   "metadata": {
    "tags": []
   },
   "outputs": [],
   "source": [
    "# Sorting Solution\n",
    "def anagram(s, t):\n",
    "    for i in range(len(s)):\n",
    "        if s[i] != t[i]:\n",
    "            return False\n",
    "    return True"
   ]
  },
  {
   "cell_type": "code",
   "execution_count": 23,
   "id": "a21de806-92a1-44e0-a4c3-266228489713",
   "metadata": {
    "tags": []
   },
   "outputs": [
    {
     "data": {
      "text/plain": [
       "False"
      ]
     },
     "execution_count": 23,
     "metadata": {},
     "output_type": "execute_result"
    }
   ],
   "source": [
    "anagaram(s, t)"
   ]
  },
  {
   "cell_type": "code",
   "execution_count": 58,
   "id": "87574023-13c3-4299-b599-988637ce828b",
   "metadata": {
    "tags": []
   },
   "outputs": [],
   "source": [
    "# Hash map solution\n",
    "def anagram(s, t):\n",
    "    if len(s) != len(t):\n",
    "        return False\n",
    "    s_hash = defaultdict(int)\n",
    "    t_hash = defaultdict(int)\n",
    "    for i in range(len(s)):\n",
    "        s_hash[s[i]] += 1\n",
    "        t_hash[t[i]] += 1\n",
    "    ic(s_hash)\n",
    "    ic(t_hash)\n",
    "    for i in s_hash.keys():\n",
    "        if s_hash.get(i, 0) != t_hash.get(i, 0):\n",
    "            return False\n",
    "    return True"
   ]
  },
  {
   "cell_type": "code",
   "execution_count": 62,
   "id": "ad07c59a-7a6d-4f72-aa7e-ae6197048ade",
   "metadata": {
    "tags": []
   },
   "outputs": [
    {
     "name": "stderr",
     "output_type": "stream",
     "text": [
      "ic| s_hash: defaultdict(<class 'int'>, {'r': 1, 'a': 1, 't': 1})\n",
      "ic| t_hash: defaultdict(<class 'int'>, {'c': 1, 'a': 1, 'r': 1})\n"
     ]
    },
    {
     "data": {
      "text/plain": [
       "False"
      ]
     },
     "execution_count": 62,
     "metadata": {},
     "output_type": "execute_result"
    }
   ],
   "source": [
    "anagram(s, t)"
   ]
  },
  {
   "cell_type": "code",
   "execution_count": 59,
   "id": "396a5c3a-e315-4b75-a165-d8ee6aaba75b",
   "metadata": {
    "tags": []
   },
   "outputs": [],
   "source": [
    "s = \"anagram\"\n",
    "t = \"nagaram\""
   ]
  },
  {
   "cell_type": "code",
   "execution_count": 60,
   "id": "2f85486e-ff98-4f0e-b132-7c974eccdccf",
   "metadata": {
    "tags": []
   },
   "outputs": [
    {
     "name": "stderr",
     "output_type": "stream",
     "text": [
      "ic| s_hash: defaultdict(<class 'int'>, {'a': 3, 'n': 1, 'g': 1, 'r': 1, 'm': 1})\n",
      "ic| t_hash: defaultdict(<class 'int'>, {'n': 1, 'a': 3, 'g': 1, 'r': 1, 'm': 1})\n"
     ]
    },
    {
     "data": {
      "text/plain": [
       "True"
      ]
     },
     "execution_count": 60,
     "metadata": {},
     "output_type": "execute_result"
    }
   ],
   "source": [
    "anagram(s, t)"
   ]
  },
  {
   "cell_type": "markdown",
   "id": "79e7dc7d-c8e9-4b79-9f78-7f456625def6",
   "metadata": {},
   "source": [
    "## 257. Binary Tree Paths"
   ]
  },
  {
   "cell_type": "code",
   "execution_count": 66,
   "id": "379445a2-7a59-41b7-addc-7b1364fd9b12",
   "metadata": {
    "tags": []
   },
   "outputs": [],
   "source": [
    "# Recursion Solution using dfs\n",
    "def binaryTreePaths(root):\n",
    "    res = []\n",
    "\n",
    "    def dfs(root, path):\n",
    "        if not root:\n",
    "            return\n",
    "\n",
    "        if (root.left == None) and (root.right == None):\n",
    "            path.append(str(root.val))\n",
    "            res.append(\"->\".join(path))\n",
    "            path.pop()\n",
    "\n",
    "        path.append(str(root.val))\n",
    "        dfs(root.left, path)\n",
    "        dfs(root.right, path)\n",
    "        path.pop()\n",
    "\n",
    "    dfs(root, [])\n",
    "    return res"
   ]
  },
  {
   "cell_type": "markdown",
   "id": "c780d0b6-6376-4a53-850b-69f8963cd5c5",
   "metadata": {},
   "source": [
    "## 258. Add Digits"
   ]
  },
  {
   "cell_type": "code",
   "execution_count": 9,
   "id": "81371dbd-4acd-40df-ba77-a8c4a8db1611",
   "metadata": {
    "tags": []
   },
   "outputs": [],
   "source": [
    "# My Solution\n",
    "def add_digit(num):\n",
    "    while (num // 10) != 0:\n",
    "        su = 0\n",
    "        while num != 0:\n",
    "            su = su + (num % 10)\n",
    "            num = num // 10\n",
    "        num = su\n",
    "    return num"
   ]
  },
  {
   "cell_type": "code",
   "execution_count": 10,
   "id": "bbc64553-013b-4214-88bd-a793a21f31a5",
   "metadata": {
    "tags": []
   },
   "outputs": [
    {
     "data": {
      "text/plain": [
       "2"
      ]
     },
     "execution_count": 10,
     "metadata": {},
     "output_type": "execute_result"
    }
   ],
   "source": [
    "add_digit(38)"
   ]
  },
  {
   "cell_type": "markdown",
   "id": "dd6af140-3121-4bbc-8636-1f6079cc5a90",
   "metadata": {},
   "source": [
    "## 263. Ugly Number"
   ]
  },
  {
   "cell_type": "code",
   "execution_count": 9,
   "id": "95972a83-5da9-4ef6-aa48-2a74489af165",
   "metadata": {
    "tags": []
   },
   "outputs": [],
   "source": [
    "# Best Solution: https://youtu.be/M0Zay1Qr9ws?si=j2t2GKPWp9iytQyL\n",
    "def ugly_number(n):\n",
    "    if n <= 0:\n",
    "        return False\n",
    "    for i in [2, 3, 5]:\n",
    "        while (n % i) == 0:\n",
    "            n = n // i\n",
    "    return (n == 1)"
   ]
  },
  {
   "cell_type": "code",
   "execution_count": 10,
   "id": "54214210-59e4-42f1-9436-68c13962988d",
   "metadata": {
    "tags": []
   },
   "outputs": [
    {
     "data": {
      "text/plain": [
       "False"
      ]
     },
     "execution_count": 10,
     "metadata": {},
     "output_type": "execute_result"
    }
   ],
   "source": [
    "ugly_number(14)"
   ]
  },
  {
   "cell_type": "markdown",
   "id": "cd2a3b5a-e92b-47d4-b9ef-1d05a049f35b",
   "metadata": {},
   "source": [
    "## 268. Missing Number"
   ]
  },
  {
   "cell_type": "code",
   "execution_count": 15,
   "id": "35e9c59e-0b2f-4807-a2df-ca944e37d35e",
   "metadata": {
    "tags": []
   },
   "outputs": [],
   "source": [
    "nums = [0, 1]"
   ]
  },
  {
   "cell_type": "code",
   "execution_count": 18,
   "id": "ae634154-99b2-40ab-b147-a52c0cb0d2a6",
   "metadata": {
    "tags": []
   },
   "outputs": [],
   "source": [
    "def missing_number(nums):\n",
    "    nums = sorted(nums)\n",
    "    for i in range(len(nums)):\n",
    "        if i != nums[i]:\n",
    "            return i\n",
    "    return i + 1"
   ]
  },
  {
   "cell_type": "code",
   "execution_count": 19,
   "id": "3cd09541-ad4d-4bd8-beea-1ac482097799",
   "metadata": {
    "tags": []
   },
   "outputs": [
    {
     "data": {
      "text/plain": [
       "2"
      ]
     },
     "execution_count": 19,
     "metadata": {},
     "output_type": "execute_result"
    }
   ],
   "source": [
    "missing_number(nums)"
   ]
  },
  {
   "cell_type": "code",
   "execution_count": 35,
   "id": "2fa86dad-16c8-49a5-beef-c4f340d73beb",
   "metadata": {
    "tags": []
   },
   "outputs": [
    {
     "data": {
      "text/plain": [
       "8"
      ]
     },
     "execution_count": 35,
     "metadata": {},
     "output_type": "execute_result"
    }
   ],
   "source": [
    "nums = [9,6,4,2,3,5,7,0,1]\n",
    "missing_number(nums)"
   ]
  },
  {
   "cell_type": "code",
   "execution_count": 21,
   "id": "59f2a7eb-736c-4bd9-ac46-91f08ac6f12e",
   "metadata": {
    "tags": []
   },
   "outputs": [
    {
     "data": {
      "text/plain": [
       "2"
      ]
     },
     "execution_count": 21,
     "metadata": {},
     "output_type": "execute_result"
    }
   ],
   "source": [
    "nums = [3,0,1]\n",
    "missing_number(nums)"
   ]
  },
  {
   "cell_type": "code",
   "execution_count": 39,
   "id": "7e916138-943e-454a-82f8-eaa81575960d",
   "metadata": {
    "tags": []
   },
   "outputs": [],
   "source": [
    "# Best Solution: https://www.youtube.com/watch?v=WnPLSRLSANE\n",
    "# Finding sum of first n natural numbers using Gauss formula: https://www.youtube.com/watch?v=JH2JyPgcNDg\n",
    "def missing_number(nums):\n",
    "    return int(((len(nums)*(len(nums) + 1))/2) - sum(nums))"
   ]
  },
  {
   "cell_type": "code",
   "execution_count": 40,
   "id": "b1541dff-e84c-4aa0-9f36-f8dc03cb3e8b",
   "metadata": {
    "tags": []
   },
   "outputs": [
    {
     "data": {
      "text/plain": [
       "8"
      ]
     },
     "execution_count": 40,
     "metadata": {},
     "output_type": "execute_result"
    }
   ],
   "source": [
    "missing_number(nums)"
   ]
  },
  {
   "cell_type": "markdown",
   "id": "e3978b62-3cf9-4868-9d1c-016bf8f8b7d6",
   "metadata": {},
   "source": [
    "## 278. First Bad Version"
   ]
  },
  {
   "cell_type": "code",
   "execution_count": 41,
   "id": "95fcb9d8-5a10-4d82-ad2e-2eb2c3d586f5",
   "metadata": {
    "tags": []
   },
   "outputs": [],
   "source": [
    "# My Solution: Binary search\n",
    "def firstBadVersion(n):\n",
    "    if n == 1 or isBadVersion(1):\n",
    "        return 1\n",
    "    start, end = 1, n\n",
    "    while (end - start) != 1:\n",
    "        mid = int((start + end) / 2)\n",
    "        if isBadVersion(mid):\n",
    "            end = mid\n",
    "        else:\n",
    "            start = mid\n",
    "    return int(end)"
   ]
  },
  {
   "cell_type": "code",
   "execution_count": 43,
   "id": "4d68b4e9-6775-412b-92f5-ca282baed689",
   "metadata": {
    "tags": []
   },
   "outputs": [],
   "source": [
    "nums.sort(reverse  = True)"
   ]
  },
  {
   "cell_type": "markdown",
   "id": "bc48553f-84f8-491a-a88a-c02e39b7a4f0",
   "metadata": {},
   "source": [
    "## 283. Move Zeroes"
   ]
  },
  {
   "cell_type": "code",
   "execution_count": 45,
   "id": "f1991d2a-37e0-4cfc-abb6-59d9b4c13000",
   "metadata": {
    "tags": []
   },
   "outputs": [],
   "source": [
    "for i in range(3,3):\n",
    "    i"
   ]
  },
  {
   "cell_type": "code",
   "execution_count": 46,
   "id": "e35b8782-179d-4934-93b6-7e4ccba8a0d6",
   "metadata": {
    "tags": []
   },
   "outputs": [
    {
     "data": {
      "text/plain": [
       "[9, 7, 6, 5, 4, 3, 2, 1, 0]"
      ]
     },
     "execution_count": 46,
     "metadata": {},
     "output_type": "execute_result"
    }
   ],
   "source": [
    "nums"
   ]
  },
  {
   "cell_type": "code",
   "execution_count": 50,
   "id": "5e996dd2-e923-4dae-88ae-21cb27e8b418",
   "metadata": {
    "tags": []
   },
   "outputs": [
    {
     "data": {
      "text/plain": [
       "[9]"
      ]
     },
     "execution_count": 50,
     "metadata": {},
     "output_type": "execute_result"
    }
   ],
   "source": [
    "nums[0:1]"
   ]
  },
  {
   "cell_type": "markdown",
   "id": "cf60c50d-53c0-487b-95a9-6d627176586f",
   "metadata": {},
   "source": [
    "## 283. Move Zeroes"
   ]
  },
  {
   "cell_type": "code",
   "execution_count": 51,
   "id": "eac3ce4c-1e2d-4565-b5c8-3663314a8421",
   "metadata": {
    "tags": []
   },
   "outputs": [],
   "source": [
    "nums = [0,1,0,3,12]"
   ]
  },
  {
   "cell_type": "code",
   "execution_count": 55,
   "id": "cf52c454-6abd-46f0-8365-23996776895b",
   "metadata": {
    "tags": []
   },
   "outputs": [],
   "source": [
    "def move_zeros(nums):\n",
    "    switch = 0 \n",
    "    for curr in range(len(nums)):\n",
    "        if nums[curr] != 0:\n",
    "            nums[switch], nums[curr] = nums[curr], nums[switch]\n",
    "            switch += 1"
   ]
  },
  {
   "cell_type": "code",
   "execution_count": 56,
   "id": "8fd466c2-b944-4f8e-804d-6b9e7ec255bd",
   "metadata": {
    "tags": []
   },
   "outputs": [],
   "source": [
    "move_zeros(nums)"
   ]
  },
  {
   "cell_type": "code",
   "execution_count": 57,
   "id": "8ccd837e-b464-4464-b0a7-741539aa2f73",
   "metadata": {
    "tags": []
   },
   "outputs": [
    {
     "data": {
      "text/plain": [
       "[1, 3, 12, 0, 0]"
      ]
     },
     "execution_count": 57,
     "metadata": {},
     "output_type": "execute_result"
    }
   ],
   "source": [
    "nums"
   ]
  },
  {
   "cell_type": "markdown",
   "id": "a44100b6-b588-4f24-9e2f-22370784c4f5",
   "metadata": {},
   "source": [
    "## 290. Word Pattern"
   ]
  },
  {
   "cell_type": "code",
   "execution_count": 10,
   "id": "7e285ed1-8a5e-4452-9cd8-a88f97f2986b",
   "metadata": {
    "tags": []
   },
   "outputs": [],
   "source": [
    "pattern = \"abba\"\n",
    "s = \"dog cat cat dog\""
   ]
  },
  {
   "cell_type": "code",
   "execution_count": 12,
   "id": "3715e3e2-ddc3-479b-b89a-cd900b635ae3",
   "metadata": {},
   "outputs": [],
   "source": [
    "pattern = \"aaaa\"\n",
    "s = \"dog cat cat dog\""
   ]
  },
  {
   "cell_type": "code",
   "execution_count": 14,
   "id": "58301ff0-a65e-49d1-85ac-4725ae66aac1",
   "metadata": {
    "tags": []
   },
   "outputs": [],
   "source": [
    "pattern = \"abba\"\n",
    "s = \"dog dog dog dog\""
   ]
  },
  {
   "cell_type": "code",
   "execution_count": 16,
   "id": "0c892629-7467-4a96-a97e-66ff6261531b",
   "metadata": {
    "tags": []
   },
   "outputs": [],
   "source": [
    "# My Solution\n",
    "def word_pattern(pattern, s):\n",
    "    x = dict()\n",
    "    split = s.split()\n",
    "    for i in range(len(pattern)):\n",
    "        if (pattern[i] not in x):\n",
    "            if split[i] in x.values():\n",
    "                return False\n",
    "            x[pattern[i]] = split[i]\n",
    "        else:\n",
    "            if (x[pattern[i]] != split[i]):\n",
    "                return False\n",
    "    return True"
   ]
  },
  {
   "cell_type": "code",
   "execution_count": 15,
   "id": "6f496265-d81c-4564-9918-f1694cf092a5",
   "metadata": {
    "tags": []
   },
   "outputs": [
    {
     "data": {
      "text/plain": [
       "False"
      ]
     },
     "execution_count": 15,
     "metadata": {},
     "output_type": "execute_result"
    }
   ],
   "source": [
    "word_pattern(pattern, s)"
   ]
  },
  {
   "cell_type": "markdown",
   "id": "fdb688cd-bc17-447e-af9e-e34c3fb41aad",
   "metadata": {},
   "source": [
    "## 292. Nim Game"
   ]
  },
  {
   "cell_type": "code",
   "execution_count": 17,
   "id": "25a74e30-b71f-456e-baee-483aa9605097",
   "metadata": {
    "tags": []
   },
   "outputs": [],
   "source": [
    "# If number of stone is a multiple of 4 then I lose, in all the other cases I win\n",
    "def canWinNim(n):\n",
    "    return n % 4"
   ]
  },
  {
   "cell_type": "markdown",
   "id": "3e337295-ee95-42ad-a38b-32b574b0f919",
   "metadata": {},
   "source": [
    "## 303. Range Sum Query - Immutable"
   ]
  },
  {
   "cell_type": "code",
   "execution_count": 19,
   "id": "deb37801-5ca9-4926-896b-5bc3b18ff02f",
   "metadata": {
    "tags": []
   },
   "outputs": [],
   "source": [
    "# My Solution\n",
    "class NumArray:\n",
    "\n",
    "    def __init__(nums):\n",
    "        self.numArray = nums\n",
    "\n",
    "    def sumRange(self, left: int, right: int) -> int:\n",
    "        return sum(self.numArray[left:right+1])"
   ]
  },
  {
   "cell_type": "code",
   "execution_count": 20,
   "id": "79bac477-9af7-4430-8d07-565d97c87ce7",
   "metadata": {
    "tags": []
   },
   "outputs": [],
   "source": [
    "# Cumulative sum solution\n",
    "class NumArray:\n",
    "\n",
    "    def __init__(nums):\n",
    "        self.numArray = nums\n",
    "        self.cumsum = [0]\n",
    "        for i in range(len(nums)):\n",
    "            self.cumsum.append(self.cumsum[i] + nums[i])\n",
    "\n",
    "    def sumRange(self, left: int, right: int) -> int:\n",
    "        return (self.cumsum[right + 1] - self.cumsum[left])"
   ]
  },
  {
   "cell_type": "markdown",
   "id": "26b3ce60-c9e2-45e9-a3ed-4c2be0c03f88",
   "metadata": {},
   "source": [
    "## 326. Power of Three"
   ]
  },
  {
   "cell_type": "code",
   "execution_count": 3,
   "id": "056a1f36-a48a-4d05-a405-5f68f775fa7d",
   "metadata": {
    "tags": []
   },
   "outputs": [],
   "source": [
    "# 1162261467 is the largest valid power of 3 (larget 32 bit integer)\n",
    "def isPowerOfThree(n):\n",
    "    return n > 0 and 1162261467 % n == 0"
   ]
  },
  {
   "cell_type": "code",
   "execution_count": null,
   "id": "371c348b-e34a-4089-84ac-33651e1412c7",
   "metadata": {},
   "outputs": [],
   "source": []
  }
 ],
 "metadata": {
  "kernelspec": {
   "display_name": "Python 3 (ipykernel)",
   "language": "python",
   "name": "python3"
  },
  "language_info": {
   "codemirror_mode": {
    "name": "ipython",
    "version": 3
   },
   "file_extension": ".py",
   "mimetype": "text/x-python",
   "name": "python",
   "nbconvert_exporter": "python",
   "pygments_lexer": "ipython3",
   "version": "3.10.10"
  },
  "toc-autonumbering": false,
  "toc-showcode": false,
  "toc-showmarkdowntxt": true,
  "toc-showtags": false
 },
 "nbformat": 4,
 "nbformat_minor": 5
}
