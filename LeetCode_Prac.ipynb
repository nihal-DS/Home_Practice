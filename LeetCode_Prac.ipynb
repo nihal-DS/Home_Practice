{
 "cells": [
  {
   "cell_type": "code",
   "execution_count": 9,
   "id": "90d99c96-7a51-476e-9e03-6fcd9ac114be",
   "metadata": {
    "tags": []
   },
   "outputs": [],
   "source": [
    "from icecream import ic\n",
    "import numpy as np\n",
    "import pandas as pd\n",
    "from collections import defaultdict, deque, Counter"
   ]
  },
  {
   "cell_type": "markdown",
   "id": "75ba4006-7305-48ca-a04e-8766924a1ec5",
   "metadata": {},
   "source": [
    "## 14. Longest Common Prefix"
   ]
  },
  {
   "cell_type": "code",
   "execution_count": 25,
   "id": "8a4c316b-3dda-4eb2-93e0-fa0c7e6ed8b6",
   "metadata": {
    "tags": []
   },
   "outputs": [],
   "source": [
    "strs1 = [\"flower\",\"flow\",\"flight\"]\n",
    "strs2 = [\"dog\",\"racecar\",\"car\"]"
   ]
  },
  {
   "cell_type": "code",
   "execution_count": 26,
   "id": "92b41a23-2d2d-4a0c-9c83-50c77f4471c6",
   "metadata": {
    "tags": []
   },
   "outputs": [
    {
     "name": "stderr",
     "output_type": "stream",
     "text": [
      "ic| longest_prefix_length: 6\n",
      "ic| i: 'flower'\n",
      "ic| longest_prefix_length: 6\n",
      "ic| i: 'flow'\n",
      "ic| longest_prefix_length: 4\n",
      "ic| i: 'flight'\n",
      "ic| longest_prefix_length: 4\n"
     ]
    }
   ],
   "source": [
    "# Finding length of longest prefix possible\n",
    "longest_prefix_length = len(strs1[0])\n",
    "ic(longest_prefix_length)\n",
    "for i in strs1:\n",
    "    ic(i)\n",
    "    longest_prefix_length = min(longest_prefix_length, len(i))\n",
    "    ic(longest_prefix_length)"
   ]
  },
  {
   "cell_type": "code",
   "execution_count": 27,
   "id": "bc9b50ca-767e-4d69-97ca-f0d7a28f6119",
   "metadata": {
    "tags": []
   },
   "outputs": [
    {
     "data": {
      "text/plain": [
       "4"
      ]
     },
     "execution_count": 27,
     "metadata": {},
     "output_type": "execute_result"
    }
   ],
   "source": [
    "longest_prefix_length"
   ]
  },
  {
   "cell_type": "code",
   "execution_count": 37,
   "id": "b50fcf2d-9f71-4c78-8577-8f6d75439a96",
   "metadata": {
    "tags": []
   },
   "outputs": [
    {
     "name": "stderr",
     "output_type": "stream",
     "text": [
      "ic| string: ''\n",
      "ic| i: 0\n",
      "ic| nxt: 'f'\n",
      "ic| keep: True\n",
      "ic| j: 'flower'\n",
      "ic| start: 'f'\n",
      "ic| nxt: 'f'\n",
      "ic| j: 'flow'\n",
      "ic| start: 'f'\n",
      "ic| nxt: 'f'\n",
      "ic| j: 'flight'\n",
      "ic| start: 'f'\n",
      "ic| nxt: 'f'\n",
      "ic| string: 'f'\n",
      "ic| i: 1\n",
      "ic| nxt: 'l'\n",
      "ic| keep: True\n",
      "ic| j: 'flower'\n",
      "ic| start: 'l'\n",
      "ic| nxt: 'l'\n",
      "ic| j: 'flow'\n",
      "ic| start: 'l'\n",
      "ic| nxt: 'l'\n",
      "ic| j: 'flight'\n",
      "ic| start: 'l'\n",
      "ic| nxt: 'l'\n",
      "ic| string: 'fl'\n",
      "ic| i: 2\n",
      "ic| nxt: 'o'\n",
      "ic| keep: True\n",
      "ic| j: 'flower'\n",
      "ic| start: 'o'\n",
      "ic| nxt: 'o'\n",
      "ic| j: 'flow'\n",
      "ic| start: 'o'\n",
      "ic| nxt: 'o'\n",
      "ic| j: 'flight'\n",
      "ic| start: 'i'\n"
     ]
    }
   ],
   "source": [
    "# My solution\n",
    "string = \"\"\n",
    "ic(string)\n",
    "for i in range(longest_prefix_length):\n",
    "    ic(i)\n",
    "    nxt = strs1[0][i]\n",
    "    ic(nxt)\n",
    "    keep = True\n",
    "    ic(keep)\n",
    "    for j in strs1:\n",
    "        ic(j)\n",
    "        start = j[i]\n",
    "        ic(start)\n",
    "        if start != nxt:\n",
    "            keep = False\n",
    "            break\n",
    "        nxt = start\n",
    "        ic(nxt)\n",
    "    if keep == False:\n",
    "        break\n",
    "    else:\n",
    "        string += strs1[0][i]\n",
    "        ic(string)"
   ]
  },
  {
   "cell_type": "code",
   "execution_count": 36,
   "id": "543cb9c4-a395-4406-82cd-1a3a15afb7f4",
   "metadata": {
    "tags": []
   },
   "outputs": [
    {
     "data": {
      "text/plain": [
       "'fl'"
      ]
     },
     "execution_count": 36,
     "metadata": {},
     "output_type": "execute_result"
    }
   ],
   "source": [
    "string"
   ]
  },
  {
   "cell_type": "code",
   "execution_count": 39,
   "id": "38a323c5-3b8e-479e-99af-f5cb32206454",
   "metadata": {
    "tags": []
   },
   "outputs": [
    {
     "name": "stderr",
     "output_type": "stream",
     "text": [
      "ic| sorted_strs1: ['flight', 'flow', 'flower']\n"
     ]
    }
   ],
   "source": [
    "# Best solution\n",
    "sorted_strs1 = sorted(strs1)\n",
    "ic(sorted_strs1)               # https://leetcode.com/problems/longest-common-prefix/solutions/3273176/python3-c-java-19-ms-beats-99-91/\n",
    "first = sorted_strs1[0]\n",
    "last = sorted_strs1[-1]\n",
    "string = \"\"\n",
    "for i in range(min(len(first), len(last))):\n",
    "    if first[i] == last[i]:\n",
    "        string += first[i]\n",
    "    else:\n",
    "        break"
   ]
  },
  {
   "cell_type": "code",
   "execution_count": 42,
   "id": "e34504b3-3c08-4d43-86de-647d0b3f2bd7",
   "metadata": {
    "tags": []
   },
   "outputs": [
    {
     "data": {
      "text/plain": [
       "'fl'"
      ]
     },
     "execution_count": 42,
     "metadata": {},
     "output_type": "execute_result"
    }
   ],
   "source": [
    "string"
   ]
  },
  {
   "cell_type": "markdown",
   "id": "1c5a291b-de93-4597-8a58-c5b581c14226",
   "metadata": {},
   "source": [
    "## 20. Valid Parentheses"
   ]
  },
  {
   "cell_type": "code",
   "execution_count": 70,
   "id": "cca226b0-0b8b-4ec4-b116-97bd2f213a21",
   "metadata": {
    "tags": []
   },
   "outputs": [],
   "source": [
    "s1 = \"()[]{}\"\n",
    "s2 = \"(]\"\n",
    "s3 = \"{[]}\""
   ]
  },
  {
   "cell_type": "code",
   "execution_count": 88,
   "id": "3f556cc0-fc6c-48ff-b560-3eb143eac775",
   "metadata": {
    "tags": []
   },
   "outputs": [],
   "source": [
    "# Best Solution\n",
    "def valid_parentheses(s):    \n",
    "    stack = []\n",
    "    for para in s:\n",
    "        if para in \"([{\":\n",
    "            stack.append(para)\n",
    "        else:\n",
    "            if not stack or \\\n",
    "            (para == \")\" and stack[-1] != \"(\") or \\\n",
    "            (para == \"]\" and stack[-1] != \"[\") or \\\n",
    "            (para == \"}\" and stack[-1] != \"{\"):\n",
    "                return False\n",
    "            stack.pop()\n",
    "    return not stack"
   ]
  },
  {
   "cell_type": "code",
   "execution_count": 89,
   "id": "0cb09d0a-cad0-47f3-891f-24f3a96d12ed",
   "metadata": {
    "tags": []
   },
   "outputs": [
    {
     "data": {
      "text/plain": [
       "False"
      ]
     },
     "execution_count": 89,
     "metadata": {},
     "output_type": "execute_result"
    }
   ],
   "source": [
    "valid_parentheses(s2)"
   ]
  },
  {
   "cell_type": "code",
   "execution_count": 90,
   "id": "fc379541-71cf-4e8d-956f-bd333d3ee039",
   "metadata": {
    "tags": []
   },
   "outputs": [
    {
     "data": {
      "text/plain": [
       "True"
      ]
     },
     "execution_count": 90,
     "metadata": {},
     "output_type": "execute_result"
    }
   ],
   "source": [
    "valid_parentheses(s3)"
   ]
  },
  {
   "cell_type": "markdown",
   "id": "700229de-0f4b-4aa8-8cc8-49f35e553cf6",
   "metadata": {
    "tags": []
   },
   "source": [
    "## 27. Remove Element"
   ]
  },
  {
   "cell_type": "code",
   "execution_count": 158,
   "id": "9fc86441-5575-4586-8d6f-2547d59a2148",
   "metadata": {
    "tags": []
   },
   "outputs": [],
   "source": [
    "nums = [0,1,2,2,3,0,4,2]\n",
    "val = 2"
   ]
  },
  {
   "cell_type": "code",
   "execution_count": 176,
   "id": "777143e8-f96a-4c41-b38d-7d1b61e3c280",
   "metadata": {
    "tags": []
   },
   "outputs": [],
   "source": [
    "# My Solution\n",
    "def remove_elements(nums):\n",
    "    for i in reversed(range(len(nums))):\n",
    "        if nums[i] == val:\n",
    "            nums.pop(i)\n",
    "    return len(nums)"
   ]
  },
  {
   "cell_type": "code",
   "execution_count": 177,
   "id": "f25f46b4-358e-4dca-99b2-c1b94aded07f",
   "metadata": {},
   "outputs": [
    {
     "data": {
      "text/plain": [
       "5"
      ]
     },
     "execution_count": 177,
     "metadata": {},
     "output_type": "execute_result"
    }
   ],
   "source": [
    "remove_elements(nums)"
   ]
  },
  {
   "cell_type": "code",
   "execution_count": 178,
   "id": "b67f31e1-9d75-4ff6-a24f-21ad8a0923b3",
   "metadata": {
    "tags": []
   },
   "outputs": [
    {
     "data": {
      "text/plain": [
       "[0, 1, 3, 0, 4]"
      ]
     },
     "execution_count": 178,
     "metadata": {},
     "output_type": "execute_result"
    }
   ],
   "source": [
    "nums"
   ]
  },
  {
   "cell_type": "code",
   "execution_count": 179,
   "id": "f6cc49ee-f48f-4070-8a38-8c6189ec79a0",
   "metadata": {
    "tags": []
   },
   "outputs": [],
   "source": [
    "# Alternate Solution\n",
    "def removeElement(nums):\n",
    "    index = 0\n",
    "    for i in range(len(nums)):\n",
    "        if nums[i] != val:\n",
    "            nums[index] = nums[i]\n",
    "            index += 1\n",
    "    return index"
   ]
  },
  {
   "cell_type": "markdown",
   "id": "4b798196-19ae-4ca4-8752-23d26bae769a",
   "metadata": {},
   "source": [
    "## 28. Find the Index of the First Occurrence in a String"
   ]
  },
  {
   "cell_type": "code",
   "execution_count": 180,
   "id": "308054f5-5e0d-48c8-813e-7f5ab027570f",
   "metadata": {
    "tags": []
   },
   "outputs": [],
   "source": [
    "haystack = \"sadbutsad\"\n",
    "needle = \"sad\""
   ]
  },
  {
   "cell_type": "code",
   "execution_count": 191,
   "id": "7420fb59-896f-42de-be06-b4091aa715d5",
   "metadata": {
    "tags": []
   },
   "outputs": [
    {
     "name": "stderr",
     "output_type": "stream",
     "text": [
      "ic| idx: 0\n",
      "ic| needle: 'sad'\n",
      "ic| haystack[idx : idx + len(needle)]: 'sad'\n",
      "ic| idx: 1\n",
      "ic| idx: 2\n",
      "ic| idx: 3\n",
      "ic| idx: 4\n",
      "ic| idx: 5\n",
      "ic| idx: 6\n",
      "ic| needle: 'sad'\n",
      "ic| haystack[idx : idx + len(needle)]: 'sad'\n"
     ]
    },
    {
     "name": "stdout",
     "output_type": "stream",
     "text": [
      "0\n",
      "6\n"
     ]
    }
   ],
   "source": [
    "# My Solution\n",
    "for idx in range(len(haystack) - len(needle) + 1):\n",
    "    ic(idx)\n",
    "    if needle == haystack[idx : idx + len(needle)]:\n",
    "        ic(needle)\n",
    "        ic(haystack[idx : idx + len(needle)])\n",
    "        print(idx)"
   ]
  },
  {
   "cell_type": "code",
   "execution_count": 193,
   "id": "2e8b2ca0-fd92-4295-9127-1f39207d43bb",
   "metadata": {
    "tags": []
   },
   "outputs": [
    {
     "data": {
      "text/plain": [
       "0"
      ]
     },
     "execution_count": 193,
     "metadata": {},
     "output_type": "execute_result"
    }
   ],
   "source": [
    "# Alternate Solution\n",
    "haystack.find(needle)"
   ]
  },
  {
   "cell_type": "markdown",
   "id": "35db625b-3e29-4fb9-a57b-fbeae6ad1fde",
   "metadata": {},
   "source": [
    "## 35. Search Insert Position"
   ]
  },
  {
   "cell_type": "code",
   "execution_count": 195,
   "id": "23cf4d69-eba0-4636-af5e-8faf4d84229e",
   "metadata": {
    "tags": []
   },
   "outputs": [],
   "source": [
    "nums = [1,3,5,6]\n",
    "target = 5"
   ]
  },
  {
   "cell_type": "code",
   "execution_count": 203,
   "id": "3f19264f-aa2f-49d1-a7a0-bd47c0ca8083",
   "metadata": {
    "tags": []
   },
   "outputs": [],
   "source": [
    "# My Solution\n",
    "def insert_pos(nums, target):\n",
    "    for idx, val in enumerate(nums):\n",
    "        if val == target:\n",
    "            return idx\n",
    "        elif val > target:\n",
    "            return idx\n",
    "    return len(nums)"
   ]
  },
  {
   "cell_type": "code",
   "execution_count": 204,
   "id": "7b6e1137-59c0-4397-9f11-a51b39da3156",
   "metadata": {
    "tags": []
   },
   "outputs": [
    {
     "data": {
      "text/plain": [
       "4"
      ]
     },
     "execution_count": 204,
     "metadata": {},
     "output_type": "execute_result"
    }
   ],
   "source": [
    "insert_pos(nums, target)"
   ]
  },
  {
   "cell_type": "code",
   "execution_count": 205,
   "id": "1eec66a2-1c51-4eee-8f72-97084a1f6c4a",
   "metadata": {
    "tags": []
   },
   "outputs": [
    {
     "data": {
      "text/plain": [
       "1"
      ]
     },
     "execution_count": 205,
     "metadata": {},
     "output_type": "execute_result"
    }
   ],
   "source": [
    "nums = [1,3,5,6]\n",
    "target = 2\n",
    "insert_pos(nums, target)"
   ]
  },
  {
   "cell_type": "code",
   "execution_count": 206,
   "id": "601c36f3-fa41-426b-945f-53aaaf740ace",
   "metadata": {
    "tags": []
   },
   "outputs": [
    {
     "data": {
      "text/plain": [
       "4"
      ]
     },
     "execution_count": 206,
     "metadata": {},
     "output_type": "execute_result"
    }
   ],
   "source": [
    "nums = [1,3,5,6]\n",
    "target = 7\n",
    "insert_pos(nums, target)"
   ]
  },
  {
   "cell_type": "markdown",
   "id": "4d332448-ba9c-41b8-87ab-1aa6e00797be",
   "metadata": {},
   "source": [
    "## 58. Length of Last Word"
   ]
  },
  {
   "cell_type": "code",
   "execution_count": 13,
   "id": "0648d64e-12e1-4fe5-879d-9c861ba00492",
   "metadata": {},
   "outputs": [],
   "source": [
    "s = \"   fly me   to   the moon  \""
   ]
  },
  {
   "cell_type": "code",
   "execution_count": 14,
   "id": "64a1c7e1-f4ac-4ba5-bb8f-26fc12960e56",
   "metadata": {
    "tags": []
   },
   "outputs": [
    {
     "data": {
      "text/plain": [
       "4"
      ]
     },
     "execution_count": 14,
     "metadata": {},
     "output_type": "execute_result"
    }
   ],
   "source": [
    "# My Solution\n",
    "len(s.split()[-1])"
   ]
  },
  {
   "cell_type": "code",
   "execution_count": 15,
   "id": "913fada5-144b-4b4c-b8d6-fe41b4b00de7",
   "metadata": {
    "tags": []
   },
   "outputs": [],
   "source": [
    "# My Alternate Solution\n",
    "foundword = False\n",
    "length = 0\n",
    "for i in reversed(s):\n",
    "    if i.isalpha():\n",
    "        length += 1\n",
    "        foundword = True\n",
    "    if i.isspace() and foundword:\n",
    "        break"
   ]
  },
  {
   "cell_type": "code",
   "execution_count": 16,
   "id": "cbe45c07-56dc-4a6e-b8d7-8beff1a4fcce",
   "metadata": {
    "tags": []
   },
   "outputs": [
    {
     "data": {
      "text/plain": [
       "4"
      ]
     },
     "execution_count": 16,
     "metadata": {},
     "output_type": "execute_result"
    }
   ],
   "source": [
    "length"
   ]
  },
  {
   "cell_type": "markdown",
   "id": "bcd04459-2273-44f3-910d-8652a6e40763",
   "metadata": {},
   "source": [
    "## 66. Plus One"
   ]
  },
  {
   "cell_type": "code",
   "execution_count": 52,
   "id": "22d58d12-bfeb-4e8b-b49e-6d8ae311f878",
   "metadata": {
    "tags": []
   },
   "outputs": [],
   "source": [
    "digits = [9, 9]\n",
    "digits = [1,2,9]"
   ]
  },
  {
   "cell_type": "code",
   "execution_count": 53,
   "id": "67c51b72-1069-4237-ae55-49b8470a39e3",
   "metadata": {
    "tags": []
   },
   "outputs": [],
   "source": [
    "# My Solution\n",
    "# for i in reversed(range(len(digits))):\n",
    "#     if digits[i] == 9:\n",
    "#         if i == 0:\n",
    "#             digits[i] = 1\n",
    "#             digits.append(0)\n",
    "#             break\n",
    "#         digits[i] = 0\n",
    "#     else:\n",
    "#         digits[i] += 1\n",
    "#         break"
   ]
  },
  {
   "cell_type": "code",
   "execution_count": 54,
   "id": "7f81b637-5946-450e-aa34-89262bd17b11",
   "metadata": {
    "tags": []
   },
   "outputs": [],
   "source": [
    "# digits"
   ]
  },
  {
   "cell_type": "code",
   "execution_count": 59,
   "id": "b3b21869-6333-44bd-92b1-dcbc4169fc7f",
   "metadata": {
    "tags": []
   },
   "outputs": [],
   "source": [
    "# My Alternate Solution\n",
    "string = \"\"\n",
    "for i in digits:\n",
    "    string += str(i)\n",
    "string = str(int(string) + 1)\n",
    "string1 = [int(s) for s in string]"
   ]
  },
  {
   "cell_type": "code",
   "execution_count": 60,
   "id": "a070a38b-6dbb-4133-b39d-f03970d177d1",
   "metadata": {
    "tags": []
   },
   "outputs": [
    {
     "data": {
      "text/plain": [
       "[1, 3, 0]"
      ]
     },
     "execution_count": 60,
     "metadata": {},
     "output_type": "execute_result"
    }
   ],
   "source": [
    "string1"
   ]
  },
  {
   "cell_type": "markdown",
   "id": "7124824d-746b-4601-9a67-92b7e3885b04",
   "metadata": {},
   "source": [
    "## 67. Add Binary"
   ]
  },
  {
   "cell_type": "code",
   "execution_count": 61,
   "id": "399e84f9-e373-47e9-b93a-09096de3c1ce",
   "metadata": {
    "tags": []
   },
   "outputs": [],
   "source": [
    "a = \"11\"\n",
    "b = \"1\""
   ]
  },
  {
   "cell_type": "code",
   "execution_count": 67,
   "id": "4b7d5bf2-5eac-43e9-9631-283517035b0b",
   "metadata": {
    "tags": []
   },
   "outputs": [
    {
     "data": {
      "text/plain": [
       "'100'"
      ]
     },
     "execution_count": 67,
     "metadata": {},
     "output_type": "execute_result"
    }
   ],
   "source": [
    "bin(int(a, 2) + int(b, 2))[2:]"
   ]
  },
  {
   "cell_type": "markdown",
   "id": "f557be3b-8a96-4b76-93de-0426aa5a0f1e",
   "metadata": {},
   "source": [
    "## 69. Sqrt(x)"
   ]
  },
  {
   "cell_type": "code",
   "execution_count": 83,
   "id": "14bae83f-ffa4-4dfc-9383-4e49ad329fcf",
   "metadata": {
    "tags": []
   },
   "outputs": [],
   "source": [
    "x = 8192"
   ]
  },
  {
   "cell_type": "code",
   "execution_count": 84,
   "id": "7d21ccab-d322-425a-bc52-615866e6e290",
   "metadata": {
    "tags": []
   },
   "outputs": [],
   "source": [
    "# Newton Method: https://www.geeksforgeeks.org/find-root-of-a-number-using-newtons-method/\n",
    "def mySqrt(x: int) -> int:\n",
    "    if x == 0:\n",
    "        return 0\n",
    "    elif len(str(x)) <= 3:\n",
    "        init = x / 2\n",
    "    else:\n",
    "        init = int(str(x)[:int(len(str(x))/2)])\n",
    "    for i in range(7):\n",
    "        init = (init + (x/init))/2\n",
    "    return int(init)"
   ]
  },
  {
   "cell_type": "code",
   "execution_count": 85,
   "id": "8e9764bc-a4d9-447b-a997-652d3ce12f8d",
   "metadata": {
    "tags": []
   },
   "outputs": [
    {
     "data": {
      "text/plain": [
       "90"
      ]
     },
     "execution_count": 85,
     "metadata": {},
     "output_type": "execute_result"
    }
   ],
   "source": [
    "mySqrt(x)"
   ]
  },
  {
   "cell_type": "code",
   "execution_count": 91,
   "id": "32da07d5-ea35-4e24-9207-91e1d1da11ea",
   "metadata": {
    "tags": []
   },
   "outputs": [],
   "source": [
    "# Binary Search: https://www.youtube.com/watch?v=Bsv3FPUX_BA\n",
    "def binary_search_sqrt(x):\n",
    "    if x == 0:\n",
    "        return 0\n",
    "    first = 1\n",
    "    last = x\n",
    "    while first <= last:\n",
    "        middle = int((first + last) / 2)\n",
    "        if x == (middle * middle):\n",
    "            return middle\n",
    "        elif x < (middle * middle):\n",
    "            last = middle - 1\n",
    "        else:\n",
    "            first = middle + 1\n",
    "    return last"
   ]
  },
  {
   "cell_type": "code",
   "execution_count": 96,
   "id": "30d55877-1262-44a3-bd00-b87c117ff8d0",
   "metadata": {
    "tags": []
   },
   "outputs": [
    {
     "data": {
      "text/plain": [
       "10"
      ]
     },
     "execution_count": 96,
     "metadata": {},
     "output_type": "execute_result"
    }
   ],
   "source": [
    "binary_search_sqrt(120)"
   ]
  },
  {
   "cell_type": "markdown",
   "id": "bf61e04b-dac7-4515-adb0-8cef05f59089",
   "metadata": {},
   "source": [
    "## 70. Climbing Stairs"
   ]
  },
  {
   "cell_type": "code",
   "execution_count": 2,
   "id": "6d0a880e-e7fd-4b55-b298-7e7c8220d676",
   "metadata": {
    "tags": []
   },
   "outputs": [],
   "source": [
    "from itertools import permutations"
   ]
  },
  {
   "cell_type": "code",
   "execution_count": 12,
   "id": "b5034ed7-5f00-4093-9106-1f7ca3906500",
   "metadata": {
    "tags": []
   },
   "outputs": [
    {
     "data": {
      "text/plain": [
       "[(1, 2), (2, 1)]"
      ]
     },
     "execution_count": 12,
     "metadata": {},
     "output_type": "execute_result"
    }
   ],
   "source": [
    "list(permutations([1,2], 2))"
   ]
  },
  {
   "cell_type": "code",
   "execution_count": 17,
   "id": "965a00b8-b995-4340-a0bd-138909584d89",
   "metadata": {
    "tags": []
   },
   "outputs": [],
   "source": [
    "# Best Solution: Dynamic Programming : https://www.youtube.com/watch?v=Y0lT9Fck7qI\n",
    "def climb_stairs(n):\n",
    "    if n == 0:\n",
    "        return 0\n",
    "    if n == 1:\n",
    "        return 1\n",
    "    else:\n",
    "        one, two, new = 1, 1, 0\n",
    "        for i in range(n - 1):\n",
    "            new = one + two\n",
    "            two = one\n",
    "            one = new\n",
    "    return new"
   ]
  },
  {
   "cell_type": "code",
   "execution_count": 19,
   "id": "9147fdac-8f9e-4af2-84ef-b07c422c6421",
   "metadata": {
    "tags": []
   },
   "outputs": [
    {
     "data": {
      "text/plain": [
       "3"
      ]
     },
     "execution_count": 19,
     "metadata": {},
     "output_type": "execute_result"
    }
   ],
   "source": [
    "climb_stairs(3)"
   ]
  },
  {
   "cell_type": "markdown",
   "id": "39b79a74-a9ad-49ad-8ff2-702ede0812e8",
   "metadata": {},
   "source": [
    "## 83. Remove Duplicates from Sorted List"
   ]
  },
  {
   "cell_type": "code",
   "execution_count": null,
   "id": "47be425c-6c42-4adb-9b08-a30fbbf5271b",
   "metadata": {},
   "outputs": [],
   "source": [
    "# ListNode is an object which has a value and 'next' which has pointer to next ListNode object\n",
    "# ListNode is stored this way: ListNode{val: 2, next: ListNode{val: 4, next: None}} (Recursive)"
   ]
  },
  {
   "cell_type": "code",
   "execution_count": 2,
   "id": "2f944d58-ef59-47e0-8af0-c007b6830849",
   "metadata": {
    "tags": []
   },
   "outputs": [],
   "source": [
    "class ListNode:\n",
    "    def __init__(self, val=0, next=None):\n",
    "        self.val = val\n",
    "        self.next = next"
   ]
  },
  {
   "cell_type": "code",
   "execution_count": 8,
   "id": "9906b7c2-aa27-4d6d-94d4-b1daa152188d",
   "metadata": {
    "tags": []
   },
   "outputs": [],
   "source": [
    "# Best Solution\n",
    "def deleteDuplicates(head):\n",
    "    if head == None:\n",
    "        return None\n",
    "\n",
    "    current = head\n",
    "    while current.next:\n",
    "        if current.val == current.next.val:\n",
    "            current.next = current.next.next\n",
    "        else:\n",
    "            current = current.next\n",
    "\n",
    "    return head"
   ]
  },
  {
   "cell_type": "markdown",
   "id": "958a155f-59a6-4298-a0f9-55a1f02f537d",
   "metadata": {},
   "source": [
    "## 88. Merge Sorted Array"
   ]
  },
  {
   "cell_type": "code",
   "execution_count": 9,
   "id": "624496e3-7715-4d18-9832-50a9ed940014",
   "metadata": {
    "tags": []
   },
   "outputs": [],
   "source": [
    "nums1 = [1, 2, 3, 0, 0, 0]"
   ]
  },
  {
   "cell_type": "code",
   "execution_count": 10,
   "id": "d29ef3f1-4aa9-4eea-83d2-258336761e66",
   "metadata": {
    "tags": []
   },
   "outputs": [],
   "source": [
    "# My Solution 1\n",
    "def merge_sorted(nums1, m, nums2, n):\n",
    "    nums1[m:] = nums2\n",
    "    nums1.sort()"
   ]
  },
  {
   "cell_type": "code",
   "execution_count": 12,
   "id": "64a57602-7e4c-4127-bb72-89ec5412efd4",
   "metadata": {
    "tags": []
   },
   "outputs": [],
   "source": [
    "# Algo Solution (backwards pass)\n",
    "def merge_sorted(nums1, m, nums2, n):    \n",
    "    x = m - 1\n",
    "    y = n - 1\n",
    "    track = n + m - 1\n",
    "    while y >= 0:\n",
    "        if x >= 0 and nums1[x] > nums2[y]:\n",
    "            nums1[track] = nums1[x]\n",
    "            x -= 1\n",
    "        else:\n",
    "            nums1[track] = nums2[y]\n",
    "            y -= 1\n",
    "        track -= 1 "
   ]
  },
  {
   "cell_type": "markdown",
   "id": "af9a71c9-6793-4d29-ba34-374017bdb893",
   "metadata": {},
   "source": [
    "## 94. Binary Tree Inorder Traversal"
   ]
  },
  {
   "cell_type": "code",
   "execution_count": 15,
   "id": "8c3b1d3b-f67d-4f6b-9929-f40af3337c3a",
   "metadata": {
    "tags": []
   },
   "outputs": [],
   "source": [
    "# In-order treversal is a method of travelling through a binary tree: https://www.youtube.com/watch?v=5dySuyZf9Qg"
   ]
  },
  {
   "cell_type": "code",
   "execution_count": 16,
   "id": "ba0aa790-ebb1-4bad-b40e-edec2e1fa03a",
   "metadata": {
    "tags": []
   },
   "outputs": [],
   "source": [
    "def inorderTraversal(root):\n",
    "    res = []\n",
    "    def inorder(root):\n",
    "        if not root:\n",
    "            return None\n",
    "        inorder(root.left)\n",
    "        res.append(root.val)\n",
    "        inorder(root.right)\n",
    "    inorder(root)\n",
    "    return res"
   ]
  },
  {
   "cell_type": "markdown",
   "id": "ee760fad-f161-4733-bb27-a6d451306b00",
   "metadata": {},
   "source": [
    "## 100. Same Tree"
   ]
  },
  {
   "cell_type": "code",
   "execution_count": 5,
   "id": "bb404ff3-9188-408f-a4a9-a7d97e462808",
   "metadata": {},
   "outputs": [],
   "source": [
    "# Recursion Solution :https://youtu.be/vRbbcKXCxOw?si=WquoNe5pi-tCUyyX\n",
    "def isSameTree(p, q) -> bool:\n",
    "    if not p and not q:\n",
    "        return True\n",
    "    if not p or not q or p.val != q.val:\n",
    "        return False\n",
    "    return (self.isSameTree(p.left, q.left) and self.isSameTree(p.right, q.right))"
   ]
  },
  {
   "cell_type": "markdown",
   "id": "3d861d15-d61e-4f74-8cc6-f718e7e5edc5",
   "metadata": {},
   "source": [
    "## 118. Pascal's Triangle"
   ]
  },
  {
   "cell_type": "code",
   "execution_count": 4,
   "id": "50c9de71-a386-40b7-8c41-83a23764f0d9",
   "metadata": {
    "tags": []
   },
   "outputs": [],
   "source": [
    "from math import ceil"
   ]
  },
  {
   "cell_type": "code",
   "execution_count": 32,
   "id": "0d7a5404-3169-4584-840a-d862e5e965d3",
   "metadata": {
    "tags": []
   },
   "outputs": [
    {
     "data": {
      "text/plain": [
       "1"
      ]
     },
     "execution_count": 32,
     "metadata": {},
     "output_type": "execute_result"
    }
   ],
   "source": [
    "ceil(2/2)"
   ]
  },
  {
   "cell_type": "code",
   "execution_count": 10,
   "id": "d8102f40-b71e-47e5-b0cc-8af5d82f1c7b",
   "metadata": {
    "tags": []
   },
   "outputs": [],
   "source": [
    "# My Solution\n",
    "def generate(numRows):\n",
    "    output = []\n",
    "    for row_num in range(1, numRows + 1):\n",
    "        ic(row_num)\n",
    "        if row_num == 1:\n",
    "            output.append([1])\n",
    "        else:\n",
    "            temp = [0] * row_num\n",
    "            reverse = -1\n",
    "            for col in range(ceil(row_num / 2)):\n",
    "                if col == 0:\n",
    "                    temp[0] = 1\n",
    "                    temp[-1] = 1\n",
    "                else:\n",
    "                    temp[col] = sum(output[row_num-2][col-1:col+1])\n",
    "                    temp[reverse] = temp[col]\n",
    "                reverse -= 1\n",
    "            output.append(temp)\n",
    "    return output"
   ]
  },
  {
   "cell_type": "code",
   "execution_count": 108,
   "id": "e1fa64f3-12b2-4cf5-b6a2-1e68f63e958e",
   "metadata": {
    "tags": []
   },
   "outputs": [
    {
     "name": "stderr",
     "output_type": "stream",
     "text": [
      "ic| row_num: 1\n",
      "ic| row_num: 2\n",
      "ic| row_num: 3\n"
     ]
    },
    {
     "data": {
      "text/plain": [
       "[[1], [1, 1], [1, 2, 1]]"
      ]
     },
     "execution_count": 108,
     "metadata": {},
     "output_type": "execute_result"
    }
   ],
   "source": [
    "generate(3)"
   ]
  },
  {
   "cell_type": "markdown",
   "id": "4976de01-211e-48e2-a8d2-ce50d528f0f7",
   "metadata": {},
   "source": [
    "## 119. Pascal's Triangle II"
   ]
  },
  {
   "cell_type": "code",
   "execution_count": 9,
   "id": "4f67c5b9-ae22-47de-a4b2-ba8914c108d4",
   "metadata": {
    "tags": []
   },
   "outputs": [],
   "source": [
    "# My Solution\n",
    "def generate(rowIndex):\n",
    "    if rowIndex == 0:\n",
    "        return [1]\n",
    "    if rowIndex == 1:\n",
    "        return [1,1]\n",
    "    else:                         # 2nd idx [1,2,1]\n",
    "        prev = [1,1]\n",
    "        for i in range(2, rowIndex + 1):\n",
    "            ic(i)\n",
    "            ic(prev)\n",
    "            window = 0\n",
    "            forward = 1\n",
    "            reverse = -2\n",
    "            new = [1] * (i + 1)\n",
    "            for ite in range(int(i/2)):\n",
    "                ic(ite)\n",
    "                ic(int(rowIndex/2))\n",
    "                new[forward] = sum(prev[window:window+2])\n",
    "                new[reverse] = new[forward]\n",
    "                window += 1\n",
    "                forward += 1\n",
    "                reverse -= 1\n",
    "            prev = new\n",
    "    return prev"
   ]
  },
  {
   "cell_type": "code",
   "execution_count": 57,
   "id": "f1eaf744-23b0-4878-af18-7b19d06b0d6e",
   "metadata": {
    "tags": []
   },
   "outputs": [
    {
     "name": "stderr",
     "output_type": "stream",
     "text": [
      "ic| i: 2\n",
      "ic| prev: [1, 1]\n",
      "ic| ite: 0\n",
      "ic| int(rowIndex/2): 2\n",
      "ic| i: 3\n",
      "ic| prev: [1, 2, 1]\n",
      "ic| ite: 0\n",
      "ic| int(rowIndex/2): 2\n",
      "ic| i: 4\n",
      "ic| prev: [1, 3, 3, 1]\n",
      "ic| ite: 0\n",
      "ic| int(rowIndex/2): 2\n",
      "ic| ite: 1\n",
      "ic| int(rowIndex/2): 2\n"
     ]
    },
    {
     "data": {
      "text/plain": [
       "[1, 4, 6, 4, 1]"
      ]
     },
     "execution_count": 57,
     "metadata": {},
     "output_type": "execute_result"
    }
   ],
   "source": [
    "generate(4)"
   ]
  },
  {
   "cell_type": "markdown",
   "id": "8f1ab476-8f13-45e8-8571-019e383ea8fb",
   "metadata": {},
   "source": [
    "## 121. Best Time to Buy and Sell Stock"
   ]
  },
  {
   "cell_type": "code",
   "execution_count": 3,
   "id": "4face5cb-2e6c-4d20-b0fb-dbfb8d1c521b",
   "metadata": {
    "tags": []
   },
   "outputs": [],
   "source": [
    "prices = [7,1,5,3,6,4]\n",
    "prices1 = [2,4,1]"
   ]
  },
  {
   "cell_type": "code",
   "execution_count": 8,
   "id": "aa9fb8b5-76a2-466a-8ed6-d3104f14730d",
   "metadata": {
    "tags": []
   },
   "outputs": [],
   "source": [
    "# My Solution\n",
    "def maxprofit(prices):\n",
    "    maximum = prices[0]\n",
    "    minimum = prices[0]\n",
    "    maxp = 0\n",
    "    for current in prices[1:]:\n",
    "        if current < minimum:\n",
    "            minimum = current\n",
    "            maximum = current\n",
    "            continue\n",
    "        if current > maximum:\n",
    "            maximum = current\n",
    "        maxp = max(maxp, (maximum - minimum))\n",
    "    return maxp"
   ]
  },
  {
   "cell_type": "code",
   "execution_count": 7,
   "id": "278fd349-5ffb-48f6-9dff-a5809038f9b3",
   "metadata": {
    "tags": []
   },
   "outputs": [
    {
     "data": {
      "text/plain": [
       "2"
      ]
     },
     "execution_count": 7,
     "metadata": {},
     "output_type": "execute_result"
    }
   ],
   "source": [
    "maxprofit(prices1)"
   ]
  },
  {
   "cell_type": "markdown",
   "id": "3efd631d-7fea-46a2-ac47-3769f9de58f0",
   "metadata": {},
   "source": [
    "## 125. Valid Palindrome"
   ]
  },
  {
   "cell_type": "code",
   "execution_count": 25,
   "id": "0e13f0fc-bc82-42e5-85a5-061ad07b34fc",
   "metadata": {
    "tags": []
   },
   "outputs": [],
   "source": [
    "s = \"A man, a plan, a canal: Panama\""
   ]
  },
  {
   "cell_type": "code",
   "execution_count": 32,
   "id": "cbbd3372-b7e8-4d26-a182-dc7595473d30",
   "metadata": {
    "tags": []
   },
   "outputs": [],
   "source": [
    "# My Solution\n",
    "def ispalindrome(s):\n",
    "    s1 = \"\"\n",
    "    for i in s.lower():\n",
    "        if i.isalnum():\n",
    "            s1 += i\n",
    "    left = 0\n",
    "    right = len(s1)-1\n",
    "    while left < right:\n",
    "        if s1[left] != s1[right]:\n",
    "            return False\n",
    "        left += 1\n",
    "        right -= 1\n",
    "    return True"
   ]
  },
  {
   "cell_type": "code",
   "execution_count": 33,
   "id": "5e947f6f-456b-4fd9-aa2d-7689ebbafd29",
   "metadata": {
    "tags": []
   },
   "outputs": [
    {
     "data": {
      "text/plain": [
       "True"
      ]
     },
     "execution_count": 33,
     "metadata": {},
     "output_type": "execute_result"
    }
   ],
   "source": [
    "ispalindrome(s)"
   ]
  },
  {
   "cell_type": "markdown",
   "id": "e70688bc-2f58-4ecf-9258-b3eb7dab6bdf",
   "metadata": {},
   "source": [
    "## 136. Single Number"
   ]
  },
  {
   "cell_type": "code",
   "execution_count": 34,
   "id": "b234c9f4-a930-42b7-b285-04995d1ea350",
   "metadata": {
    "tags": []
   },
   "outputs": [],
   "source": [
    "nums = [4,1,2,1,2]"
   ]
  },
  {
   "cell_type": "code",
   "execution_count": 52,
   "id": "78bdd644-2ca7-4993-8ab9-2f4d55380a5a",
   "metadata": {
    "tags": []
   },
   "outputs": [],
   "source": [
    "def single_number(nums):\n",
    "    count = {}\n",
    "    for i in nums:\n",
    "        if i not in count:\n",
    "            count[i] = 1\n",
    "        else:\n",
    "            count.pop(i)\n",
    "    return next(iter(count))"
   ]
  },
  {
   "cell_type": "code",
   "execution_count": 53,
   "id": "0f1d184c-ba1b-4768-9968-d8581c502b8f",
   "metadata": {
    "tags": []
   },
   "outputs": [
    {
     "data": {
      "text/plain": [
       "4"
      ]
     },
     "execution_count": 53,
     "metadata": {},
     "output_type": "execute_result"
    }
   ],
   "source": [
    "single_number(nums)"
   ]
  },
  {
   "cell_type": "markdown",
   "id": "f44abb78-46e7-4f1d-98ed-7ebbcaa12908",
   "metadata": {},
   "source": [
    "## 141. Linked List Cycle"
   ]
  },
  {
   "cell_type": "code",
   "execution_count": 55,
   "id": "8bafbd48-b6cb-4d73-b72a-69f14b918871",
   "metadata": {
    "tags": []
   },
   "outputs": [],
   "source": [
    "# Floyd's Tortoise and Hare: https://www.youtube.com/watch?v=gBTe7lFR3vc\n",
    "def hasCycle(head):\n",
    "    slow, fast = head, head\n",
    "    while fast and fast.next:\n",
    "        slow = slow.next\n",
    "        fast = fast.next.next\n",
    "        if slow == fast:\n",
    "            return True\n",
    "    return False"
   ]
  },
  {
   "cell_type": "markdown",
   "id": "c2ae680a-4b3f-47f4-8577-f55b923b74e9",
   "metadata": {},
   "source": [
    "## 144. Binary Tree Preorder Traversal"
   ]
  },
  {
   "cell_type": "code",
   "execution_count": 58,
   "id": "28bb7c77-b751-4ab9-a97f-fd05ea0abc3d",
   "metadata": {
    "tags": []
   },
   "outputs": [],
   "source": [
    "# Visualization: https://www.youtube.com/watch?v=1WxLM2hwL-U\n",
    "def preorderTraversal(root):\n",
    "    res = []\n",
    "    def preorder(root):\n",
    "        if not root:\n",
    "            return None\n",
    "        res.append(root.val)\n",
    "        preorder(root.left)\n",
    "        preorder(root.right)\n",
    "    preorder(root)\n",
    "    return res"
   ]
  },
  {
   "cell_type": "markdown",
   "id": "4c4bb03b-0945-4430-abb7-c24635756379",
   "metadata": {},
   "source": [
    "## 145. Binary Tree Postorder Traversal"
   ]
  },
  {
   "cell_type": "code",
   "execution_count": 60,
   "id": "b5bbcca9-d480-45df-8149-1abb986c2309",
   "metadata": {
    "tags": []
   },
   "outputs": [],
   "source": [
    "# Visualization: https://www.youtube.com/watch?v=4zVdfkpcT6U\n",
    "def postorderTraversal(root):\n",
    "    res = []\n",
    "    def postorder(root):\n",
    "        if not root:\n",
    "            return None\n",
    "        postorder(root.left)\n",
    "        postorder(root.right)\n",
    "        res.append(root.val)\n",
    "    postorder(root)\n",
    "    return res"
   ]
  },
  {
   "cell_type": "markdown",
   "id": "7032eadc-d708-4ca7-9740-7f40a116207a",
   "metadata": {},
   "source": [
    "## 160. Intersection of Two Linked Lists"
   ]
  },
  {
   "cell_type": "code",
   "execution_count": 4,
   "id": "9254d94a-84c5-4bc1-9148-f9709d1924bf",
   "metadata": {},
   "outputs": [],
   "source": [
    "# Best Solution O(m+n) time: https://youtu.be/D0X0BONOQhI?si=okeUJ1mTJUfvVuk5\n",
    "def getIntersectionNode(headA, headB):\n",
    "    p1, p2 = headA, headB\n",
    "    while p1 != p2:\n",
    "        p1 = p1.next if p1 else headB\n",
    "        p2 = p2.next if p2 else headA\n",
    "    return p1"
   ]
  },
  {
   "cell_type": "markdown",
   "id": "f098b9d2-b56e-4bb4-ba8b-41338b08a1b3",
   "metadata": {},
   "source": [
    "## 168. Excel Sheet Column Title"
   ]
  },
  {
   "cell_type": "code",
   "execution_count": 119,
   "id": "a270ba26-e263-484b-9193-b1a202496ccb",
   "metadata": {
    "tags": []
   },
   "outputs": [
    {
     "name": "stderr",
     "output_type": "stream",
     "text": [
      "ic| 1000%26: 12\n",
      "ic| 1000//26: 38\n",
      "ic| 38%26: 12\n",
      "ic| 38//26: 1\n",
      "ic| 1%26: 1\n",
      "ic| 1//26: 0\n"
     ]
    },
    {
     "data": {
      "text/plain": [
       "0"
      ]
     },
     "execution_count": 119,
     "metadata": {},
     "output_type": "execute_result"
    }
   ],
   "source": [
    "ic(1000%26)\n",
    "ic(1000//26)\n",
    "ic(38%26)\n",
    "ic(38//26)\n",
    "ic(1%26)\n",
    "ic(1//26)"
   ]
  },
  {
   "cell_type": "code",
   "execution_count": 111,
   "id": "97efa4a6-5511-4bd7-9556-a2f682a41dec",
   "metadata": {
    "tags": []
   },
   "outputs": [],
   "source": [
    "def convertToTitle(columnNumber: int):\n",
    "    alpha = \"ABCDEFGHIJKLMNOPQRSTUVWXYZ\"\n",
    "    res = \"\"\n",
    "    while columnNumber > 0:\n",
    "        ic(columnNumber)\n",
    "        res += alpha[(columnNumber-1)%26]\n",
    "        ic(res)\n",
    "        columnNumber = (columnNumber-1) // 26\n",
    "        ic(columnNumber)\n",
    "    return res[::-1]"
   ]
  },
  {
   "cell_type": "code",
   "execution_count": 113,
   "id": "256f31cc-0720-4a53-a20b-53e9a7e5b396",
   "metadata": {
    "tags": []
   },
   "outputs": [
    {
     "name": "stderr",
     "output_type": "stream",
     "text": [
      "ic| columnNumber: 1000\n",
      "ic| res: 'L'\n",
      "ic| columnNumber: 38\n",
      "ic| columnNumber: 38\n",
      "ic| res: 'LL'\n",
      "ic| columnNumber: 1\n",
      "ic| columnNumber: 1\n",
      "ic| res: 'LLA'\n",
      "ic| columnNumber: 0\n"
     ]
    },
    {
     "data": {
      "text/plain": [
       "'ALL'"
      ]
     },
     "execution_count": 113,
     "metadata": {},
     "output_type": "execute_result"
    }
   ],
   "source": [
    "convertToTitle(1000)"
   ]
  },
  {
   "cell_type": "markdown",
   "id": "a5400bfb-9ce4-424f-bfac-41c1885cfeb9",
   "metadata": {},
   "source": [
    "## 169. Majority Element"
   ]
  },
  {
   "cell_type": "code",
   "execution_count": 134,
   "id": "7a876eb2-9211-43e2-b701-ca556f038637",
   "metadata": {
    "tags": []
   },
   "outputs": [],
   "source": [
    "nums = [3,2,3,3,3,2]"
   ]
  },
  {
   "cell_type": "code",
   "execution_count": 143,
   "id": "92fa9aa7-1587-43f0-a3bc-81dc31b55b73",
   "metadata": {
    "tags": []
   },
   "outputs": [],
   "source": [
    "from collections import defaultdict\n",
    "count = defaultdict(int)\n",
    "length = len(nums)/2\n",
    "for i in nums:\n",
    "    count[i] += 1\n",
    "    if count[i] >= length:\n",
    "        break"
   ]
  },
  {
   "cell_type": "code",
   "execution_count": 144,
   "id": "11273a5c-f719-437c-9288-1506875b348a",
   "metadata": {
    "tags": []
   },
   "outputs": [
    {
     "data": {
      "text/plain": [
       "defaultdict(int, {3: 3, 2: 1})"
      ]
     },
     "execution_count": 144,
     "metadata": {},
     "output_type": "execute_result"
    }
   ],
   "source": [
    "count"
   ]
  },
  {
   "cell_type": "code",
   "execution_count": 2,
   "id": "dd58d980-22e5-4ae0-a180-e85c1de66542",
   "metadata": {},
   "outputs": [],
   "source": [
    "nums = [2,2,1,1,1,2,2]"
   ]
  },
  {
   "cell_type": "code",
   "execution_count": 4,
   "id": "cc04b53c-8087-495a-852d-caeef5041fbb",
   "metadata": {
    "tags": []
   },
   "outputs": [],
   "source": [
    "# Best Solution: https://youtu.be/7pnhv842keE?si=FQ7BReW3_lTM6Q_Q\n",
    "def majorityElement(nums):\n",
    "    num, count = 0, 0\n",
    "    for i in nums:\n",
    "        if count == 0:\n",
    "            num = i\n",
    "        count += (1 if i == num else -1)\n",
    "    return num"
   ]
  },
  {
   "cell_type": "markdown",
   "id": "87c499d8-cd7b-4385-a989-74765be64e6d",
   "metadata": {},
   "source": [
    "## 171. Excel Sheet Column Number"
   ]
  },
  {
   "cell_type": "code",
   "execution_count": 11,
   "id": "83246042-056e-434b-9f18-8e417442c9dd",
   "metadata": {
    "tags": []
   },
   "outputs": [],
   "source": [
    "from string import ascii_uppercase"
   ]
  },
  {
   "cell_type": "code",
   "execution_count": 23,
   "id": "923640f6-84b1-4b6b-9cdc-f76a15d8ebf1",
   "metadata": {
    "tags": []
   },
   "outputs": [],
   "source": [
    "# for i in ascii_uppercase:\n",
    "#     print(ord(i)-64)"
   ]
  },
  {
   "cell_type": "code",
   "execution_count": 24,
   "id": "66f8e843-24a4-4251-8625-87caca116d28",
   "metadata": {
    "tags": []
   },
   "outputs": [],
   "source": [
    "# My Solution\n",
    "def title_to_num(title):\n",
    "    start = 0\n",
    "    count = 0\n",
    "    for i in title[::-1]:\n",
    "        count += ((ord(i)-64)*(26**start))\n",
    "        start += 1\n",
    "    return count"
   ]
  },
  {
   "cell_type": "code",
   "execution_count": 22,
   "id": "1feff351-472f-4bed-a5e6-cc8e42872b76",
   "metadata": {
    "tags": []
   },
   "outputs": [
    {
     "data": {
      "text/plain": [
       "1000"
      ]
     },
     "execution_count": 22,
     "metadata": {},
     "output_type": "execute_result"
    }
   ],
   "source": [
    "title_to_num(\"ALL\")"
   ]
  },
  {
   "cell_type": "markdown",
   "id": "10524777-2ee8-4aec-826c-294ad638a009",
   "metadata": {},
   "source": [
    "## 181. Employees Earning More Than Their Managers"
   ]
  },
  {
   "cell_type": "code",
   "execution_count": 4,
   "id": "418b2980-e747-4417-a3ad-057b4d526d0a",
   "metadata": {
    "tags": []
   },
   "outputs": [],
   "source": [
    "data = [[1, 'Joe', 70000, 3], [2, 'Henry', 80000, 4], [3, 'Sam', 60000, None], [4, 'Max', 90000, None]]\n",
    "employee = pd.DataFrame(data, columns=['id', 'name', 'salary', 'managerId']).astype({'id':'Int64', 'name':'object', 'salary':'Int64', 'managerId':'Int64'})"
   ]
  },
  {
   "cell_type": "code",
   "execution_count": 5,
   "id": "9195c64b-77bf-4c3a-85c9-432f5c04fc2d",
   "metadata": {
    "tags": []
   },
   "outputs": [
    {
     "data": {
      "text/html": [
       "<div>\n",
       "<style scoped>\n",
       "    .dataframe tbody tr th:only-of-type {\n",
       "        vertical-align: middle;\n",
       "    }\n",
       "\n",
       "    .dataframe tbody tr th {\n",
       "        vertical-align: top;\n",
       "    }\n",
       "\n",
       "    .dataframe thead th {\n",
       "        text-align: right;\n",
       "    }\n",
       "</style>\n",
       "<table border=\"1\" class=\"dataframe\">\n",
       "  <thead>\n",
       "    <tr style=\"text-align: right;\">\n",
       "      <th></th>\n",
       "      <th>id</th>\n",
       "      <th>name</th>\n",
       "      <th>salary</th>\n",
       "      <th>managerId</th>\n",
       "    </tr>\n",
       "  </thead>\n",
       "  <tbody>\n",
       "    <tr>\n",
       "      <th>0</th>\n",
       "      <td>1</td>\n",
       "      <td>Joe</td>\n",
       "      <td>70000</td>\n",
       "      <td>3</td>\n",
       "    </tr>\n",
       "    <tr>\n",
       "      <th>1</th>\n",
       "      <td>2</td>\n",
       "      <td>Henry</td>\n",
       "      <td>80000</td>\n",
       "      <td>4</td>\n",
       "    </tr>\n",
       "    <tr>\n",
       "      <th>2</th>\n",
       "      <td>3</td>\n",
       "      <td>Sam</td>\n",
       "      <td>60000</td>\n",
       "      <td>&lt;NA&gt;</td>\n",
       "    </tr>\n",
       "    <tr>\n",
       "      <th>3</th>\n",
       "      <td>4</td>\n",
       "      <td>Max</td>\n",
       "      <td>90000</td>\n",
       "      <td>&lt;NA&gt;</td>\n",
       "    </tr>\n",
       "  </tbody>\n",
       "</table>\n",
       "</div>"
      ],
      "text/plain": [
       "   id   name  salary  managerId\n",
       "0   1    Joe   70000          3\n",
       "1   2  Henry   80000          4\n",
       "2   3    Sam   60000       <NA>\n",
       "3   4    Max   90000       <NA>"
      ]
     },
     "execution_count": 5,
     "metadata": {},
     "output_type": "execute_result"
    }
   ],
   "source": [
    "employee"
   ]
  },
  {
   "cell_type": "code",
   "execution_count": 12,
   "id": "3e544b8c-192b-4fcf-b862-6e67e4c06ec7",
   "metadata": {
    "tags": []
   },
   "outputs": [
    {
     "data": {
      "text/html": [
       "<div>\n",
       "<style scoped>\n",
       "    .dataframe tbody tr th:only-of-type {\n",
       "        vertical-align: middle;\n",
       "    }\n",
       "\n",
       "    .dataframe tbody tr th {\n",
       "        vertical-align: top;\n",
       "    }\n",
       "\n",
       "    .dataframe thead th {\n",
       "        text-align: right;\n",
       "    }\n",
       "</style>\n",
       "<table border=\"1\" class=\"dataframe\">\n",
       "  <thead>\n",
       "    <tr style=\"text-align: right;\">\n",
       "      <th></th>\n",
       "      <th>id</th>\n",
       "      <th>name</th>\n",
       "      <th>salary</th>\n",
       "      <th>managerId</th>\n",
       "    </tr>\n",
       "  </thead>\n",
       "  <tbody>\n",
       "    <tr>\n",
       "      <th>2</th>\n",
       "      <td>3</td>\n",
       "      <td>Sam</td>\n",
       "      <td>60000</td>\n",
       "      <td>&lt;NA&gt;</td>\n",
       "    </tr>\n",
       "    <tr>\n",
       "      <th>3</th>\n",
       "      <td>4</td>\n",
       "      <td>Max</td>\n",
       "      <td>90000</td>\n",
       "      <td>&lt;NA&gt;</td>\n",
       "    </tr>\n",
       "  </tbody>\n",
       "</table>\n",
       "</div>"
      ],
      "text/plain": [
       "   id name  salary  managerId\n",
       "2   3  Sam   60000       <NA>\n",
       "3   4  Max   90000       <NA>"
      ]
     },
     "execution_count": 12,
     "metadata": {},
     "output_type": "execute_result"
    }
   ],
   "source": [
    "x = employee.loc[employee.id.isin(employee.managerId)]\n",
    "x"
   ]
  },
  {
   "cell_type": "code",
   "execution_count": 13,
   "id": "05a30a8d-7335-4ab6-958b-25ed96a7cebe",
   "metadata": {
    "tags": []
   },
   "outputs": [
    {
     "data": {
      "text/html": [
       "<div>\n",
       "<style scoped>\n",
       "    .dataframe tbody tr th:only-of-type {\n",
       "        vertical-align: middle;\n",
       "    }\n",
       "\n",
       "    .dataframe tbody tr th {\n",
       "        vertical-align: top;\n",
       "    }\n",
       "\n",
       "    .dataframe thead th {\n",
       "        text-align: right;\n",
       "    }\n",
       "</style>\n",
       "<table border=\"1\" class=\"dataframe\">\n",
       "  <thead>\n",
       "    <tr style=\"text-align: right;\">\n",
       "      <th></th>\n",
       "      <th>id</th>\n",
       "      <th>name</th>\n",
       "      <th>salary</th>\n",
       "      <th>managerId</th>\n",
       "    </tr>\n",
       "  </thead>\n",
       "  <tbody>\n",
       "    <tr>\n",
       "      <th>0</th>\n",
       "      <td>1</td>\n",
       "      <td>Joe</td>\n",
       "      <td>70000</td>\n",
       "      <td>3</td>\n",
       "    </tr>\n",
       "    <tr>\n",
       "      <th>1</th>\n",
       "      <td>2</td>\n",
       "      <td>Henry</td>\n",
       "      <td>80000</td>\n",
       "      <td>4</td>\n",
       "    </tr>\n",
       "  </tbody>\n",
       "</table>\n",
       "</div>"
      ],
      "text/plain": [
       "   id   name  salary  managerId\n",
       "0   1    Joe   70000          3\n",
       "1   2  Henry   80000          4"
      ]
     },
     "execution_count": 13,
     "metadata": {},
     "output_type": "execute_result"
    }
   ],
   "source": [
    "y = employee.loc[~employee.managerId.isna()]\n",
    "y"
   ]
  },
  {
   "cell_type": "code",
   "execution_count": 50,
   "id": "56497bb8-b352-45b3-a5c4-a0fe83105fff",
   "metadata": {
    "tags": []
   },
   "outputs": [
    {
     "data": {
      "text/html": [
       "<div>\n",
       "<style scoped>\n",
       "    .dataframe tbody tr th:only-of-type {\n",
       "        vertical-align: middle;\n",
       "    }\n",
       "\n",
       "    .dataframe tbody tr th {\n",
       "        vertical-align: top;\n",
       "    }\n",
       "\n",
       "    .dataframe thead th {\n",
       "        text-align: right;\n",
       "    }\n",
       "</style>\n",
       "<table border=\"1\" class=\"dataframe\">\n",
       "  <thead>\n",
       "    <tr style=\"text-align: right;\">\n",
       "      <th></th>\n",
       "      <th>id_x</th>\n",
       "      <th>name_x</th>\n",
       "      <th>salary_x</th>\n",
       "      <th>managerId_x</th>\n",
       "      <th>id_y</th>\n",
       "      <th>name_y</th>\n",
       "      <th>salary_y</th>\n",
       "      <th>managerId_y</th>\n",
       "    </tr>\n",
       "  </thead>\n",
       "  <tbody>\n",
       "    <tr>\n",
       "      <th>0</th>\n",
       "      <td>1</td>\n",
       "      <td>Joe</td>\n",
       "      <td>70000</td>\n",
       "      <td>3</td>\n",
       "      <td>3</td>\n",
       "      <td>Sam</td>\n",
       "      <td>60000</td>\n",
       "      <td>&lt;NA&gt;</td>\n",
       "    </tr>\n",
       "    <tr>\n",
       "      <th>1</th>\n",
       "      <td>2</td>\n",
       "      <td>Henry</td>\n",
       "      <td>80000</td>\n",
       "      <td>4</td>\n",
       "      <td>4</td>\n",
       "      <td>Max</td>\n",
       "      <td>90000</td>\n",
       "      <td>&lt;NA&gt;</td>\n",
       "    </tr>\n",
       "  </tbody>\n",
       "</table>\n",
       "</div>"
      ],
      "text/plain": [
       "   id_x name_x  salary_x  managerId_x  id_y name_y  salary_y  managerId_y\n",
       "0     1    Joe     70000            3     3    Sam     60000         <NA>\n",
       "1     2  Henry     80000            4     4    Max     90000         <NA>"
      ]
     },
     "execution_count": 50,
     "metadata": {},
     "output_type": "execute_result"
    }
   ],
   "source": [
    "z = pd.merge(employee, employee, left_on = \"managerId\", right_on = \"id\")\n",
    "z"
   ]
  },
  {
   "cell_type": "code",
   "execution_count": 52,
   "id": "d9cb647b-9718-42d2-a2ea-17187cfdcfa4",
   "metadata": {
    "tags": []
   },
   "outputs": [
    {
     "data": {
      "text/html": [
       "<div>\n",
       "<style scoped>\n",
       "    .dataframe tbody tr th:only-of-type {\n",
       "        vertical-align: middle;\n",
       "    }\n",
       "\n",
       "    .dataframe tbody tr th {\n",
       "        vertical-align: top;\n",
       "    }\n",
       "\n",
       "    .dataframe thead th {\n",
       "        text-align: right;\n",
       "    }\n",
       "</style>\n",
       "<table border=\"1\" class=\"dataframe\">\n",
       "  <thead>\n",
       "    <tr style=\"text-align: right;\">\n",
       "      <th></th>\n",
       "      <th>Employee</th>\n",
       "    </tr>\n",
       "  </thead>\n",
       "  <tbody>\n",
       "    <tr>\n",
       "      <th>0</th>\n",
       "      <td>Joe</td>\n",
       "    </tr>\n",
       "  </tbody>\n",
       "</table>\n",
       "</div>"
      ],
      "text/plain": [
       "  Employee\n",
       "0      Joe"
      ]
     },
     "execution_count": 52,
     "metadata": {},
     "output_type": "execute_result"
    }
   ],
   "source": [
    "z.loc[z.salary_x>z.salary_y][\"name_x\"].to_frame().rename(columns = {\"name_x\":\"Employee\"})"
   ]
  },
  {
   "cell_type": "markdown",
   "id": "40c96580-fc55-40d5-b5ad-bec8e9fc292c",
   "metadata": {},
   "source": [
    "## 183. Customers Who Never Order"
   ]
  },
  {
   "cell_type": "code",
   "execution_count": 5,
   "id": "99a89439-adbd-4dc9-b0e0-0347524ad667",
   "metadata": {
    "tags": []
   },
   "outputs": [],
   "source": [
    "data = [[1, 'Joe'], [2, 'Henry'], [3, 'Sam'], [4, 'Max']]\n",
    "customers = pd.DataFrame(data, columns=['id', 'name']).astype({'id':'Int64', 'name':'object'})\n",
    "data = [[1, 3], [2, 1]]\n",
    "orders = pd.DataFrame(data, columns=['id', 'customerId']).astype({'id':'Int64', 'customerId':'Int64'})"
   ]
  },
  {
   "cell_type": "code",
   "execution_count": 6,
   "id": "971835fd-41f9-4707-99e4-838d5770a092",
   "metadata": {
    "tags": []
   },
   "outputs": [
    {
     "data": {
      "text/html": [
       "<div>\n",
       "<style scoped>\n",
       "    .dataframe tbody tr th:only-of-type {\n",
       "        vertical-align: middle;\n",
       "    }\n",
       "\n",
       "    .dataframe tbody tr th {\n",
       "        vertical-align: top;\n",
       "    }\n",
       "\n",
       "    .dataframe thead th {\n",
       "        text-align: right;\n",
       "    }\n",
       "</style>\n",
       "<table border=\"1\" class=\"dataframe\">\n",
       "  <thead>\n",
       "    <tr style=\"text-align: right;\">\n",
       "      <th></th>\n",
       "      <th>id</th>\n",
       "      <th>name</th>\n",
       "    </tr>\n",
       "  </thead>\n",
       "  <tbody>\n",
       "    <tr>\n",
       "      <th>0</th>\n",
       "      <td>1</td>\n",
       "      <td>Joe</td>\n",
       "    </tr>\n",
       "    <tr>\n",
       "      <th>1</th>\n",
       "      <td>2</td>\n",
       "      <td>Henry</td>\n",
       "    </tr>\n",
       "    <tr>\n",
       "      <th>2</th>\n",
       "      <td>3</td>\n",
       "      <td>Sam</td>\n",
       "    </tr>\n",
       "    <tr>\n",
       "      <th>3</th>\n",
       "      <td>4</td>\n",
       "      <td>Max</td>\n",
       "    </tr>\n",
       "  </tbody>\n",
       "</table>\n",
       "</div>"
      ],
      "text/plain": [
       "   id   name\n",
       "0   1    Joe\n",
       "1   2  Henry\n",
       "2   3    Sam\n",
       "3   4    Max"
      ]
     },
     "execution_count": 6,
     "metadata": {},
     "output_type": "execute_result"
    }
   ],
   "source": [
    "customers"
   ]
  },
  {
   "cell_type": "code",
   "execution_count": 7,
   "id": "3f40bd79-000f-42a9-8e95-04d05d9b0f2b",
   "metadata": {
    "tags": []
   },
   "outputs": [
    {
     "data": {
      "text/html": [
       "<div>\n",
       "<style scoped>\n",
       "    .dataframe tbody tr th:only-of-type {\n",
       "        vertical-align: middle;\n",
       "    }\n",
       "\n",
       "    .dataframe tbody tr th {\n",
       "        vertical-align: top;\n",
       "    }\n",
       "\n",
       "    .dataframe thead th {\n",
       "        text-align: right;\n",
       "    }\n",
       "</style>\n",
       "<table border=\"1\" class=\"dataframe\">\n",
       "  <thead>\n",
       "    <tr style=\"text-align: right;\">\n",
       "      <th></th>\n",
       "      <th>id</th>\n",
       "      <th>customerId</th>\n",
       "    </tr>\n",
       "  </thead>\n",
       "  <tbody>\n",
       "    <tr>\n",
       "      <th>0</th>\n",
       "      <td>1</td>\n",
       "      <td>3</td>\n",
       "    </tr>\n",
       "    <tr>\n",
       "      <th>1</th>\n",
       "      <td>2</td>\n",
       "      <td>1</td>\n",
       "    </tr>\n",
       "  </tbody>\n",
       "</table>\n",
       "</div>"
      ],
      "text/plain": [
       "   id  customerId\n",
       "0   1           3\n",
       "1   2           1"
      ]
     },
     "execution_count": 7,
     "metadata": {},
     "output_type": "execute_result"
    }
   ],
   "source": [
    "orders"
   ]
  },
  {
   "cell_type": "code",
   "execution_count": 12,
   "id": "c08da0f7-6e09-4abc-ac03-98d2ef54c5a8",
   "metadata": {
    "tags": []
   },
   "outputs": [
    {
     "data": {
      "text/html": [
       "<div>\n",
       "<style scoped>\n",
       "    .dataframe tbody tr th:only-of-type {\n",
       "        vertical-align: middle;\n",
       "    }\n",
       "\n",
       "    .dataframe tbody tr th {\n",
       "        vertical-align: top;\n",
       "    }\n",
       "\n",
       "    .dataframe thead th {\n",
       "        text-align: right;\n",
       "    }\n",
       "</style>\n",
       "<table border=\"1\" class=\"dataframe\">\n",
       "  <thead>\n",
       "    <tr style=\"text-align: right;\">\n",
       "      <th></th>\n",
       "      <th>name</th>\n",
       "    </tr>\n",
       "  </thead>\n",
       "  <tbody>\n",
       "    <tr>\n",
       "      <th>1</th>\n",
       "      <td>Henry</td>\n",
       "    </tr>\n",
       "    <tr>\n",
       "      <th>3</th>\n",
       "      <td>Max</td>\n",
       "    </tr>\n",
       "  </tbody>\n",
       "</table>\n",
       "</div>"
      ],
      "text/plain": [
       "    name\n",
       "1  Henry\n",
       "3    Max"
      ]
     },
     "execution_count": 12,
     "metadata": {},
     "output_type": "execute_result"
    }
   ],
   "source": [
    "customers.loc[~customers.id.isin(orders.customerId)][\"name\"].to_frame()"
   ]
  },
  {
   "cell_type": "markdown",
   "id": "604f884d-f871-47f2-9b63-c577ec4e1ab4",
   "metadata": {},
   "source": [
    "## 190. Reverse Bits"
   ]
  },
  {
   "cell_type": "code",
   "execution_count": 61,
   "id": "ae3acb27-b9e3-42f3-b527-e6bbba330092",
   "metadata": {
    "tags": []
   },
   "outputs": [],
   "source": [
    "n = 43261596"
   ]
  },
  {
   "cell_type": "code",
   "execution_count": 62,
   "id": "a7ed5666-af49-4f67-942d-ea6318ce4993",
   "metadata": {
    "tags": []
   },
   "outputs": [],
   "source": [
    "# My Solution\n",
    "def reverse_bits(n):\n",
    "    if n < 0:\n",
    "        n = bin(n)[3:][::-1]\n",
    "    else:\n",
    "        n = bin(n)[2:][::-1]\n",
    "    return int(n + \"0\"*(32-len(n)), 2)"
   ]
  },
  {
   "cell_type": "code",
   "execution_count": 64,
   "id": "05ae7b5a-9a8a-4d4b-bdf6-7ca5c8b18043",
   "metadata": {
    "tags": []
   },
   "outputs": [
    {
     "data": {
      "text/plain": [
       "964176192"
      ]
     },
     "execution_count": 64,
     "metadata": {},
     "output_type": "execute_result"
    }
   ],
   "source": [
    "reverse_bits(n)"
   ]
  },
  {
   "cell_type": "code",
   "execution_count": 77,
   "id": "64c1b710-e963-450b-b728-464cdee2b672",
   "metadata": {
    "tags": []
   },
   "outputs": [
    {
     "data": {
      "text/plain": [
       "3"
      ]
     },
     "execution_count": 77,
     "metadata": {},
     "output_type": "execute_result"
    }
   ],
   "source": [
    "2 | 1"
   ]
  },
  {
   "cell_type": "code",
   "execution_count": 83,
   "id": "d08c5bd0-1d87-4ecb-ba69-c3846a6ab1e6",
   "metadata": {
    "tags": []
   },
   "outputs": [],
   "source": [
    "# Bit Manipulation: https://www.youtube.com/watch?v=LJiMk8lPJNc\n",
    "def reverse_bits(n):\n",
    "    res = 0\n",
    "    for i in range(32):\n",
    "        bit = (n >> i) & 1\n",
    "        res = res | (bit << (31 - i))\n",
    "    return res"
   ]
  },
  {
   "cell_type": "code",
   "execution_count": 79,
   "id": "5543266e-f0c1-4164-a79b-028449d54316",
   "metadata": {
    "tags": []
   },
   "outputs": [
    {
     "data": {
      "text/plain": [
       "964176192"
      ]
     },
     "execution_count": 79,
     "metadata": {},
     "output_type": "execute_result"
    }
   ],
   "source": [
    "reverse_bits(n)"
   ]
  },
  {
   "cell_type": "markdown",
   "id": "f717ffcf-35f1-49f5-b87c-c18bc71be1da",
   "metadata": {},
   "source": [
    "## 191. Number of 1 Bits"
   ]
  },
  {
   "cell_type": "code",
   "execution_count": 80,
   "id": "7398cc57-09a9-45c5-bc15-25248e815383",
   "metadata": {
    "tags": []
   },
   "outputs": [],
   "source": [
    "n = 11"
   ]
  },
  {
   "cell_type": "code",
   "execution_count": 84,
   "id": "687ebbfe-8bbc-45ae-a301-657018b91110",
   "metadata": {
    "tags": []
   },
   "outputs": [],
   "source": [
    "# My Solution\n",
    "def hamming_weight(n):\n",
    "    res = 0\n",
    "    for i in range(32):\n",
    "        bit = (n >> i) & 1\n",
    "        res += (1 if bit == 1 else 0)\n",
    "    return res"
   ]
  },
  {
   "cell_type": "code",
   "execution_count": 82,
   "id": "aaaa885a-e616-4d62-8675-40210d3a6192",
   "metadata": {
    "tags": []
   },
   "outputs": [
    {
     "data": {
      "text/plain": [
       "3"
      ]
     },
     "execution_count": 82,
     "metadata": {},
     "output_type": "execute_result"
    }
   ],
   "source": [
    "hamming_weight(n)"
   ]
  },
  {
   "cell_type": "markdown",
   "id": "ed91a654-b71f-4032-959c-9ebb5100bb33",
   "metadata": {},
   "source": [
    "## 202. Happy Number"
   ]
  },
  {
   "cell_type": "code",
   "execution_count": 85,
   "id": "85d17e2c-b8b0-4ef4-ac15-a71b540004ce",
   "metadata": {
    "tags": []
   },
   "outputs": [],
   "source": [
    "n = 19"
   ]
  },
  {
   "cell_type": "code",
   "execution_count": 106,
   "id": "1ff2f6eb-34d4-4ae8-9fd7-d6f555031a43",
   "metadata": {
    "tags": []
   },
   "outputs": [],
   "source": [
    "# My Solution\n",
    "def ishappy(n):\n",
    "    track = set()\n",
    "    track.add(n)\n",
    "    res = n\n",
    "    while res != 1:\n",
    "        res = 0\n",
    "        for i in str(n):\n",
    "            res += int(i) ** 2\n",
    "        if res in track:\n",
    "            return False\n",
    "        track.add(res)\n",
    "        n = res\n",
    "    return True"
   ]
  },
  {
   "cell_type": "code",
   "execution_count": 108,
   "id": "7646bdac-4538-4841-9dd4-1c9a263eeb7e",
   "metadata": {
    "tags": []
   },
   "outputs": [
    {
     "data": {
      "text/plain": [
       "True"
      ]
     },
     "execution_count": 108,
     "metadata": {},
     "output_type": "execute_result"
    }
   ],
   "source": [
    "ishappy(1)"
   ]
  },
  {
   "cell_type": "markdown",
   "id": "ec8b9bc6-0d1e-494f-a900-ac79b6bf7e89",
   "metadata": {},
   "source": [
    "## 203. Remove Linked List Elements"
   ]
  },
  {
   "cell_type": "code",
   "execution_count": 125,
   "id": "bf9de8ce-326a-4553-96a6-10feb22c641b",
   "metadata": {
    "tags": []
   },
   "outputs": [],
   "source": [
    "# My Solution\n",
    "def removeElements(head, val):\n",
    "    while head and (head.val == val):\n",
    "        head = head.next\n",
    "    prev, curr = head, head\n",
    "    while curr:\n",
    "        if curr.val == val:\n",
    "            prev.next = curr.next\n",
    "        else:\n",
    "            prev = curr\n",
    "        curr = curr.next\n",
    "    return head"
   ]
  },
  {
   "cell_type": "markdown",
   "id": "d0ad335f-8141-4afe-ad39-60ef745f5c3e",
   "metadata": {},
   "source": [
    "## 205. Isomorphic Strings"
   ]
  },
  {
   "cell_type": "code",
   "execution_count": 116,
   "id": "9669575c-5b3a-4075-b932-e5df4f29df89",
   "metadata": {
    "tags": []
   },
   "outputs": [],
   "source": [
    "s = \"paper\"\n",
    "t = \"title\""
   ]
  },
  {
   "cell_type": "code",
   "execution_count": 121,
   "id": "0c24ca4a-e9cb-46ff-98f8-ace14b9f20c0",
   "metadata": {
    "tags": []
   },
   "outputs": [],
   "source": [
    "# My Solution\n",
    "def isomorphic(s, t):\n",
    "    track = dict()\n",
    "    val = set()\n",
    "    if len(s) != len(t):\n",
    "        return False\n",
    "    for i in range(len(s)):\n",
    "        if (s[i] not in track) and (t[i] not in val):\n",
    "            track[s[i]] = t[i]\n",
    "            val.add(t[i])\n",
    "        else:\n",
    "            if track.get(s[i], 0) != t[i]:\n",
    "                return False\n",
    "    return True"
   ]
  },
  {
   "cell_type": "code",
   "execution_count": 118,
   "id": "9a140b1c-0b41-4ae6-bc33-37e89719ab17",
   "metadata": {
    "tags": []
   },
   "outputs": [
    {
     "data": {
      "text/plain": [
       "True"
      ]
     },
     "execution_count": 118,
     "metadata": {},
     "output_type": "execute_result"
    }
   ],
   "source": [
    "isomorphic(s, t)"
   ]
  },
  {
   "cell_type": "code",
   "execution_count": 119,
   "id": "8e44df1a-430c-48ae-b23d-7caaa49b43bf",
   "metadata": {
    "tags": []
   },
   "outputs": [
    {
     "data": {
      "text/plain": [
       "False"
      ]
     },
     "execution_count": 119,
     "metadata": {},
     "output_type": "execute_result"
    }
   ],
   "source": [
    "s = \"foo\"\n",
    "t = \"bar\"\n",
    "isomorphic(s, t)"
   ]
  },
  {
   "cell_type": "code",
   "execution_count": 120,
   "id": "2a167403-6049-4b50-9701-876ce0308b91",
   "metadata": {
    "tags": []
   },
   "outputs": [
    {
     "data": {
      "text/plain": [
       "False"
      ]
     },
     "execution_count": 120,
     "metadata": {},
     "output_type": "execute_result"
    }
   ],
   "source": [
    "s = \"badc\"\n",
    "t = \"baba\"\n",
    "isomorphic(s, t)"
   ]
  },
  {
   "cell_type": "markdown",
   "id": "9e011655-4118-47a7-8823-199df0b3388f",
   "metadata": {},
   "source": [
    "## 206. Reverse Linked List"
   ]
  },
  {
   "cell_type": "code",
   "execution_count": 2,
   "id": "7f3410d8-5374-491b-89eb-165d1cf20754",
   "metadata": {},
   "outputs": [],
   "source": [
    "# Best Solution: https://youtu.be/G0_I-ZF0S38?si=3Nauksw350I-npgD\n",
    "# 3 pointer approach\n",
    "def reverseList(head):\n",
    "    prev = None\n",
    "    curr = head\n",
    "    while curr:\n",
    "        nxt = curr.next\n",
    "        curr.next = prev\n",
    "        prev = curr\n",
    "        curr = nxt\n",
    "    return prev"
   ]
  },
  {
   "cell_type": "markdown",
   "id": "0344c2cd-47cb-4b77-abc8-8c6b4ebb1927",
   "metadata": {},
   "source": [
    "## 217. Contains Duplicate"
   ]
  },
  {
   "cell_type": "code",
   "execution_count": 13,
   "id": "4dc431ea-1723-453e-9f53-96dbb2213213",
   "metadata": {
    "tags": []
   },
   "outputs": [],
   "source": [
    "nums = [1,2,3,1]"
   ]
  },
  {
   "cell_type": "code",
   "execution_count": 14,
   "id": "d640a06f-ab20-4770-a3f2-796c1fa18983",
   "metadata": {
    "tags": []
   },
   "outputs": [],
   "source": [
    "def contains_duplicates(nums):\n",
    "    track = defaultdict(int)\n",
    "    for num in nums:\n",
    "        track[num] += 1\n",
    "        if track[num] > 1:\n",
    "            return True\n",
    "    return False"
   ]
  },
  {
   "cell_type": "code",
   "execution_count": 15,
   "id": "6c06290e-b5cc-456c-a256-e6c493a01867",
   "metadata": {
    "tags": []
   },
   "outputs": [
    {
     "data": {
      "text/plain": [
       "True"
      ]
     },
     "execution_count": 15,
     "metadata": {},
     "output_type": "execute_result"
    }
   ],
   "source": [
    "contains_duplicates(nums)"
   ]
  },
  {
   "cell_type": "code",
   "execution_count": 16,
   "id": "4f0e1d14-92aa-4e11-a482-7135e2831fd5",
   "metadata": {
    "tags": []
   },
   "outputs": [
    {
     "data": {
      "text/plain": [
       "False"
      ]
     },
     "execution_count": 16,
     "metadata": {},
     "output_type": "execute_result"
    }
   ],
   "source": [
    "nums = [1,2,3,4]\n",
    "contains_duplicates(nums)"
   ]
  },
  {
   "cell_type": "markdown",
   "id": "bc03182d-9152-4b6e-b270-1d2eb2488533",
   "metadata": {},
   "source": [
    "## 219. Contains Duplicate II"
   ]
  },
  {
   "cell_type": "code",
   "execution_count": 64,
   "id": "5fb03f7f-8be3-4840-a2b6-1f7523ed9100",
   "metadata": {
    "tags": []
   },
   "outputs": [],
   "source": [
    "nums = [1,2,3,1,2,3]\n",
    "k = 2"
   ]
  },
  {
   "cell_type": "code",
   "execution_count": 84,
   "id": "cbaa989b-dab2-486e-9a43-0cdc2f267636",
   "metadata": {
    "tags": []
   },
   "outputs": [],
   "source": [
    "# My Solution\n",
    "def nearby_duplicates(nums, k):\n",
    "    track = set()\n",
    "    start, end = 0, k + 1\n",
    "    for i in nums[start:end]:\n",
    "        if i in track:\n",
    "            return True\n",
    "        else:\n",
    "            track.add(i)\n",
    "    ic(track)\n",
    "    for j in range(len(nums) - k - 1):\n",
    "        ic(start)\n",
    "        ic(nums[start])\n",
    "        ic(track)\n",
    "        track.remove(nums[start])\n",
    "        ic(track)\n",
    "        ic(end)\n",
    "        if nums[end] in track:\n",
    "            return True\n",
    "        else:\n",
    "            track.add(nums[end])\n",
    "        start += 1\n",
    "        end += 1\n",
    "    return False"
   ]
  },
  {
   "cell_type": "code",
   "execution_count": 66,
   "id": "ffd91475-ad3e-46cd-9def-c86b3cdb86f0",
   "metadata": {
    "tags": []
   },
   "outputs": [
    {
     "name": "stderr",
     "output_type": "stream",
     "text": [
      "ic| track: {1, 2, 3}\n",
      "ic| start: 0\n",
      "ic| nums[start]: 1\n",
      "ic| track: {1, 2, 3}\n",
      "ic| track: {2, 3}\n",
      "ic| end: 3\n",
      "ic| start: 1\n",
      "ic| nums[start]: 2\n",
      "ic| track: {1, 2, 3}\n",
      "ic| track: {1, 3}\n",
      "ic| end: 4\n",
      "ic| start: 2\n",
      "ic| nums[start]: 3\n",
      "ic| track: {1, 2, 3}\n",
      "ic| track: {1, 2}\n",
      "ic| end: 5\n"
     ]
    },
    {
     "data": {
      "text/plain": [
       "False"
      ]
     },
     "execution_count": 66,
     "metadata": {},
     "output_type": "execute_result"
    }
   ],
   "source": [
    "nearby_duplicates(nums, k)"
   ]
  },
  {
   "cell_type": "code",
   "execution_count": 67,
   "id": "a2fee890-7e4e-4174-ab4d-e19b57b47ad3",
   "metadata": {
    "tags": []
   },
   "outputs": [
    {
     "data": {
      "text/plain": [
       "True"
      ]
     },
     "execution_count": 67,
     "metadata": {},
     "output_type": "execute_result"
    }
   ],
   "source": [
    "nums = [1,2,3,1]\n",
    "k = 3\n",
    "nearby_duplicates(nums, k)"
   ]
  },
  {
   "cell_type": "code",
   "execution_count": 68,
   "id": "8de2eb41-9e3e-4b4f-b4b6-869cf921ff40",
   "metadata": {
    "tags": []
   },
   "outputs": [
    {
     "name": "stderr",
     "output_type": "stream",
     "text": [
      "ic| track: {0, 1}\n",
      "ic| start: 0\n",
      "ic| nums[start]: 1\n",
      "ic| track: {0, 1}\n",
      "ic| track: {0}\n",
      "ic| end: 2\n",
      "ic| start: 1\n",
      "ic| nums[start]: 0\n",
      "ic| track: {0, 1}\n",
      "ic| track: {1}\n",
      "ic| end: 3\n"
     ]
    },
    {
     "data": {
      "text/plain": [
       "True"
      ]
     },
     "execution_count": 68,
     "metadata": {},
     "output_type": "execute_result"
    }
   ],
   "source": [
    "nums = [1,0,1,1]\n",
    "k = 1\n",
    "nearby_duplicates(nums, k)"
   ]
  },
  {
   "cell_type": "markdown",
   "id": "150cb40a-c5a9-4c1a-9049-a85769ad07fa",
   "metadata": {},
   "source": [
    "## 225. Implement Stack using Queues"
   ]
  },
  {
   "cell_type": "code",
   "execution_count": 83,
   "id": "73d1e528-c496-435a-b973-ee6ae854cd86",
   "metadata": {
    "tags": []
   },
   "outputs": [],
   "source": [
    "# My Solution\n",
    "class MyStack:\n",
    "    def __init__(self):\n",
    "        self.myStack = deque()\n",
    "\n",
    "    def push(self, x: int) -> None:\n",
    "        self.myStack.appendleft(x)\n",
    "\n",
    "    def pop(self) -> int:\n",
    "        return self.myStack.popleft()\n",
    "\n",
    "    def top(self) -> int:\n",
    "        return self.myStack[0]\n",
    "\n",
    "    def empty(self) -> bool:\n",
    "        if len(self.myStack) == 0:\n",
    "            return True\n",
    "        return False"
   ]
  },
  {
   "cell_type": "markdown",
   "id": "ec97696e-5b44-4918-bb8b-1f581d044d19",
   "metadata": {},
   "source": [
    "## 226. Invert Binary Tree"
   ]
  },
  {
   "cell_type": "code",
   "execution_count": 82,
   "id": "fd5ef5af-2f77-489e-941c-c0a26cb6a67b",
   "metadata": {
    "tags": []
   },
   "outputs": [],
   "source": [
    "# Recursion Solution: https://www.youtube.com/watch?v=OnSn2XEQ4MY\n",
    "def invertTree(root):\n",
    "    if not root:\n",
    "        return None\n",
    "    temp = root.left\n",
    "    root.left = root.right\n",
    "    root.right = temp\n",
    "    self.invertTree(root.left)\n",
    "    self.invertTree(root.right)\n",
    "    return root"
   ]
  },
  {
   "cell_type": "markdown",
   "id": "7379c384-90cf-4808-9250-5de31eed1fc3",
   "metadata": {},
   "source": [
    "## 231. Power of Two"
   ]
  },
  {
   "cell_type": "code",
   "execution_count": 181,
   "id": "4f02de99-f048-4506-9bab-dc934e586aa7",
   "metadata": {
    "tags": []
   },
   "outputs": [],
   "source": [
    "# Best Solution: https://www.youtube.com/watch?v=4cqHahxFTYw\n",
    "# Check out other cool solutions in runtime distribution chart\n",
    "from math import ceil, floor, log2\n",
    "def power_of_two(n):\n",
    "    if n == 0:\n",
    "        return False\n",
    "    if ceil(log2(n)) == floor(log2(n)):\n",
    "        return True\n",
    "    return False"
   ]
  },
  {
   "cell_type": "code",
   "execution_count": 182,
   "id": "9f0bb43e-56e0-4c87-b019-ad5f8bbadbf3",
   "metadata": {
    "tags": []
   },
   "outputs": [
    {
     "data": {
      "text/plain": [
       "True"
      ]
     },
     "execution_count": 182,
     "metadata": {},
     "output_type": "execute_result"
    }
   ],
   "source": [
    "power_of_two(1)"
   ]
  },
  {
   "cell_type": "markdown",
   "id": "f1c8783b-efd2-450f-ad4b-633964433489",
   "metadata": {},
   "source": [
    "## 232. Implement Queue using Stacks"
   ]
  },
  {
   "cell_type": "code",
   "execution_count": 1,
   "id": "357d8b75-018e-420e-8160-021ac397a582",
   "metadata": {},
   "outputs": [],
   "source": [
    "# Pointer approach\n",
    "class MyQueue:\n",
    "\n",
    "    def __init__(self):\n",
    "        self.myQueue = []\n",
    "        self.start = 0\n",
    "        self.end = 0\n",
    "\n",
    "    def push(self, x: int) -> None:\n",
    "        self.myQueue.append(x)\n",
    "        self.end += 1\n",
    "\n",
    "    def pop(self) -> int:\n",
    "        if(self.start == self.end):\n",
    "            return -1\n",
    "        first = self.myQueue[self.start]\n",
    "        self.start += 1\n",
    "        return first\n",
    "\n",
    "    def peek(self) -> int:\n",
    "        return self.myQueue[self.start]\n",
    "\n",
    "    def empty(self) -> bool:\n",
    "        return (self.start == self.end)"
   ]
  },
  {
   "cell_type": "markdown",
   "id": "9c4fd20c-688e-4c6b-a8ec-12ef82beac72",
   "metadata": {},
   "source": [
    "## 234. Palindrome Linked List"
   ]
  },
  {
   "cell_type": "code",
   "execution_count": 2,
   "id": "141a0ad2-5873-4e39-b415-13f91d824958",
   "metadata": {
    "tags": []
   },
   "outputs": [],
   "source": [
    "# Best Solution O(n) time and O(1) memory: https://youtu.be/yOzXms1J6Nk?si=MfF7EnrNA8Fr6bJV\n",
    "def isPalindrome(head):\n",
    "    # Finding the mid point in the list using slow and fast pointer\n",
    "    slow = head\n",
    "    fast = head\n",
    "    while fast and fast.next:\n",
    "        slow = slow.next\n",
    "        fast = fast.next.next\n",
    "\n",
    "    # Reversing the 2nd half of the list\n",
    "    prev = None\n",
    "    while slow:\n",
    "        nxt = slow.next\n",
    "        slow.next = prev\n",
    "        prev = slow\n",
    "        slow = nxt\n",
    "\n",
    "    # Standard palindorme comparision\n",
    "    while prev:\n",
    "        if head.val != prev.val:\n",
    "            return False\n",
    "        head = head.next\n",
    "        prev = prev.next\n",
    "    return True"
   ]
  },
  {
   "cell_type": "markdown",
   "id": "2aad8201-2363-4281-a962-36fef34673ed",
   "metadata": {},
   "source": [
    "## 242. Valid Anagram"
   ]
  },
  {
   "cell_type": "code",
   "execution_count": 61,
   "id": "1c25f7f8-a4f8-4fe8-9e30-451913aff813",
   "metadata": {
    "tags": []
   },
   "outputs": [],
   "source": [
    "s = \"rat\"\n",
    "t = \"car\""
   ]
  },
  {
   "cell_type": "code",
   "execution_count": 14,
   "id": "a787e245-ad83-4a08-875e-a2994832251e",
   "metadata": {
    "tags": []
   },
   "outputs": [],
   "source": [
    "s = sorted(s)\n",
    "t = sorted(t)"
   ]
  },
  {
   "cell_type": "code",
   "execution_count": 16,
   "id": "237db648-c457-4d79-958d-cc1cf958a0ad",
   "metadata": {
    "tags": []
   },
   "outputs": [
    {
     "name": "stdout",
     "output_type": "stream",
     "text": [
      "['a', 'r', 't']\n",
      "['a', 'c', 'r']\n"
     ]
    }
   ],
   "source": [
    "print(s)\n",
    "print(t)"
   ]
  },
  {
   "cell_type": "code",
   "execution_count": 22,
   "id": "52e17c04-93a4-47c8-b088-042e322559a1",
   "metadata": {
    "tags": []
   },
   "outputs": [],
   "source": [
    "# Sorting Solution\n",
    "def anagram(s, t):\n",
    "    for i in range(len(s)):\n",
    "        if s[i] != t[i]:\n",
    "            return False\n",
    "    return True"
   ]
  },
  {
   "cell_type": "code",
   "execution_count": 23,
   "id": "a21de806-92a1-44e0-a4c3-266228489713",
   "metadata": {
    "tags": []
   },
   "outputs": [
    {
     "data": {
      "text/plain": [
       "False"
      ]
     },
     "execution_count": 23,
     "metadata": {},
     "output_type": "execute_result"
    }
   ],
   "source": [
    "anagaram(s, t)"
   ]
  },
  {
   "cell_type": "code",
   "execution_count": 58,
   "id": "87574023-13c3-4299-b599-988637ce828b",
   "metadata": {
    "tags": []
   },
   "outputs": [],
   "source": [
    "# Hash map solution\n",
    "def anagram(s, t):\n",
    "    if len(s) != len(t):\n",
    "        return False\n",
    "    s_hash = defaultdict(int)\n",
    "    t_hash = defaultdict(int)\n",
    "    for i in range(len(s)):\n",
    "        s_hash[s[i]] += 1\n",
    "        t_hash[t[i]] += 1\n",
    "    ic(s_hash)\n",
    "    ic(t_hash)\n",
    "    for i in s_hash.keys():\n",
    "        if s_hash.get(i, 0) != t_hash.get(i, 0):\n",
    "            return False\n",
    "    return True"
   ]
  },
  {
   "cell_type": "code",
   "execution_count": 62,
   "id": "ad07c59a-7a6d-4f72-aa7e-ae6197048ade",
   "metadata": {
    "tags": []
   },
   "outputs": [
    {
     "name": "stderr",
     "output_type": "stream",
     "text": [
      "ic| s_hash: defaultdict(<class 'int'>, {'r': 1, 'a': 1, 't': 1})\n",
      "ic| t_hash: defaultdict(<class 'int'>, {'c': 1, 'a': 1, 'r': 1})\n"
     ]
    },
    {
     "data": {
      "text/plain": [
       "False"
      ]
     },
     "execution_count": 62,
     "metadata": {},
     "output_type": "execute_result"
    }
   ],
   "source": [
    "anagram(s, t)"
   ]
  },
  {
   "cell_type": "code",
   "execution_count": 59,
   "id": "396a5c3a-e315-4b75-a165-d8ee6aaba75b",
   "metadata": {
    "tags": []
   },
   "outputs": [],
   "source": [
    "s = \"anagram\"\n",
    "t = \"nagaram\""
   ]
  },
  {
   "cell_type": "code",
   "execution_count": 60,
   "id": "2f85486e-ff98-4f0e-b132-7c974eccdccf",
   "metadata": {
    "tags": []
   },
   "outputs": [
    {
     "name": "stderr",
     "output_type": "stream",
     "text": [
      "ic| s_hash: defaultdict(<class 'int'>, {'a': 3, 'n': 1, 'g': 1, 'r': 1, 'm': 1})\n",
      "ic| t_hash: defaultdict(<class 'int'>, {'n': 1, 'a': 3, 'g': 1, 'r': 1, 'm': 1})\n"
     ]
    },
    {
     "data": {
      "text/plain": [
       "True"
      ]
     },
     "execution_count": 60,
     "metadata": {},
     "output_type": "execute_result"
    }
   ],
   "source": [
    "anagram(s, t)"
   ]
  },
  {
   "cell_type": "markdown",
   "id": "79e7dc7d-c8e9-4b79-9f78-7f456625def6",
   "metadata": {},
   "source": [
    "## 257. Binary Tree Paths"
   ]
  },
  {
   "cell_type": "code",
   "execution_count": 66,
   "id": "379445a2-7a59-41b7-addc-7b1364fd9b12",
   "metadata": {
    "tags": []
   },
   "outputs": [],
   "source": [
    "# Recursion Solution using dfs\n",
    "def binaryTreePaths(root):\n",
    "    res = []\n",
    "\n",
    "    def dfs(root, path):\n",
    "        if not root:\n",
    "            return\n",
    "\n",
    "        if (root.left == None) and (root.right == None):\n",
    "            path.append(str(root.val))\n",
    "            res.append(\"->\".join(path))\n",
    "            path.pop()\n",
    "\n",
    "        path.append(str(root.val))\n",
    "        dfs(root.left, path)\n",
    "        dfs(root.right, path)\n",
    "        path.pop()\n",
    "\n",
    "    dfs(root, [])\n",
    "    return res"
   ]
  },
  {
   "cell_type": "markdown",
   "id": "c780d0b6-6376-4a53-850b-69f8963cd5c5",
   "metadata": {},
   "source": [
    "## 258. Add Digits"
   ]
  },
  {
   "cell_type": "code",
   "execution_count": 9,
   "id": "81371dbd-4acd-40df-ba77-a8c4a8db1611",
   "metadata": {
    "tags": []
   },
   "outputs": [],
   "source": [
    "# My Solution\n",
    "def add_digit(num):\n",
    "    while (num // 10) != 0:\n",
    "        su = 0\n",
    "        while num != 0:\n",
    "            su = su + (num % 10)\n",
    "            num = num // 10\n",
    "        num = su\n",
    "    return num"
   ]
  },
  {
   "cell_type": "code",
   "execution_count": 10,
   "id": "bbc64553-013b-4214-88bd-a793a21f31a5",
   "metadata": {
    "tags": []
   },
   "outputs": [
    {
     "data": {
      "text/plain": [
       "2"
      ]
     },
     "execution_count": 10,
     "metadata": {},
     "output_type": "execute_result"
    }
   ],
   "source": [
    "add_digit(38)"
   ]
  },
  {
   "cell_type": "markdown",
   "id": "dd6af140-3121-4bbc-8636-1f6079cc5a90",
   "metadata": {},
   "source": [
    "## 263. Ugly Number"
   ]
  },
  {
   "cell_type": "code",
   "execution_count": 9,
   "id": "95972a83-5da9-4ef6-aa48-2a74489af165",
   "metadata": {
    "tags": []
   },
   "outputs": [],
   "source": [
    "# Best Solution: https://youtu.be/M0Zay1Qr9ws?si=j2t2GKPWp9iytQyL\n",
    "def ugly_number(n):\n",
    "    if n <= 0:\n",
    "        return False\n",
    "    for i in [2, 3, 5]:\n",
    "        while (n % i) == 0:\n",
    "            n = n // i\n",
    "    return (n == 1)"
   ]
  },
  {
   "cell_type": "code",
   "execution_count": 10,
   "id": "54214210-59e4-42f1-9436-68c13962988d",
   "metadata": {
    "tags": []
   },
   "outputs": [
    {
     "data": {
      "text/plain": [
       "False"
      ]
     },
     "execution_count": 10,
     "metadata": {},
     "output_type": "execute_result"
    }
   ],
   "source": [
    "ugly_number(14)"
   ]
  },
  {
   "cell_type": "markdown",
   "id": "cd2a3b5a-e92b-47d4-b9ef-1d05a049f35b",
   "metadata": {},
   "source": [
    "## 268. Missing Number"
   ]
  },
  {
   "cell_type": "code",
   "execution_count": 15,
   "id": "35e9c59e-0b2f-4807-a2df-ca944e37d35e",
   "metadata": {
    "tags": []
   },
   "outputs": [],
   "source": [
    "nums = [0, 1]"
   ]
  },
  {
   "cell_type": "code",
   "execution_count": 18,
   "id": "ae634154-99b2-40ab-b147-a52c0cb0d2a6",
   "metadata": {
    "tags": []
   },
   "outputs": [],
   "source": [
    "def missing_number(nums):\n",
    "    nums = sorted(nums)\n",
    "    for i in range(len(nums)):\n",
    "        if i != nums[i]:\n",
    "            return i\n",
    "    return i + 1"
   ]
  },
  {
   "cell_type": "code",
   "execution_count": 19,
   "id": "3cd09541-ad4d-4bd8-beea-1ac482097799",
   "metadata": {
    "tags": []
   },
   "outputs": [
    {
     "data": {
      "text/plain": [
       "2"
      ]
     },
     "execution_count": 19,
     "metadata": {},
     "output_type": "execute_result"
    }
   ],
   "source": [
    "missing_number(nums)"
   ]
  },
  {
   "cell_type": "code",
   "execution_count": 35,
   "id": "2fa86dad-16c8-49a5-beef-c4f340d73beb",
   "metadata": {
    "tags": []
   },
   "outputs": [
    {
     "data": {
      "text/plain": [
       "8"
      ]
     },
     "execution_count": 35,
     "metadata": {},
     "output_type": "execute_result"
    }
   ],
   "source": [
    "nums = [9,6,4,2,3,5,7,0,1]\n",
    "missing_number(nums)"
   ]
  },
  {
   "cell_type": "code",
   "execution_count": 21,
   "id": "59f2a7eb-736c-4bd9-ac46-91f08ac6f12e",
   "metadata": {
    "tags": []
   },
   "outputs": [
    {
     "data": {
      "text/plain": [
       "2"
      ]
     },
     "execution_count": 21,
     "metadata": {},
     "output_type": "execute_result"
    }
   ],
   "source": [
    "nums = [3,0,1]\n",
    "missing_number(nums)"
   ]
  },
  {
   "cell_type": "code",
   "execution_count": 39,
   "id": "7e916138-943e-454a-82f8-eaa81575960d",
   "metadata": {
    "tags": []
   },
   "outputs": [],
   "source": [
    "# Best Solution: https://www.youtube.com/watch?v=WnPLSRLSANE\n",
    "# Finding sum of first n natural numbers using Gauss formula: https://www.youtube.com/watch?v=JH2JyPgcNDg\n",
    "def missing_number(nums):\n",
    "    return int(((len(nums)*(len(nums) + 1))/2) - sum(nums))"
   ]
  },
  {
   "cell_type": "code",
   "execution_count": 40,
   "id": "b1541dff-e84c-4aa0-9f36-f8dc03cb3e8b",
   "metadata": {
    "tags": []
   },
   "outputs": [
    {
     "data": {
      "text/plain": [
       "8"
      ]
     },
     "execution_count": 40,
     "metadata": {},
     "output_type": "execute_result"
    }
   ],
   "source": [
    "missing_number(nums)"
   ]
  },
  {
   "cell_type": "markdown",
   "id": "e3978b62-3cf9-4868-9d1c-016bf8f8b7d6",
   "metadata": {},
   "source": [
    "## 278. First Bad Version"
   ]
  },
  {
   "cell_type": "code",
   "execution_count": 41,
   "id": "95fcb9d8-5a10-4d82-ad2e-2eb2c3d586f5",
   "metadata": {
    "tags": []
   },
   "outputs": [],
   "source": [
    "# My Solution: Binary search\n",
    "def firstBadVersion(n):\n",
    "    if n == 1 or isBadVersion(1):\n",
    "        return 1\n",
    "    start, end = 1, n\n",
    "    while (end - start) != 1:\n",
    "        mid = int((start + end) / 2)\n",
    "        if isBadVersion(mid):\n",
    "            end = mid\n",
    "        else:\n",
    "            start = mid\n",
    "    return int(end)"
   ]
  },
  {
   "cell_type": "code",
   "execution_count": 43,
   "id": "4d68b4e9-6775-412b-92f5-ca282baed689",
   "metadata": {
    "tags": []
   },
   "outputs": [],
   "source": [
    "nums.sort(reverse  = True)"
   ]
  },
  {
   "cell_type": "markdown",
   "id": "bc48553f-84f8-491a-a88a-c02e39b7a4f0",
   "metadata": {},
   "source": [
    "## 283. Move Zeroes"
   ]
  },
  {
   "cell_type": "code",
   "execution_count": 45,
   "id": "f1991d2a-37e0-4cfc-abb6-59d9b4c13000",
   "metadata": {
    "tags": []
   },
   "outputs": [],
   "source": [
    "for i in range(3,3):\n",
    "    i"
   ]
  },
  {
   "cell_type": "code",
   "execution_count": 46,
   "id": "e35b8782-179d-4934-93b6-7e4ccba8a0d6",
   "metadata": {
    "tags": []
   },
   "outputs": [
    {
     "data": {
      "text/plain": [
       "[9, 7, 6, 5, 4, 3, 2, 1, 0]"
      ]
     },
     "execution_count": 46,
     "metadata": {},
     "output_type": "execute_result"
    }
   ],
   "source": [
    "nums"
   ]
  },
  {
   "cell_type": "code",
   "execution_count": 50,
   "id": "5e996dd2-e923-4dae-88ae-21cb27e8b418",
   "metadata": {
    "tags": []
   },
   "outputs": [
    {
     "data": {
      "text/plain": [
       "[9]"
      ]
     },
     "execution_count": 50,
     "metadata": {},
     "output_type": "execute_result"
    }
   ],
   "source": [
    "nums[0:1]"
   ]
  },
  {
   "cell_type": "markdown",
   "id": "cf60c50d-53c0-487b-95a9-6d627176586f",
   "metadata": {},
   "source": [
    "## 283. Move Zeroes"
   ]
  },
  {
   "cell_type": "code",
   "execution_count": 51,
   "id": "eac3ce4c-1e2d-4565-b5c8-3663314a8421",
   "metadata": {
    "tags": []
   },
   "outputs": [],
   "source": [
    "nums = [0,1,0,3,12]"
   ]
  },
  {
   "cell_type": "code",
   "execution_count": 55,
   "id": "cf52c454-6abd-46f0-8365-23996776895b",
   "metadata": {
    "tags": []
   },
   "outputs": [],
   "source": [
    "def move_zeros(nums):\n",
    "    switch = 0 \n",
    "    for curr in range(len(nums)):\n",
    "        if nums[curr] != 0:\n",
    "            nums[switch], nums[curr] = nums[curr], nums[switch]\n",
    "            switch += 1"
   ]
  },
  {
   "cell_type": "code",
   "execution_count": 56,
   "id": "8fd466c2-b944-4f8e-804d-6b9e7ec255bd",
   "metadata": {
    "tags": []
   },
   "outputs": [],
   "source": [
    "move_zeros(nums)"
   ]
  },
  {
   "cell_type": "code",
   "execution_count": 57,
   "id": "8ccd837e-b464-4464-b0a7-741539aa2f73",
   "metadata": {
    "tags": []
   },
   "outputs": [
    {
     "data": {
      "text/plain": [
       "[1, 3, 12, 0, 0]"
      ]
     },
     "execution_count": 57,
     "metadata": {},
     "output_type": "execute_result"
    }
   ],
   "source": [
    "nums"
   ]
  },
  {
   "cell_type": "markdown",
   "id": "a44100b6-b588-4f24-9e2f-22370784c4f5",
   "metadata": {},
   "source": [
    "## 290. Word Pattern"
   ]
  },
  {
   "cell_type": "code",
   "execution_count": 10,
   "id": "7e285ed1-8a5e-4452-9cd8-a88f97f2986b",
   "metadata": {
    "tags": []
   },
   "outputs": [],
   "source": [
    "pattern = \"abba\"\n",
    "s = \"dog cat cat dog\""
   ]
  },
  {
   "cell_type": "code",
   "execution_count": 12,
   "id": "3715e3e2-ddc3-479b-b89a-cd900b635ae3",
   "metadata": {},
   "outputs": [],
   "source": [
    "pattern = \"aaaa\"\n",
    "s = \"dog cat cat dog\""
   ]
  },
  {
   "cell_type": "code",
   "execution_count": 14,
   "id": "58301ff0-a65e-49d1-85ac-4725ae66aac1",
   "metadata": {
    "tags": []
   },
   "outputs": [],
   "source": [
    "pattern = \"abba\"\n",
    "s = \"dog dog dog dog\""
   ]
  },
  {
   "cell_type": "code",
   "execution_count": 16,
   "id": "0c892629-7467-4a96-a97e-66ff6261531b",
   "metadata": {
    "tags": []
   },
   "outputs": [],
   "source": [
    "# My Solution\n",
    "def word_pattern(pattern, s):\n",
    "    x = dict()\n",
    "    split = s.split()\n",
    "    for i in range(len(pattern)):\n",
    "        if (pattern[i] not in x):\n",
    "            if split[i] in x.values():\n",
    "                return False\n",
    "            x[pattern[i]] = split[i]\n",
    "        else:\n",
    "            if (x[pattern[i]] != split[i]):\n",
    "                return False\n",
    "    return True"
   ]
  },
  {
   "cell_type": "code",
   "execution_count": 15,
   "id": "6f496265-d81c-4564-9918-f1694cf092a5",
   "metadata": {
    "tags": []
   },
   "outputs": [
    {
     "data": {
      "text/plain": [
       "False"
      ]
     },
     "execution_count": 15,
     "metadata": {},
     "output_type": "execute_result"
    }
   ],
   "source": [
    "word_pattern(pattern, s)"
   ]
  },
  {
   "cell_type": "markdown",
   "id": "fdb688cd-bc17-447e-af9e-e34c3fb41aad",
   "metadata": {},
   "source": [
    "## 292. Nim Game"
   ]
  },
  {
   "cell_type": "code",
   "execution_count": 17,
   "id": "25a74e30-b71f-456e-baee-483aa9605097",
   "metadata": {
    "tags": []
   },
   "outputs": [],
   "source": [
    "# If number of stone is a multiple of 4 then I lose, in all the other cases I win\n",
    "def canWinNim(n):\n",
    "    return n % 4"
   ]
  },
  {
   "cell_type": "markdown",
   "id": "3e337295-ee95-42ad-a38b-32b574b0f919",
   "metadata": {},
   "source": [
    "## 303. Range Sum Query - Immutable"
   ]
  },
  {
   "cell_type": "code",
   "execution_count": 19,
   "id": "deb37801-5ca9-4926-896b-5bc3b18ff02f",
   "metadata": {
    "tags": []
   },
   "outputs": [],
   "source": [
    "# My Solution\n",
    "class NumArray:\n",
    "\n",
    "    def __init__(nums):\n",
    "        self.numArray = nums\n",
    "\n",
    "    def sumRange(self, left: int, right: int) -> int:\n",
    "        return sum(self.numArray[left:right+1])"
   ]
  },
  {
   "cell_type": "code",
   "execution_count": 20,
   "id": "79bac477-9af7-4430-8d07-565d97c87ce7",
   "metadata": {
    "tags": []
   },
   "outputs": [],
   "source": [
    "# Cumulative sum solution\n",
    "class NumArray:\n",
    "\n",
    "    def __init__(nums):\n",
    "        self.numArray = nums\n",
    "        self.cumsum = [0]\n",
    "        for i in range(len(nums)):\n",
    "            self.cumsum.append(self.cumsum[i] + nums[i])\n",
    "\n",
    "    def sumRange(self, left: int, right: int) -> int:\n",
    "        return (self.cumsum[right + 1] - self.cumsum[left])"
   ]
  },
  {
   "cell_type": "markdown",
   "id": "26b3ce60-c9e2-45e9-a3ed-4c2be0c03f88",
   "metadata": {},
   "source": [
    "## 326. Power of Three"
   ]
  },
  {
   "cell_type": "code",
   "execution_count": 3,
   "id": "056a1f36-a48a-4d05-a405-5f68f775fa7d",
   "metadata": {
    "tags": []
   },
   "outputs": [],
   "source": [
    "# 1162261467 is the largest valid power of 3 (larget 32 bit integer)\n",
    "def isPowerOfThree(n):\n",
    "    return n > 0 and 1162261467 % n == 0"
   ]
  },
  {
   "cell_type": "markdown",
   "id": "4c322361-848a-4afb-8eea-6a9e999f13f8",
   "metadata": {},
   "source": [
    "## 338. Counting Bits"
   ]
  },
  {
   "cell_type": "code",
   "execution_count": 3,
   "id": "2f60e0d6-9e2b-4b60-9221-6b85d45e213e",
   "metadata": {
    "tags": []
   },
   "outputs": [],
   "source": [
    "# Best Solution: https://www.youtube.com/watch?v=RyBM56RIWrM\n",
    "def countBits(n):\n",
    "    res = [0] * (n+1)\n",
    "    offset = 1\n",
    "    for i in range(1, n+1):\n",
    "        if offset * 2 == i:\n",
    "            offset = i\n",
    "        res[i] = 1 + res[i - offset]\n",
    "\n",
    "    return res"
   ]
  },
  {
   "cell_type": "markdown",
   "id": "78311327-bb2c-4de1-b060-bd06f67f3d96",
   "metadata": {},
   "source": [
    "## 342. Power of Four"
   ]
  },
  {
   "cell_type": "code",
   "execution_count": 6,
   "id": "69d7649f-267d-436d-afad-ea634ecd63dd",
   "metadata": {
    "tags": []
   },
   "outputs": [],
   "source": [
    "# Loop solution\n",
    "def isPowerOfFour(n):\n",
    "    while (n > 1) and (n % 4 == 0):\n",
    "        n  = n // 4\n",
    "    return n == 1 "
   ]
  },
  {
   "cell_type": "markdown",
   "id": "3a7c46a3-cb6e-4e68-be2a-ce09907144dd",
   "metadata": {},
   "source": [
    "## 344. Reverse String"
   ]
  },
  {
   "cell_type": "code",
   "execution_count": 31,
   "id": "6984f4b2-b7ec-4293-a4bd-0b0294415859",
   "metadata": {
    "tags": []
   },
   "outputs": [],
   "source": [
    "# My Solution\n",
    "def reverseString(s):\n",
    "    \"\"\"\n",
    "    Do not return anything, modify s in-place instead.\n",
    "    \"\"\"\n",
    "    rev = -1\n",
    "    for i in range(int(len(s)/2)):\n",
    "        s[i], s[rev] = s[rev], s[i]\n",
    "        rev -= 1"
   ]
  },
  {
   "cell_type": "markdown",
   "id": "58280f2f-83c5-45bc-97ce-ebbebce6cb27",
   "metadata": {},
   "source": [
    "## 345. Reverse Vowels of a String"
   ]
  },
  {
   "cell_type": "code",
   "execution_count": 17,
   "id": "47b910d5-8712-46f5-ba64-33eb63d08fa2",
   "metadata": {
    "tags": []
   },
   "outputs": [],
   "source": [
    "s = \"hello\""
   ]
  },
  {
   "cell_type": "code",
   "execution_count": 30,
   "id": "9ba7e0b2-0b8d-4b27-82c5-0464ed3537ff",
   "metadata": {
    "tags": []
   },
   "outputs": [],
   "source": [
    "# My Solution\n",
    "def reverse_vowels(s):\n",
    "    s = list(s)\n",
    "    start = 0\n",
    "    end = len(s) - 1\n",
    "    vowels = {'A', 'a', 'E', 'e', 'I', 'i', 'O', 'o', 'U', 'u'}\n",
    "    while end > start:\n",
    "        if (s[start] not in vowels) and (s[end] not in vowels):\n",
    "            start += 1\n",
    "            end -= 1\n",
    "        elif (s[start] in vowels) and (s[end] not in vowels):\n",
    "            end -= 1\n",
    "        elif (s[start] not in vowels) and (s[end] in vowels):\n",
    "            start += 1\n",
    "        else:\n",
    "            s[start], s[end] = s[end], s[start]\n",
    "            start += 1\n",
    "            end -= 1\n",
    "    return \"\".join(s)"
   ]
  },
  {
   "cell_type": "code",
   "execution_count": 26,
   "id": "d7f529c0-075e-4754-ad0d-69c949fd2a69",
   "metadata": {
    "tags": []
   },
   "outputs": [
    {
     "data": {
      "text/plain": [
       "'holle'"
      ]
     },
     "execution_count": 26,
     "metadata": {},
     "output_type": "execute_result"
    }
   ],
   "source": [
    "reverse_vowels(s)"
   ]
  },
  {
   "cell_type": "code",
   "execution_count": 27,
   "id": "2f84fd30-751e-449a-bdb1-74c9ca16c0cd",
   "metadata": {
    "tags": []
   },
   "outputs": [
    {
     "data": {
      "text/plain": [
       "'leotcede'"
      ]
     },
     "execution_count": 27,
     "metadata": {},
     "output_type": "execute_result"
    }
   ],
   "source": [
    "s = \"leetcode\"\n",
    "reverse_vowels(s)"
   ]
  },
  {
   "cell_type": "markdown",
   "id": "0524c675-8a3e-4e25-a42a-98457b770a80",
   "metadata": {},
   "source": [
    "## 349. Intersection of Two Arrays"
   ]
  },
  {
   "cell_type": "code",
   "execution_count": 28,
   "id": "f027e106-2553-449a-9a52-ed2bbefd19e5",
   "metadata": {
    "tags": []
   },
   "outputs": [],
   "source": [
    "nums1 = [1,2,2,1]\n",
    "nums2 = [2,2]"
   ]
  },
  {
   "cell_type": "code",
   "execution_count": 29,
   "id": "5e9585d3-e4ad-44d2-8b46-d191466adc61",
   "metadata": {
    "tags": []
   },
   "outputs": [],
   "source": [
    "# My Solution\n",
    "def intersetion_array(nums1, nums2):\n",
    "    nums1 = set(nums1)\n",
    "    nums2 = set(nums2)\n",
    "    return list(nums1.intersection(nums2))"
   ]
  },
  {
   "cell_type": "code",
   "execution_count": 30,
   "id": "3759d9ea-9486-4cbc-b440-cd3176af4713",
   "metadata": {
    "tags": []
   },
   "outputs": [
    {
     "data": {
      "text/plain": [
       "[2]"
      ]
     },
     "execution_count": 30,
     "metadata": {},
     "output_type": "execute_result"
    }
   ],
   "source": [
    "intersetion_array(nums1, nums2)"
   ]
  },
  {
   "cell_type": "markdown",
   "id": "ee702d9f-641e-4bf0-842d-3d2b2d059f81",
   "metadata": {},
   "source": [
    "## 350. Intersection of Two Arrays II"
   ]
  },
  {
   "cell_type": "code",
   "execution_count": 55,
   "id": "345a3e5f-b9b8-4308-8d1f-1694dd0ec027",
   "metadata": {
    "tags": []
   },
   "outputs": [],
   "source": [
    "nums1 = [1,2,2,1]\n",
    "nums2 = [2,2]"
   ]
  },
  {
   "cell_type": "code",
   "execution_count": 28,
   "id": "f0fce937-fe21-42c9-ac0e-ad53f13492ad",
   "metadata": {
    "tags": []
   },
   "outputs": [],
   "source": [
    "# My Solution\n",
    "def intersect_array_II(nums1, nums2):\n",
    "    nums1 = Counter(nums1)\n",
    "    res = []\n",
    "    for n in nums2:\n",
    "        if nums1[n] > 0:\n",
    "            res.append(n)\n",
    "            nums1[n] -= 1\n",
    "    return res"
   ]
  },
  {
   "cell_type": "code",
   "execution_count": 58,
   "id": "457748c2-53b7-4bec-8fbb-473c3e5d4743",
   "metadata": {
    "tags": []
   },
   "outputs": [
    {
     "data": {
      "text/plain": [
       "[2, 2]"
      ]
     },
     "execution_count": 58,
     "metadata": {},
     "output_type": "execute_result"
    }
   ],
   "source": [
    "intersect_array_II(nums1, nums2)"
   ]
  },
  {
   "cell_type": "markdown",
   "id": "e735f6c9-58fc-4a39-9ecc-b4b798dce6da",
   "metadata": {},
   "source": [
    "## 367. Valid Perfect Square"
   ]
  },
  {
   "cell_type": "code",
   "execution_count": 2,
   "id": "9ca28d04-1b94-47c8-a319-9171eccb3e94",
   "metadata": {},
   "outputs": [],
   "source": [
    "n = 16"
   ]
  },
  {
   "cell_type": "code",
   "execution_count": 27,
   "id": "cdd370be-332f-4611-80c8-b921fc10fe1a",
   "metadata": {
    "tags": []
   },
   "outputs": [],
   "source": [
    "# My Solution\n",
    "def perfect_square(n):\n",
    "    start = 1\n",
    "    end = n\n",
    "    while end - start != 1:\n",
    "        mid = int((start+end)/2)\n",
    "        if (mid*mid) >= n:\n",
    "            end = mid\n",
    "        else:\n",
    "            start = mid\n",
    "    if (end*end) == n:\n",
    "        return True\n",
    "    else:\n",
    "        return False"
   ]
  },
  {
   "cell_type": "code",
   "execution_count": 25,
   "id": "90576652-139b-4686-94b0-5c7ca64f9255",
   "metadata": {
    "tags": []
   },
   "outputs": [
    {
     "data": {
      "text/plain": [
       "False"
      ]
     },
     "execution_count": 25,
     "metadata": {},
     "output_type": "execute_result"
    }
   ],
   "source": [
    "perfect_square(17)"
   ]
  },
  {
   "cell_type": "code",
   "execution_count": 26,
   "id": "cde09970-2ab3-4d67-956f-46a90af31153",
   "metadata": {
    "tags": []
   },
   "outputs": [],
   "source": [
    "# Alternate Way\n",
    "def perfect_square(num):\n",
    "    start = 1\n",
    "    end = num\n",
    "    while start <= end:\n",
    "        mid = (start + end) // 2\n",
    "        if (mid * mid) > num:\n",
    "            end = mid - 1\n",
    "        elif (mid * mid) < num:\n",
    "            start = start + 1\n",
    "        else:\n",
    "            return True\n",
    "    return False"
   ]
  },
  {
   "cell_type": "markdown",
   "id": "8be4a323-febc-476a-b4db-f425da75dea8",
   "metadata": {},
   "source": [
    "## 374. Guess Number Higher or Lower"
   ]
  },
  {
   "cell_type": "code",
   "execution_count": 3,
   "id": "04842066-d725-4b28-aaaf-da8bc5b5a869",
   "metadata": {
    "tags": []
   },
   "outputs": [],
   "source": [
    "# My Solution: Binary search\n",
    "def guessNumber(n):\n",
    "    start, end = 1, n\n",
    "    while start <= end:\n",
    "        mid = (start + end)//2\n",
    "        if guess(mid) == -1:\n",
    "            end = mid - 1\n",
    "        elif guess(mid) == 1:\n",
    "            start = mid + 1\n",
    "        else:\n",
    "            return mid"
   ]
  },
  {
   "cell_type": "markdown",
   "id": "dd8a98e6-14a9-4fa7-8bb6-4b6f88f3d45f",
   "metadata": {},
   "source": [
    "## 383. Ransom Note"
   ]
  },
  {
   "cell_type": "code",
   "execution_count": 5,
   "id": "d10eb3e9-149c-4330-9906-b9bb6773818c",
   "metadata": {
    "tags": []
   },
   "outputs": [],
   "source": [
    "# My Solution\n",
    "def canConstruct(ransomNote: str, magazine: str):\n",
    "    magazine = Counter(magazine)\n",
    "    for i in ransomNote:\n",
    "        if magazine[i] > 0:\n",
    "            magazine[i] -= 1\n",
    "        else:\n",
    "            return False\n",
    "    return True"
   ]
  },
  {
   "cell_type": "code",
   "execution_count": 6,
   "id": "25baef7a-4f15-48d3-8ad0-e929654683f5",
   "metadata": {
    "tags": []
   },
   "outputs": [
    {
     "data": {
      "text/plain": [
       "False"
      ]
     },
     "execution_count": 6,
     "metadata": {},
     "output_type": "execute_result"
    }
   ],
   "source": [
    "ransomNote = \"aa\"\n",
    "magazine = \"ab\"\n",
    "canConstruct(ransomNote, magazine)"
   ]
  },
  {
   "cell_type": "markdown",
   "id": "f73b7852-0eff-41c7-9f57-4fe0314b2e50",
   "metadata": {},
   "source": [
    "## 387. First Unique Character in a String"
   ]
  },
  {
   "cell_type": "code",
   "execution_count": 12,
   "id": "f250f6a5-6285-4e8a-bab5-e9c22b764220",
   "metadata": {
    "tags": []
   },
   "outputs": [],
   "source": [
    "s = \"leetcode\""
   ]
  },
  {
   "cell_type": "code",
   "execution_count": 18,
   "id": "57ac52e3-b400-4149-a93b-a6bec6f0e1f5",
   "metadata": {
    "tags": []
   },
   "outputs": [],
   "source": [
    "# My Solution\n",
    "def first_unique(s):\n",
    "    cnt = Counter(s)\n",
    "    for i in cnt.keys():\n",
    "        if cnt[i] == 1:\n",
    "            return s.find(i)\n",
    "    return -1"
   ]
  },
  {
   "cell_type": "code",
   "execution_count": 17,
   "id": "6cbf4f8c-e4e0-4e28-a55a-bdcc9c906b9e",
   "metadata": {
    "tags": []
   },
   "outputs": [
    {
     "data": {
      "text/plain": [
       "0"
      ]
     },
     "execution_count": 17,
     "metadata": {},
     "output_type": "execute_result"
    }
   ],
   "source": [
    "first_unique(s)"
   ]
  },
  {
   "cell_type": "markdown",
   "id": "a378b099-04c4-47e1-b78d-1933d50f0e69",
   "metadata": {},
   "source": [
    "## 389. Find the Difference"
   ]
  },
  {
   "cell_type": "code",
   "execution_count": 19,
   "id": "5cb76c96-1756-438a-ae7e-8373adf022ad",
   "metadata": {
    "tags": []
   },
   "outputs": [],
   "source": [
    "s = \"abcd\"\n",
    "t = \"abcde\""
   ]
  },
  {
   "cell_type": "code",
   "execution_count": 2,
   "id": "59b56948-b813-4e5c-b15c-5c1e25d836ba",
   "metadata": {},
   "outputs": [],
   "source": [
    "# My Solution\n",
    "def findTheDifference(s, t): \n",
    "    s = sorted(s)\n",
    "    t = sorted(t)\n",
    "    for i, j in zip(s, t):\n",
    "        if i != j:\n",
    "            return j\n",
    "    return t[-1]"
   ]
  },
  {
   "cell_type": "markdown",
   "id": "1bb66aac-3edb-4447-8417-095c2069ec5a",
   "metadata": {},
   "source": [
    "## 392. Is Subsequence"
   ]
  },
  {
   "cell_type": "code",
   "execution_count": 21,
   "id": "3a8d0ce9-74f6-40c6-b3e4-ce3a114f4302",
   "metadata": {
    "tags": []
   },
   "outputs": [],
   "source": [
    "s = \"abc\"\n",
    "t = \"ahbgdc\""
   ]
  },
  {
   "cell_type": "code",
   "execution_count": 22,
   "id": "93e05e32-eead-42c1-8e20-73535aa9eaf5",
   "metadata": {
    "tags": []
   },
   "outputs": [],
   "source": [
    "# My Solution: 2 Pointer\n",
    "def is_sequence(s, t):\n",
    "    x , y = 0, 0\n",
    "    while (y < len(t)) and (x < len(s)):\n",
    "        ic(x)\n",
    "        ic(y)\n",
    "        if s[x] == t[y]:\n",
    "            x += 1\n",
    "        y += 1\n",
    "    if x == len(s):\n",
    "        return True\n",
    "    return False"
   ]
  },
  {
   "cell_type": "code",
   "execution_count": 23,
   "id": "4a514130-8281-4ab9-bf08-eb00b310e42c",
   "metadata": {
    "tags": []
   },
   "outputs": [
    {
     "name": "stderr",
     "output_type": "stream",
     "text": [
      "ic| x: 0\n",
      "ic| y: 0\n",
      "ic| x: 1\n",
      "ic| y: 1\n",
      "ic| x: 1\n",
      "ic| y: 2\n",
      "ic| x: 2\n",
      "ic| y: 3\n",
      "ic| x: 2\n",
      "ic| y: 4\n",
      "ic| x: 2\n",
      "ic| y: 5\n"
     ]
    },
    {
     "data": {
      "text/plain": [
       "True"
      ]
     },
     "execution_count": 23,
     "metadata": {},
     "output_type": "execute_result"
    }
   ],
   "source": [
    "is_sequence(s, t)"
   ]
  },
  {
   "cell_type": "code",
   "execution_count": 24,
   "id": "26dd1fed-a010-4c11-bf42-840c64c34026",
   "metadata": {
    "tags": []
   },
   "outputs": [
    {
     "name": "stderr",
     "output_type": "stream",
     "text": [
      "ic| x: 0\n",
      "ic| y: 0\n",
      "ic| x: 1\n",
      "ic| y: 1\n",
      "ic| x: 1\n",
      "ic| y: 2\n",
      "ic| x: 1\n",
      "ic| y: 3\n",
      "ic| x: 1\n",
      "ic| y: 4\n",
      "ic| x: 1\n",
      "ic| y: 5\n"
     ]
    },
    {
     "data": {
      "text/plain": [
       "False"
      ]
     },
     "execution_count": 24,
     "metadata": {},
     "output_type": "execute_result"
    }
   ],
   "source": [
    "s = \"axc\"\n",
    "t = \"ahbgdc\"\n",
    "is_sequence(s, t)"
   ]
  },
  {
   "cell_type": "markdown",
   "id": "e289ac6a-2f0c-427e-8f3d-b276cf9cc8b7",
   "metadata": {},
   "source": [
    "## 401. Binary Watch"
   ]
  },
  {
   "cell_type": "code",
   "execution_count": 39,
   "id": "8f5df01e-e0ca-49f2-983e-e04a5a3464cc",
   "metadata": {
    "tags": []
   },
   "outputs": [],
   "source": [
    "# Best Solution: https://www.youtube.com/watch?v=0BanwDe6cMY\n",
    "def binary_watch(turnedOn):\n",
    "    out = []\n",
    "    for h in range(12):\n",
    "        for m in range(60):\n",
    "            if (h.bit_count() + m.bit_count()) == turnedOn:\n",
    "                time = \"%d:%02d\" % (h, m)\n",
    "                out.append(time)\n",
    "    return out"
   ]
  },
  {
   "cell_type": "code",
   "execution_count": 38,
   "id": "5ee1a0b4-383f-40ca-b405-6eb37380d5fc",
   "metadata": {
    "tags": []
   },
   "outputs": [
    {
     "data": {
      "text/plain": [
       "['0:01',\n",
       " '0:02',\n",
       " '0:04',\n",
       " '0:08',\n",
       " '0:16',\n",
       " '0:32',\n",
       " '1:00',\n",
       " '2:00',\n",
       " '4:00',\n",
       " '8:00']"
      ]
     },
     "execution_count": 38,
     "metadata": {},
     "output_type": "execute_result"
    }
   ],
   "source": [
    "binary_watch(1)"
   ]
  },
  {
   "cell_type": "markdown",
   "id": "e65dad08-910a-4585-b3a9-a3495428f1f0",
   "metadata": {},
   "source": [
    "## 404. Sum of Left Leaves"
   ]
  },
  {
   "cell_type": "code",
   "execution_count": 2,
   "id": "9e36cc8e-5342-4b00-b00e-a194eb5573ca",
   "metadata": {},
   "outputs": [],
   "source": [
    "# https://www.youtube.com/watch?v=QklIrzxiqcM\n",
    "def sumOfLeftLeaves(root):\n",
    "    self.out = 0\n",
    "    def dfs(root, left):\n",
    "        if not root:\n",
    "            return\n",
    "        dfs(root.left, True)\n",
    "        dfs(root.right, False)\n",
    "        if (not root.left) and (not root.right) and left:\n",
    "            self.out += root.val\n",
    "    dfs(root, False)\n",
    "    return self.out"
   ]
  },
  {
   "cell_type": "markdown",
   "id": "7793ed96-0c07-4083-8af5-3f681241d1a8",
   "metadata": {},
   "source": [
    "## 405. Convert a Number to Hexadecimal"
   ]
  },
  {
   "cell_type": "code",
   "execution_count": 42,
   "id": "77a0aaa8-6bff-4a53-9f26-3dc83a6fa1ea",
   "metadata": {
    "tags": []
   },
   "outputs": [],
   "source": [
    "# My Solution\n",
    "def hex_number(num):\n",
    "    if num == 0:\n",
    "        return '0'\n",
    "    if num < 0:\n",
    "        num += 2**32\n",
    "    hex_dict = {idx+10:alp for idx, alp in enumerate(list('abcdef'))}\n",
    "    out = ''\n",
    "    while num != 0:\n",
    "        rem = num % 16\n",
    "        if rem >= 10:\n",
    "            out += hex_dict[rem]\n",
    "        else:\n",
    "            out += str(rem)\n",
    "        num //= 16\n",
    "    return out[::-1]"
   ]
  },
  {
   "cell_type": "code",
   "execution_count": 43,
   "id": "66c784af-4a12-47ef-bef2-d7ce54ffe805",
   "metadata": {
    "tags": []
   },
   "outputs": [
    {
     "data": {
      "text/plain": [
       "'0'"
      ]
     },
     "execution_count": 43,
     "metadata": {},
     "output_type": "execute_result"
    }
   ],
   "source": [
    "hex_number(0)"
   ]
  },
  {
   "cell_type": "code",
   "execution_count": 44,
   "id": "14c7c825-e4fe-488d-ab6e-646c2ae832a0",
   "metadata": {
    "tags": []
   },
   "outputs": [
    {
     "data": {
      "text/plain": [
       "'ffffffff'"
      ]
     },
     "execution_count": 44,
     "metadata": {},
     "output_type": "execute_result"
    }
   ],
   "source": [
    "hex_number(-1)"
   ]
  },
  {
   "cell_type": "markdown",
   "id": "1b941ad7-e32f-4bc3-9e3c-efde1abd7551",
   "metadata": {},
   "source": [
    "## 409. Longest Palindrome"
   ]
  },
  {
   "cell_type": "code",
   "execution_count": 73,
   "id": "f7367eae-ec2f-4d72-8744-02468e138c99",
   "metadata": {
    "tags": []
   },
   "outputs": [],
   "source": [
    "s = \"abccccdd\""
   ]
  },
  {
   "cell_type": "code",
   "execution_count": 74,
   "id": "ce533b9d-21bf-4a7c-aa59-e56d0c39fa07",
   "metadata": {
    "tags": []
   },
   "outputs": [],
   "source": [
    "# Best Solution: https://www.youtube.com/watch?v=J_Di2LmeLBQ\n",
    "def longest_palindrome(s):\n",
    "    s = Counter(s)\n",
    "    cnt, odd = 0, False\n",
    "    for i in s.keys():\n",
    "        if s[i] % 2 == 0:\n",
    "            cnt += s[i]\n",
    "        else:\n",
    "            odd = True\n",
    "            cnt = cnt + (s[i] - 1)\n",
    "    if odd:\n",
    "        return cnt + 1\n",
    "    else:\n",
    "        return cnt"
   ]
  },
  {
   "cell_type": "code",
   "execution_count": 75,
   "id": "b1522d42-b38f-43cc-a5e2-2b1ca2b1f90f",
   "metadata": {
    "tags": []
   },
   "outputs": [
    {
     "data": {
      "text/plain": [
       "7"
      ]
     },
     "execution_count": 75,
     "metadata": {},
     "output_type": "execute_result"
    }
   ],
   "source": [
    "longest_palindrome(s)"
   ]
  },
  {
   "cell_type": "code",
   "execution_count": 76,
   "id": "19919d32-a4cc-41dc-b018-5457042e72a7",
   "metadata": {
    "tags": []
   },
   "outputs": [
    {
     "data": {
      "text/plain": [
       "983"
      ]
     },
     "execution_count": 76,
     "metadata": {},
     "output_type": "execute_result"
    }
   ],
   "source": [
    "s = \"civilwartestingwhetherthatnaptionoranynartionsoconceivedandsodedicatedcanlongendureWeareqmetonagreatbattlefiemldoftzhatwarWehavecometodedicpateaportionofthatfieldasafinalrestingplaceforthosewhoheregavetheirlivesthatthatnationmightliveItisaltogetherfangandproperthatweshoulddothisButinalargersensewecannotdedicatewecannotconsecratewecannothallowthisgroundThebravelmenlivinganddeadwhostruggledherehaveconsecrateditfaraboveourpoorponwertoaddordetractTgheworldadswfilllittlenotlenorlongrememberwhatwesayherebutitcanneverforgetwhattheydidhereItisforusthelivingrathertobededicatedheretotheulnfinishedworkwhichtheywhofoughtherehavethusfarsonoblyadvancedItisratherforustobeherededicatedtothegreattdafskremainingbeforeusthatfromthesehonoreddeadwetakeincreaseddevotiontothatcauseforwhichtheygavethelastpfullmeasureofdevotionthatweherehighlyresolvethatthesedeadshallnothavediedinvainthatthisnationunsderGodshallhaveanewbirthoffreedomandthatgovernmentofthepeoplebythepeopleforthepeopleshallnotperishfromtheearth\"\n",
    "longest_palindrome(s)"
   ]
  },
  {
   "cell_type": "markdown",
   "id": "96498a9e-5a21-4852-ba19-22c813330272",
   "metadata": {},
   "source": [
    "## 412. Fizz Buzz"
   ]
  },
  {
   "cell_type": "code",
   "execution_count": 79,
   "id": "14c442b7-966f-4afe-9179-b9e3b1dbcfab",
   "metadata": {
    "tags": []
   },
   "outputs": [],
   "source": [
    "# My Solution\n",
    "def fizzBuzz(n):\n",
    "    out = []\n",
    "    for i in range(1, n+1):\n",
    "        if (i % 3 == 0) and (i % 5 == 0): ## Or can use i % 15 == 0\n",
    "            out.append(\"FizzBuzz\")\n",
    "        elif i % 5 == 0:\n",
    "            out.append(\"Buzz\")\n",
    "        elif i % 3 == 0:\n",
    "            out.append(\"Fizz\")\n",
    "        else:\n",
    "            out.append(str(i))\n",
    "    return out"
   ]
  },
  {
   "cell_type": "code",
   "execution_count": 80,
   "id": "4c5c5b49-1d9a-4eb8-aac3-e4f70f42205a",
   "metadata": {
    "tags": []
   },
   "outputs": [
    {
     "data": {
      "text/plain": [
       "['1', '2', 'Fizz']"
      ]
     },
     "execution_count": 80,
     "metadata": {},
     "output_type": "execute_result"
    }
   ],
   "source": [
    "n = 3\n",
    "fizzBuzz(n)"
   ]
  },
  {
   "cell_type": "markdown",
   "id": "7decfff0-db8c-4779-a687-b451544e92fb",
   "metadata": {},
   "source": [
    "## 414. Third Maximum Number"
   ]
  },
  {
   "cell_type": "code",
   "execution_count": 93,
   "id": "9149e13e-0922-4130-89e1-dfbc5b489a5e",
   "metadata": {
    "tags": []
   },
   "outputs": [],
   "source": [
    "# Better solution: 3 Pointer approach, https://www.youtube.com/watch?v=7hbaFYuJY5Y\n",
    "def thirdMax(nums):\n",
    "    max1, max2, max3 = float('-inf'), float('-inf'), float('-inf')\n",
    "    for i in nums:\n",
    "        if (i == max1) or (i == max2) or (i == max3):\n",
    "            continue\n",
    "        elif (i > max1):\n",
    "            max1, max2, max3 = i, max1, max2\n",
    "        elif (i > max2):\n",
    "            max2, max3 = i, max2\n",
    "        elif (i > max3):\n",
    "            max3 = i\n",
    "    if max3 == float('-inf'):\n",
    "        return max1\n",
    "    else:\n",
    "        return max3"
   ]
  },
  {
   "cell_type": "code",
   "execution_count": 95,
   "id": "dc601142-4832-432f-b71a-e8576aacc2ea",
   "metadata": {
    "tags": []
   },
   "outputs": [],
   "source": [
    "# My Solution\n",
    "def thirdMax(nums):\n",
    "    nums = sorted(list(set(nums)))\n",
    "    if len(nums) < 3:\n",
    "        return nums[-1]\n",
    "    else:\n",
    "        return nums[-3]"
   ]
  },
  {
   "cell_type": "markdown",
   "id": "f30cd130-cadb-4890-9e02-ca0c8893777d",
   "metadata": {},
   "source": [
    "## 415. Add Strings"
   ]
  },
  {
   "cell_type": "code",
   "execution_count": 103,
   "id": "0a0b1c5d-4b5e-41dc-ba4b-c38959949da0",
   "metadata": {
    "tags": []
   },
   "outputs": [],
   "source": [
    "num1 = \"11\"\n",
    "num2 = \"123\""
   ]
  },
  {
   "cell_type": "code",
   "execution_count": 111,
   "id": "19fb6c41-eeb8-4c39-8eab-57c3d36f44e6",
   "metadata": {
    "tags": []
   },
   "outputs": [],
   "source": [
    "# ??\n",
    "def add_strings(num1, num2):\n",
    "    num1, num2 = num1[::-1], num2[::-1]\n",
    "    num3 = ''\n",
    "    carry = i = 0\n",
    "    l1, l2 = len(num1), len(num2)\n",
    "    l3 = max(l1, l2)\n",
    "    while i < l3 or carry:\n",
    "        dig1  = int(num1[i]) if i < l1 else 0\n",
    "        dig2  = int(num2[i]) if i < l2 else 0\n",
    "        dig3  = (dig1 + dig2 + carry) % 10\n",
    "        carry = (dig1 + dig2 + carry) // 10\n",
    "        num3 += str(dig3)\n",
    "        i    += 1\n",
    "    return num3[::-1]"
   ]
  },
  {
   "cell_type": "code",
   "execution_count": 112,
   "id": "6a018fd2-51e8-48f8-b6a9-d1ff77b7c0d2",
   "metadata": {
    "tags": []
   },
   "outputs": [
    {
     "data": {
      "text/plain": [
       "'134'"
      ]
     },
     "execution_count": 112,
     "metadata": {},
     "output_type": "execute_result"
    }
   ],
   "source": [
    "add_strings(num1, num2)"
   ]
  },
  {
   "cell_type": "markdown",
   "id": "44d3504f-c53e-4ac7-ae1f-7c137c4e819a",
   "metadata": {},
   "source": [
    "## 434. Number of Segments in a String"
   ]
  },
  {
   "cell_type": "code",
   "execution_count": 3,
   "id": "d11baed4-ce87-46dc-b59e-3cdbfc408b33",
   "metadata": {},
   "outputs": [],
   "source": [
    "# Best Solution\n",
    "def count_segment(s):\n",
    "    count = 0\n",
    "    for i in range(len(s)):\n",
    "        if s[i] != ' ' and (i == 0 or s[i-1] == ' '):\n",
    "            count += 1\n",
    "    return count"
   ]
  },
  {
   "cell_type": "markdown",
   "id": "d56f6cc9-a666-451d-9523-54baa49d6b01",
   "metadata": {},
   "source": [
    "## 441. Arranging Coins"
   ]
  },
  {
   "cell_type": "code",
   "execution_count": 4,
   "id": "8efba7e9-0b50-423d-8c27-5e4ecf5f88ce",
   "metadata": {
    "tags": []
   },
   "outputs": [],
   "source": [
    "# My Solution\n",
    "def arrangeCoins(n):\n",
    "    cnt = 1\n",
    "    while n >= cnt:\n",
    "        n -= cnt\n",
    "        cnt += 1\n",
    "    return cnt - 1"
   ]
  },
  {
   "cell_type": "markdown",
   "id": "a4b1296b-dbde-4572-957e-0ccce051db81",
   "metadata": {},
   "source": [
    "## 448. Find All Numbers Disappeared in an Array"
   ]
  },
  {
   "cell_type": "code",
   "execution_count": 14,
   "id": "021f5d7b-7205-46cf-abe9-58bbe0221245",
   "metadata": {
    "tags": []
   },
   "outputs": [],
   "source": [
    "def find_disappeared(nums):\n",
    "    out = set(i for i in range(1, len(nums)+1))\n",
    "    for i in nums:\n",
    "        out.discard(i)\n",
    "    return list(out)"
   ]
  },
  {
   "cell_type": "code",
   "execution_count": 21,
   "id": "23ac6556-72c6-4786-acf0-d588d87f1a52",
   "metadata": {
    "tags": []
   },
   "outputs": [],
   "source": [
    "# Best Solution: https://www.youtube.com/watch?v=8i-f24YFWC4\n",
    "def findDisappearedNumbers(nums):\n",
    "    for n in nums:\n",
    "        i = abs(n) - 1\n",
    "        nums[i] = abs(nums[i]) * -1\n",
    "    res = []\n",
    "    for i, n in enumerate(nums):\n",
    "        if n > 0:\n",
    "            res.append(i + 1)\n",
    "    return res"
   ]
  },
  {
   "cell_type": "markdown",
   "id": "490c5cc1-f700-4502-bf55-a5e205209089",
   "metadata": {},
   "source": [
    "## 455. Assign Cookies"
   ]
  },
  {
   "cell_type": "code",
   "execution_count": 76,
   "id": "bfda6455-b1c9-441f-b875-1c875014746d",
   "metadata": {
    "tags": []
   },
   "outputs": [],
   "source": [
    "# My Solution\n",
    "def assign_cookies(g, s):\n",
    "    g = sorted(g)\n",
    "    s = sorted(s)\n",
    "    # ic(g, s)\n",
    "    i, j = 0, 0\n",
    "    while (j < len(s)) and (i < len(g)):\n",
    "        # ic(i)\n",
    "        # ic(j)\n",
    "        # ic('--------')\n",
    "        if s[j] >= g[i]:\n",
    "            i += 1\n",
    "        j += 1\n",
    "    return i"
   ]
  },
  {
   "cell_type": "code",
   "execution_count": 22,
   "id": "67b3aa8e-8f10-4f7b-b6b2-aace8dd40007",
   "metadata": {
    "tags": []
   },
   "outputs": [],
   "source": [
    "g = [1,2,3]\n",
    "s = [1,1]"
   ]
  },
  {
   "cell_type": "code",
   "execution_count": 24,
   "id": "3aaa16dd-3e13-47d9-b548-2b56848b9bf1",
   "metadata": {
    "tags": []
   },
   "outputs": [
    {
     "data": {
      "text/plain": [
       "1"
      ]
     },
     "execution_count": 24,
     "metadata": {},
     "output_type": "execute_result"
    }
   ],
   "source": [
    "assign_cookies(g, s)"
   ]
  },
  {
   "cell_type": "code",
   "execution_count": 26,
   "id": "a339b439-60d8-4a6a-bd8d-5f97f97d76dd",
   "metadata": {
    "tags": []
   },
   "outputs": [
    {
     "data": {
      "text/plain": [
       "2"
      ]
     },
     "execution_count": 26,
     "metadata": {},
     "output_type": "execute_result"
    }
   ],
   "source": [
    "g = [1,2]\n",
    "s = [1,2,3]\n",
    "assign_cookies(g, s)"
   ]
  },
  {
   "cell_type": "code",
   "execution_count": 73,
   "id": "df7e633e-7c0a-4957-b56b-bca845610232",
   "metadata": {
    "tags": []
   },
   "outputs": [
    {
     "data": {
      "text/plain": [
       "2"
      ]
     },
     "execution_count": 73,
     "metadata": {},
     "output_type": "execute_result"
    }
   ],
   "source": [
    "g = [10,9,8,7,12]\n",
    "s = [5,6,7,8]\n",
    "assign_cookies(g, s)"
   ]
  },
  {
   "cell_type": "markdown",
   "id": "7f7ab906-06d4-4729-84e1-395a6cd93de6",
   "metadata": {},
   "source": [
    "## 459. Repeated Substring Pattern"
   ]
  },
  {
   "cell_type": "code",
   "execution_count": 5,
   "id": "5faee948-45e4-4ac5-a546-baeb29a6386d",
   "metadata": {
    "tags": []
   },
   "outputs": [],
   "source": [
    "# Best Solution explaination: https://www.youtube.com/watch?v=7J8x0XudV0Y\n",
    "def repeatedSubstringPattern(s):\n",
    "    length = len(s)\n",
    "    for i in range(1, length//2+1):\n",
    "        if length % i == 0:\n",
    "            if (s[:i] * (length // i)) == s:\n",
    "                return True\n",
    "    return False"
   ]
  },
  {
   "cell_type": "code",
   "execution_count": 6,
   "id": "663a49c4-3d77-4f42-8cb6-a65f4ab06671",
   "metadata": {
    "tags": []
   },
   "outputs": [
    {
     "data": {
      "text/plain": [
       "True"
      ]
     },
     "execution_count": 6,
     "metadata": {},
     "output_type": "execute_result"
    }
   ],
   "source": [
    "s = \"abab\"\n",
    "repeatedSubstringPattern(s)"
   ]
  },
  {
   "cell_type": "markdown",
   "id": "ac401663-1b68-4534-91e2-50f2399f6231",
   "metadata": {},
   "source": [
    "## 5. Longest Palindromic Substring"
   ]
  },
  {
   "cell_type": "code",
   "execution_count": 6,
   "id": "32d23071-f065-4b00-a99e-12111a781084",
   "metadata": {},
   "outputs": [],
   "source": [
    "# Best Solution: https://www.youtube.com/watch?v=XYQecbcd6_c\n",
    "def longestPalindrome(s):\n",
    "    res = \"\"\n",
    "    maxlen = 0\n",
    "    for i in range(len(s)):\n",
    "        l, r = i, i\n",
    "        while (l >= 0) and (r < len(s)) and s[l] == s[r]:\n",
    "            if (r - l + 1) > maxlen: \n",
    "                res = s[l:r+1]\n",
    "                maxlen = r - l + 1\n",
    "            l -= 1\n",
    "            r += 1\n",
    "\n",
    "        l, r = i, i+1\n",
    "        while (l >= 0) and (r < len(s)) and s[l] == s[r]:\n",
    "            if (r - l + 1) > maxlen: \n",
    "                res = s[l:r+1]\n",
    "                maxlen = r - l + 1\n",
    "            l -= 1\n",
    "            r += 1\n",
    "\n",
    "    return res"
   ]
  },
  {
   "cell_type": "code",
   "execution_count": 7,
   "id": "b74eed4c-5230-45fc-bda6-a42bf391726c",
   "metadata": {
    "tags": []
   },
   "outputs": [
    {
     "data": {
      "text/plain": [
       "'bab'"
      ]
     },
     "execution_count": 7,
     "metadata": {},
     "output_type": "execute_result"
    }
   ],
   "source": [
    "s = \"babad\"\n",
    "longestPalindrome(s)"
   ]
  },
  {
   "cell_type": "markdown",
   "id": "64faed97-9e00-447b-b1cc-688d9cacbcaf",
   "metadata": {},
   "source": [
    "## 461. Hamming Distance"
   ]
  },
  {
   "cell_type": "code",
   "execution_count": 13,
   "id": "c1c80abc-8e15-42d9-a1c0-5d7d3e44eb67",
   "metadata": {
    "tags": []
   },
   "outputs": [],
   "source": [
    "# Hamming Distance: https://www.youtube.com/watch?v=P02mJhS9qQ4\n",
    "def hammingDistance(x, y):\n",
    "    xor = x ^ y\n",
    "    cnt = 0\n",
    "    while xor:\n",
    "        if (xor & 1) == 1:\n",
    "            cnt += 1\n",
    "        xor = xor >> 1\n",
    "    return cnt\n",
    "    # OR\n",
    "    # return bin(x ^ y).count(\"1\")"
   ]
  },
  {
   "cell_type": "markdown",
   "id": "a5482965-e616-4964-891b-a29367171bc8",
   "metadata": {},
   "source": [
    "## 463. Island Perimeter"
   ]
  },
  {
   "cell_type": "code",
   "execution_count": 2,
   "id": "81c6a11d-597c-4177-a09d-5920194d55eb",
   "metadata": {
    "tags": []
   },
   "outputs": [],
   "source": [
    "grid = [[0,1,0,0],[1,1,1,0],[0,1,0,0],[1,1,0,0]]"
   ]
  },
  {
   "cell_type": "code",
   "execution_count": 19,
   "id": "21b7bff1-e782-4fdb-80d9-0a29b6bf6aa4",
   "metadata": {
    "tags": []
   },
   "outputs": [],
   "source": [
    "# My Solution: Recursive\n",
    "# Recursive solution solved by traversing through each block in the grid and checking if current block is a 1 and then checking if it is surrounded by\n",
    "# 0 block or if the surrounding block is out of bound then adding 1 to cnt.\n",
    "def island_perimeter(grid):\n",
    "    cnt = 0\n",
    "    for i in range(len(grid)):\n",
    "        for j in range(len(grid[0])):\n",
    "            # ic(i)\n",
    "            # ic(j)\n",
    "            # ic(cnt)\n",
    "            # ic('------------')\n",
    "            if grid[i][j]:\n",
    "                if (i-1 < 0) or (not grid[i-1][j]):\n",
    "                    cnt += 1\n",
    "                if (i+1 >= len(grid)) or (not grid[i+1][j]):\n",
    "                    cnt += 1\n",
    "                if (j-1 < 0) or (not grid[i][j-1]):\n",
    "                    cnt += 1\n",
    "                if (j+1 >= len(grid[0])) or (not grid[i][j+1]):\n",
    "                    cnt += 1\n",
    "    return cnt"
   ]
  },
  {
   "cell_type": "code",
   "execution_count": 20,
   "id": "ead5a97f-11c8-474d-9d6d-4b856ac7cd17",
   "metadata": {
    "tags": []
   },
   "outputs": [
    {
     "data": {
      "text/plain": [
       "16"
      ]
     },
     "execution_count": 20,
     "metadata": {},
     "output_type": "execute_result"
    }
   ],
   "source": [
    "island_perimeter(grid)"
   ]
  },
  {
   "cell_type": "code",
   "execution_count": 21,
   "id": "6bc52002-b882-4514-904a-6655f1c5698f",
   "metadata": {
    "tags": []
   },
   "outputs": [],
   "source": [
    "# Recursive solution: \n",
    "def island_perimeter(grid):\n",
    "    visit = set()\n",
    "    def dfs(i, j):\n",
    "        if i >= len(grid) or j >= len(grid[0]) or i < 0 or j < 0 or grid[i][j] == 0:\n",
    "            return 1\n",
    "        if (i, j) in visit:\n",
    "            return 0\n",
    "        visit.add((i, j))\n",
    "        cnt = dfs(i, j+1)\n",
    "        cnt += dfs(i+1, j)\n",
    "        cnt += dfs(i, j-1)\n",
    "        cnt += dfs(i-1, j)\n",
    "        return cnt\n",
    "\n",
    "    for i in range(len(grid)):\n",
    "        for j in range(len(grid[0])):\n",
    "            if grid[i][j]:\n",
    "                return dfs(i, j)"
   ]
  },
  {
   "cell_type": "code",
   "execution_count": 22,
   "id": "799cce2d-a41c-48cb-a922-59ea7ede6c4a",
   "metadata": {
    "tags": []
   },
   "outputs": [
    {
     "data": {
      "text/plain": [
       "16"
      ]
     },
     "execution_count": 22,
     "metadata": {},
     "output_type": "execute_result"
    }
   ],
   "source": [
    "island_perimeter(grid)"
   ]
  },
  {
   "cell_type": "markdown",
   "id": "83357076-78b4-4e82-a897-1fe698ca99c6",
   "metadata": {},
   "source": [
    "## 476. Number Complement"
   ]
  },
  {
   "cell_type": "code",
   "execution_count": 25,
   "id": "89cb065c-ab49-42cc-bb87-85f5d14f1d37",
   "metadata": {
    "tags": []
   },
   "outputs": [],
   "source": [
    "# Best Solution: Take i till it is one bit higher than the most significant bit in num and then do -1 to get all ones(all ones with length equal to num)\n",
    "# then XOR it with num because if 2 bits are opposite then xor returns opposite\n",
    "def findComplement(num):\n",
    "    i = 1\n",
    "    while i <= num:\n",
    "        i = i << 1\n",
    "    return (i - 1) ^ num"
   ]
  },
  {
   "cell_type": "code",
   "execution_count": 26,
   "id": "7842c2ef-73de-40b7-a5f7-8365dbdd1bae",
   "metadata": {
    "tags": []
   },
   "outputs": [
    {
     "data": {
      "text/plain": [
       "2"
      ]
     },
     "execution_count": 26,
     "metadata": {},
     "output_type": "execute_result"
    }
   ],
   "source": [
    "num = 5\n",
    "findComplement(num)"
   ]
  },
  {
   "cell_type": "markdown",
   "id": "d0c23332-1863-4962-8d12-3a3a01d50ef4",
   "metadata": {},
   "source": [
    "## 482. License Key Formatting"
   ]
  },
  {
   "cell_type": "code",
   "execution_count": 6,
   "id": "a387e9c6-dd3f-40e7-9f1f-57523a2799d8",
   "metadata": {
    "tags": []
   },
   "outputs": [],
   "source": [
    "# My Solution\n",
    "def licenseKeyFormatting(s, k):\n",
    "    out = \"\"\n",
    "    added = 0\n",
    "    for i in range(-1, -1*len(s)-1, -1):\n",
    "        if s[i] != '-':\n",
    "            if added == k:\n",
    "                out = '-' + out\n",
    "                added = 0\n",
    "            out = s[i].upper() + out\n",
    "            added += 1\n",
    "    return out"
   ]
  },
  {
   "cell_type": "code",
   "execution_count": 3,
   "id": "eb8eeadd-b474-4236-99f8-985fcce6ccd2",
   "metadata": {
    "tags": []
   },
   "outputs": [],
   "source": [
    "s = \"5F3Z-2e-9-w\"\n",
    "k = 4"
   ]
  },
  {
   "cell_type": "code",
   "execution_count": 4,
   "id": "256c743b-ee2e-4665-85be-5dc62b8949b9",
   "metadata": {
    "tags": []
   },
   "outputs": [
    {
     "data": {
      "text/plain": [
       "'5F3Z-2E9W'"
      ]
     },
     "execution_count": 4,
     "metadata": {},
     "output_type": "execute_result"
    }
   ],
   "source": [
    "licenseKeyFormatting(s, k)"
   ]
  },
  {
   "cell_type": "code",
   "execution_count": 5,
   "id": "8c72be74-1773-4958-8f6b-50062b5680dc",
   "metadata": {
    "tags": []
   },
   "outputs": [
    {
     "data": {
      "text/plain": [
       "'2-5G-3J'"
      ]
     },
     "execution_count": 5,
     "metadata": {},
     "output_type": "execute_result"
    }
   ],
   "source": [
    "s = \"2-5g-3-J\"\n",
    "k = 2\n",
    "licenseKeyFormatting(s, k)"
   ]
  },
  {
   "cell_type": "markdown",
   "id": "a6da58ce-8485-47fd-b108-8d2f8dc79382",
   "metadata": {},
   "source": [
    "## 485. Max Consecutive Ones"
   ]
  },
  {
   "cell_type": "code",
   "execution_count": 5,
   "id": "b0fd137f-3fc0-47a8-9cf8-a90d1295dcb8",
   "metadata": {},
   "outputs": [],
   "source": [
    "# My Solution\n",
    "def findMaxConsecutiveOnes(nums):\n",
    "    cnt, high = 0, 0\n",
    "    for i in nums:\n",
    "        if i == 1:\n",
    "            cnt += 1\n",
    "        else:\n",
    "            high = max(high, cnt)\n",
    "            cnt = 0\n",
    "    return max(high, cnt)"
   ]
  },
  {
   "cell_type": "code",
   "execution_count": 6,
   "id": "2fc7aacc-3221-4258-9ef7-0be1471dfc9e",
   "metadata": {
    "tags": []
   },
   "outputs": [
    {
     "data": {
      "text/plain": [
       "3"
      ]
     },
     "execution_count": 6,
     "metadata": {},
     "output_type": "execute_result"
    }
   ],
   "source": [
    "nums = [1,1,0,1,1,1]\n",
    "findMaxConsecutiveOnes(nums)"
   ]
  },
  {
   "cell_type": "markdown",
   "id": "9f338116-f5c1-419e-b69e-b380be1bb569",
   "metadata": {},
   "source": [
    "## 492. Construct the Rectangle"
   ]
  },
  {
   "cell_type": "code",
   "execution_count": 29,
   "id": "91c7b523-8df5-4277-9b88-d6e90f0373f9",
   "metadata": {
    "tags": []
   },
   "outputs": [],
   "source": [
    "# My Solution: Can be improved drastically\n",
    "def construct_rectangle(area):\n",
    "    x = []\n",
    "    start_diff = float('+inf')\n",
    "    for i in range(1, area+1):\n",
    "        if area % i == 0 and (i >= (area//i)):\n",
    "            x.append([i, area//i])\n",
    "            diff = abs(i - (area//i))\n",
    "            if diff <= start_diff:\n",
    "                res = [i, area//i]\n",
    "                start_diff = diff\n",
    "            # length = i\n",
    "            # width = area//i\n",
    "            # if (length >= width): # and (abs(length - width) <= current_min):\n",
    "    return res    "
   ]
  },
  {
   "cell_type": "code",
   "execution_count": 30,
   "id": "192b388e-943c-4055-9b21-3894a260186f",
   "metadata": {
    "tags": []
   },
   "outputs": [
    {
     "data": {
      "text/plain": [
       "[427, 286]"
      ]
     },
     "execution_count": 30,
     "metadata": {},
     "output_type": "execute_result"
    }
   ],
   "source": [
    "construct_rectangle(122122)"
   ]
  },
  {
   "cell_type": "markdown",
   "id": "f86905dd-3fb5-4b5e-9588-296b65badbe7",
   "metadata": {},
   "source": [
    "## 495. Teemo Attacking"
   ]
  },
  {
   "cell_type": "code",
   "execution_count": 36,
   "id": "390ab6cb-28df-4805-9612-d3a24a9706c1",
   "metadata": {
    "tags": []
   },
   "outputs": [],
   "source": [
    "# My Solution\n",
    "def teemo_attack(timeSeries, duration):\n",
    "    cnt = 0\n",
    "    for i in range(len(timeSeries)-1):\n",
    "        if (timeSeries[i+1] - timeSeries[i]) < duration:\n",
    "            cnt += (timeSeries[i+1] - timeSeries[i])\n",
    "        else:\n",
    "            cnt += duration\n",
    "    return cnt + duration"
   ]
  },
  {
   "cell_type": "code",
   "execution_count": 37,
   "id": "597226f3-18d1-4608-8a80-ec849769bd4c",
   "metadata": {
    "tags": []
   },
   "outputs": [
    {
     "data": {
      "text/plain": [
       "4"
      ]
     },
     "execution_count": 37,
     "metadata": {},
     "output_type": "execute_result"
    }
   ],
   "source": [
    "timeSeries = [1,4]\n",
    "duration = 2\n",
    "teemo_attack(timeSeries, duration)"
   ]
  },
  {
   "cell_type": "code",
   "execution_count": 38,
   "id": "96144d40-f01f-4f0d-85e9-7b4dc4386f04",
   "metadata": {
    "tags": []
   },
   "outputs": [
    {
     "data": {
      "text/plain": [
       "3"
      ]
     },
     "execution_count": 38,
     "metadata": {},
     "output_type": "execute_result"
    }
   ],
   "source": [
    "timeSeries = [1,2]\n",
    "duration = 2\n",
    "teemo_attack(timeSeries, duration)"
   ]
  },
  {
   "cell_type": "markdown",
   "id": "dfaa256f-99b8-4344-a6df-c4e89950d144",
   "metadata": {},
   "source": [
    "## 496. Next Greater Element I"
   ]
  },
  {
   "cell_type": "code",
   "execution_count": 23,
   "id": "e48057bf-fc31-4c06-9c22-ef9e4f537ec4",
   "metadata": {
    "tags": []
   },
   "outputs": [],
   "source": [
    "nums1 = [4,1,2]\n",
    "nums2 = [1,3,4,2]"
   ]
  },
  {
   "cell_type": "code",
   "execution_count": 24,
   "id": "8e57229f-9d01-4ef5-9ba5-72b75722b587",
   "metadata": {
    "tags": []
   },
   "outputs": [],
   "source": [
    "# My Solution\n",
    "def next_greater(nums1, nums2):\n",
    "    res = [-1] * len(nums1)\n",
    "    for i in range(len(nums1)):\n",
    "        idx = nums2.index(nums1[i])\n",
    "        for j in nums2[idx:]:\n",
    "            if j > nums1[i]:\n",
    "                res[i] = j\n",
    "                break\n",
    "    return res"
   ]
  },
  {
   "cell_type": "code",
   "execution_count": 25,
   "id": "9300724a-c938-4e2e-a46b-9ab87329f492",
   "metadata": {
    "tags": []
   },
   "outputs": [
    {
     "data": {
      "text/plain": [
       "[-1, 3, -1]"
      ]
     },
     "execution_count": 25,
     "metadata": {},
     "output_type": "execute_result"
    }
   ],
   "source": [
    "next_greater(nums1, nums2)"
   ]
  },
  {
   "cell_type": "code",
   "execution_count": 26,
   "id": "45e8cf0c-7856-4622-aa12-8447ef99f2fe",
   "metadata": {
    "tags": []
   },
   "outputs": [
    {
     "data": {
      "text/plain": [
       "[3, -1]"
      ]
     },
     "execution_count": 26,
     "metadata": {},
     "output_type": "execute_result"
    }
   ],
   "source": [
    "nums1 = [2,4]\n",
    "nums2 = [1,2,3,4]\n",
    "next_greater(nums1, nums2)"
   ]
  },
  {
   "cell_type": "markdown",
   "id": "8d03dcf1-062e-4b49-8d9e-9ab5c299c175",
   "metadata": {},
   "source": [
    "## 500. Keyboard Row"
   ]
  },
  {
   "cell_type": "code",
   "execution_count": 70,
   "id": "9a3d512b-e11f-45a9-998d-7c565d39808e",
   "metadata": {
    "tags": []
   },
   "outputs": [],
   "source": [
    "def findWords(words):\n",
    "    alpha = {'q': 1,'w': 1,'e': 1,'r': 1,'t': 1,'y': 1,'u': 1,'i': 1,'o': 1,'p': 1,\n",
    "             'a': 2, 's': 2, 'd': 2, 'f': 2, 'g': 2, 'h': 2, 'j': 2, 'k': 2, 'l': 2,\n",
    "             'z': 3, 'x': 3, 'c': 3, 'v': 3, 'b': 3, 'n': 3, 'm': 3}\n",
    "    out = words.copy()\n",
    "    for word in words:\n",
    "        for idx in range(1, len(word)):\n",
    "            if alpha[word[idx].lower()] != alpha[word[idx-1].lower()]:\n",
    "                out.remove(word)\n",
    "                break\n",
    "    return out"
   ]
  },
  {
   "cell_type": "code",
   "execution_count": 71,
   "id": "23376692-5cda-4247-beea-2557c5a9f81a",
   "metadata": {
    "tags": []
   },
   "outputs": [
    {
     "data": {
      "text/plain": [
       "['a']"
      ]
     },
     "execution_count": 71,
     "metadata": {},
     "output_type": "execute_result"
    }
   ],
   "source": [
    "words = [\"abdfs\",\"cccd\",\"a\",\"qwwewm\"]\n",
    "# words = ['cccd', 'a', \"qwwewm\"]\n",
    "findWords(words)"
   ]
  },
  {
   "cell_type": "markdown",
   "id": "1693abc2-e9f4-4587-b932-cf856cfa2827",
   "metadata": {},
   "source": [
    "## 501. Find Mode in Binary Search Tree"
   ]
  },
  {
   "cell_type": "code",
   "execution_count": 34,
   "id": "d7e2dde0-45f6-4552-a58e-8192d0de00d5",
   "metadata": {
    "tags": []
   },
   "outputs": [],
   "source": [
    "# My Solution\n",
    "def findMode(root):\n",
    "    out = []\n",
    "    temp_dict = {}\n",
    "    def dfs(root):\n",
    "        if not root:\n",
    "            return\n",
    "        dfs(root.left)\n",
    "        if root.val not in temp_dict:\n",
    "            temp_dict[root.val] = 1\n",
    "        else:\n",
    "            temp_dict[root.val] += 1\n",
    "        dfs(root.right)\n",
    "    dfs(root)\n",
    "    temp_dict = dict(sorted(temp_dict.items(), key = lambda x: x[1], reverse = True))\n",
    "    for i in temp_dict.items():\n",
    "        max_val = list(temp_dict.items())[0][1]\n",
    "        if i[1] == max_val:\n",
    "            out.append(i[0])\n",
    "        else:\n",
    "            break\n",
    "    return out"
   ]
  },
  {
   "cell_type": "markdown",
   "id": "4087510e-ea72-491b-bd03-780457c05f94",
   "metadata": {},
   "source": [
    "## 504. Base 7"
   ]
  },
  {
   "cell_type": "code",
   "execution_count": 80,
   "id": "0853e407-b6e2-439b-9bc7-cfa9708cefd6",
   "metadata": {
    "tags": []
   },
   "outputs": [],
   "source": [
    "# My Solution\n",
    "def base_seven(num):\n",
    "    if num == 0:\n",
    "        return \"0\"\n",
    "    n, out = abs(num), \"\"\n",
    "    while n:\n",
    "        out = str(n % 7) + out\n",
    "        n = n // 7\n",
    "    return (\"-\" + out) if num < 0 else out"
   ]
  },
  {
   "cell_type": "code",
   "execution_count": 67,
   "id": "eef2edb6-0fd3-4f24-847a-9787fbe96ef9",
   "metadata": {
    "tags": []
   },
   "outputs": [
    {
     "data": {
      "text/plain": [
       "'-10'"
      ]
     },
     "execution_count": 67,
     "metadata": {},
     "output_type": "execute_result"
    }
   ],
   "source": [
    "num = -7\n",
    "base_seven(num)"
   ]
  },
  {
   "cell_type": "markdown",
   "id": "3d7feca2-aa2d-47fc-9d75-60ab8a1a0102",
   "metadata": {
    "tags": []
   },
   "source": [
    "## 506. Relative Ranks"
   ]
  },
  {
   "cell_type": "code",
   "execution_count": 75,
   "id": "9cfcabe4-09fe-4827-9a70-b0acd732ca0f",
   "metadata": {
    "tags": []
   },
   "outputs": [],
   "source": [
    "score = [10,3,8,9,4]"
   ]
  },
  {
   "cell_type": "code",
   "execution_count": 81,
   "id": "66e5fa33-34c9-4b4e-a4f0-9f4e76dfc7ce",
   "metadata": {
    "tags": []
   },
   "outputs": [],
   "source": [
    "# My Solution\n",
    "def relative_rank(score):\n",
    "    rank = {}\n",
    "    for idx, val in enumerate(sorted(score, reverse = True)):\n",
    "        if idx == 0:\n",
    "            rank[val] = 'Gold Medal'\n",
    "        elif idx == 1:\n",
    "            rank[val] = 'Silver Medal'\n",
    "        elif idx == 2:\n",
    "            rank[val] = 'Bronze Medal'\n",
    "        else:\n",
    "            rank[val] = str(idx+1)\n",
    "    return [rank[num] for num in score]"
   ]
  },
  {
   "cell_type": "code",
   "execution_count": 82,
   "id": "4c0404b1-c627-4c9c-ae48-687623438fea",
   "metadata": {
    "tags": []
   },
   "outputs": [
    {
     "data": {
      "text/plain": [
       "['Gold Medal', '5', 'Bronze Medal', 'Silver Medal', '4']"
      ]
     },
     "execution_count": 82,
     "metadata": {},
     "output_type": "execute_result"
    }
   ],
   "source": [
    "out"
   ]
  },
  {
   "cell_type": "markdown",
   "id": "21ef018e-7030-4691-877d-5ec97916f7ee",
   "metadata": {},
   "source": [
    "## 507. Perfect Number"
   ]
  },
  {
   "cell_type": "code",
   "execution_count": 100,
   "id": "d64d4089-ab59-4624-b93d-39fc67d0a7c3",
   "metadata": {
    "tags": []
   },
   "outputs": [],
   "source": [
    "# Best Solution: Faster way to find all the divisors of a number is by iterating till the sqrt(num) and taking the numbers which are perfectly divisible by the num and also the quotient\n",
    "# of the perfectly divisible number only excluding the squares.\n",
    "# https://stackoverflow.com/questions/26753839/efficiently-getting-all-divisors-of-a-given-number\n",
    "def checkPerfectNumber(num):\n",
    "    x = 0\n",
    "    for i in range(1, int(num**0.5)+1):\n",
    "        if num % i == 0:\n",
    "            x += i\n",
    "            if i * i != num:\n",
    "                x += (num//i)\n",
    "    return x - num == num"
   ]
  },
  {
   "cell_type": "code",
   "execution_count": 101,
   "id": "30467b89-2f2a-4759-a462-b81e4577c49e",
   "metadata": {
    "tags": []
   },
   "outputs": [
    {
     "data": {
      "text/plain": [
       "False"
      ]
     },
     "execution_count": 101,
     "metadata": {},
     "output_type": "execute_result"
    }
   ],
   "source": [
    "num = 9999999\n",
    "checkPerfectNumber(num)"
   ]
  },
  {
   "cell_type": "markdown",
   "id": "038e70b7-588f-43b7-b6a7-3cdb8c850b3b",
   "metadata": {},
   "source": [
    "## 509. Fibonacci Number"
   ]
  },
  {
   "cell_type": "code",
   "execution_count": 103,
   "id": "d20c6310-888d-42b2-8a94-e4ae98c02f52",
   "metadata": {
    "tags": []
   },
   "outputs": [],
   "source": [
    "# My Recursive Solution:\n",
    "def fib(n):\n",
    "    if n <= 1:\n",
    "        return n\n",
    "    return self.fib(n-1) + self.fib(n-2)"
   ]
  },
  {
   "cell_type": "code",
   "execution_count": 108,
   "id": "e1537758-2ab7-400d-8e18-b36a3a2aa05e",
   "metadata": {
    "tags": []
   },
   "outputs": [],
   "source": [
    "# Better Solution: DP?\n",
    "def fib(n):\n",
    "    if n <= 1:\n",
    "        return n\n",
    "    else:\n",
    "        mem = [0, 1]\n",
    "        for i in range(2, n+1):\n",
    "            mem[i%2] = sum(mem)\n",
    "    return mem[n%2]"
   ]
  },
  {
   "cell_type": "code",
   "execution_count": 109,
   "id": "224cf02a-a9c9-43dd-b1f9-885adbc50769",
   "metadata": {
    "tags": []
   },
   "outputs": [
    {
     "data": {
      "text/plain": [
       "5"
      ]
     },
     "execution_count": 109,
     "metadata": {},
     "output_type": "execute_result"
    }
   ],
   "source": [
    "fib(5)"
   ]
  },
  {
   "cell_type": "markdown",
   "id": "dd21e09b-03e9-42a9-9d56-10f55940060e",
   "metadata": {},
   "source": [
    "## 520. Detect Capital"
   ]
  },
  {
   "cell_type": "code",
   "execution_count": 111,
   "id": "f3fe82bc-e676-455f-9494-872ab698e7c4",
   "metadata": {
    "tags": []
   },
   "outputs": [],
   "source": [
    "# My Solution:\n",
    "def detectCapitalUse(word):\n",
    "    cnt = 0\n",
    "    for l in word:\n",
    "        if l.isupper():\n",
    "            cnt += 1\n",
    "    if cnt == len(word) or cnt == 0:\n",
    "        return True\n",
    "    elif cnt == 1 and word[0].isupper():\n",
    "        return True\n",
    "    else:\n",
    "        return False"
   ]
  },
  {
   "cell_type": "code",
   "execution_count": 112,
   "id": "7f20a2f4-6fcc-41d1-843b-1c51a28fb2c2",
   "metadata": {
    "tags": []
   },
   "outputs": [
    {
     "data": {
      "text/plain": [
       "False"
      ]
     },
     "execution_count": 112,
     "metadata": {},
     "output_type": "execute_result"
    }
   ],
   "source": [
    "word = \"FlaG\"\n",
    "detectCapitalUse(word)"
   ]
  },
  {
   "cell_type": "markdown",
   "id": "ab5cbc12-0c6b-48f6-a992-ff5c596a5152",
   "metadata": {},
   "source": [
    "## 521. Longest Uncommon Sequence I"
   ]
  },
  {
   "cell_type": "code",
   "execution_count": 2,
   "id": "b1339e0a-9ada-4957-bb59-dfc8253097ac",
   "metadata": {
    "tags": []
   },
   "outputs": [],
   "source": [
    "def findLUSlength(a, b):\n",
    "    if a == b:\n",
    "        return -1\n",
    "    return max(len(a), len(b))"
   ]
  },
  {
   "cell_type": "markdown",
   "id": "b55dbc6e-5b53-4ec2-9abd-05e17605529f",
   "metadata": {},
   "source": [
    "## 530. Minimum Absolute Difference in BST & 783. Minimum Distance Between BST Nodes"
   ]
  },
  {
   "cell_type": "code",
   "execution_count": 14,
   "id": "1669eed3-b416-457d-b9a5-bd736e5f4390",
   "metadata": {},
   "outputs": [],
   "source": [
    "# https://www.youtube.com/watch?v=joxx4hTYwcw\n",
    "def minDiffInBST(root):\n",
    "    self.prev, self.min = None, float(\"inf\")\n",
    "\n",
    "    def dfs(node):\n",
    "        if not node:\n",
    "            return\n",
    "        dfs(node.left)\n",
    "        if self.prev:\n",
    "            self.min = min(self.min, node.val-self.prev.val)\n",
    "        self.prev = node\n",
    "        dfs(node.right)\n",
    "\n",
    "    dfs(root)\n",
    "    return self.min"
   ]
  },
  {
   "cell_type": "code",
   "execution_count": 15,
   "id": "de9814c1-19d1-429e-85db-df722300f25b",
   "metadata": {
    "tags": []
   },
   "outputs": [],
   "source": [
    "# Alternate way: Use InOrder Traveral to pull all the elements into an array (when we apply InOrder traversal on binary search tree the resultant array id naturally sorted)\n",
    "# then apply the below window techinque to find the minimum\n",
    "x = [1,3,4,6,7]\n",
    "res = float(\"inf\")\n",
    "for i in range(len(x)-1):\n",
    "    res = min(res, (x[i+1] - x[i]))"
   ]
  },
  {
   "cell_type": "code",
   "execution_count": 16,
   "id": "a481f138-c839-48d7-b64a-e57588057764",
   "metadata": {
    "tags": []
   },
   "outputs": [
    {
     "data": {
      "text/plain": [
       "1"
      ]
     },
     "execution_count": 16,
     "metadata": {},
     "output_type": "execute_result"
    }
   ],
   "source": [
    "res"
   ]
  },
  {
   "cell_type": "markdown",
   "id": "54911227-4e37-47cb-a960-5507481368fc",
   "metadata": {},
   "source": [
    "## 541. Reverse String II"
   ]
  },
  {
   "cell_type": "code",
   "execution_count": 29,
   "id": "ff7dbaab-0d76-4540-a7ee-5ee8987d3767",
   "metadata": {
    "tags": []
   },
   "outputs": [],
   "source": [
    "s = \"abcdefg\"\n",
    "k = 2"
   ]
  },
  {
   "cell_type": "code",
   "execution_count": 30,
   "id": "1d78ab47-d7f9-4063-90aa-1bd5c43940a0",
   "metadata": {
    "tags": []
   },
   "outputs": [],
   "source": [
    "# My Solution:\n",
    "def reverseStr(s, k):\n",
    "    x = list(s)\n",
    "    for i in range(0, len(s), 2*k):\n",
    "        if (i + k-1) < len(s):\n",
    "            j = i + k-1\n",
    "        else:\n",
    "            j = len(s)-1\n",
    "        while i <= j:\n",
    "            x[i], x[j] = x[j], x[i]\n",
    "            i += 1\n",
    "            j -= 1\n",
    "    return \"\".join(x)"
   ]
  },
  {
   "cell_type": "code",
   "execution_count": 31,
   "id": "9d39da7e-b3b3-4a3f-b4d1-f5a2f57a6f50",
   "metadata": {
    "tags": []
   },
   "outputs": [
    {
     "data": {
      "text/plain": [
       "'bacdfeg'"
      ]
     },
     "execution_count": 31,
     "metadata": {},
     "output_type": "execute_result"
    }
   ],
   "source": [
    "reverseStr(s, k)"
   ]
  },
  {
   "cell_type": "markdown",
   "id": "543b79ed-e88e-457e-89b6-a6afe8f9b986",
   "metadata": {},
   "source": [
    "## 543. Diameter of Binary Tree"
   ]
  },
  {
   "cell_type": "code",
   "execution_count": 39,
   "id": "846a596d-7374-4225-9ab5-20bab029ae27",
   "metadata": {
    "tags": []
   },
   "outputs": [],
   "source": [
    "#### DFS??????????"
   ]
  },
  {
   "cell_type": "markdown",
   "id": "35300432-c793-490c-8c3c-0a47077c7f09",
   "metadata": {},
   "source": [
    "## 561. Array Partition"
   ]
  },
  {
   "cell_type": "code",
   "execution_count": 37,
   "id": "e4cfa46f-9cba-4886-998f-4d3c495049f7",
   "metadata": {
    "tags": []
   },
   "outputs": [],
   "source": [
    "# My Solution: Sort the array first and then sum up the values at even indexes\n",
    "def arrayPairSum(nums):\n",
    "    nums = sorted(nums)\n",
    "    sum_cnt = 0\n",
    "    for i in nums[::2]:\n",
    "        sum_cnt += i\n",
    "    return sum_cnt"
   ]
  },
  {
   "cell_type": "code",
   "execution_count": 38,
   "id": "d241b90b-6f92-4e24-965c-1dae48742b65",
   "metadata": {
    "tags": []
   },
   "outputs": [
    {
     "data": {
      "text/plain": [
       "9"
      ]
     },
     "execution_count": 38,
     "metadata": {},
     "output_type": "execute_result"
    }
   ],
   "source": [
    "nums = [6,2,6,5,1,2]\n",
    "arrayPairSum(nums)"
   ]
  },
  {
   "cell_type": "markdown",
   "id": "693ed4cb-3241-4a5a-9fe7-b38e218853c5",
   "metadata": {},
   "source": [
    "## 551. Student Attendance Record I"
   ]
  },
  {
   "cell_type": "code",
   "execution_count": 43,
   "id": "b2eed0e5-e843-434e-841b-89fc90257236",
   "metadata": {
    "tags": []
   },
   "outputs": [],
   "source": [
    "# My Solution: Simple if else conditions\n",
    "def checkRecord(s):\n",
    "    idx = 0\n",
    "    absent = 0\n",
    "    while idx < len(s):\n",
    "        if s[idx] == 'A':\n",
    "            absent += 1\n",
    "            if absent > 1:\n",
    "                return False\n",
    "        elif s[idx] == 'L':\n",
    "            if (idx+2) < len(s):\n",
    "                if s[idx+1] == 'L' and s[idx+2] == 'L':\n",
    "                    return False\n",
    "        idx += 1\n",
    "    return True"
   ]
  },
  {
   "cell_type": "code",
   "execution_count": 44,
   "id": "c369650a-5a33-43a3-8201-721be034e4f7",
   "metadata": {
    "tags": []
   },
   "outputs": [
    {
     "data": {
      "text/plain": [
       "True"
      ]
     },
     "execution_count": 44,
     "metadata": {},
     "output_type": "execute_result"
    }
   ],
   "source": [
    "s = \"PPALLP\"\n",
    "checkRecord(s)"
   ]
  },
  {
   "cell_type": "markdown",
   "id": "da847d31-7dd3-49ae-a038-f7e869dd67b3",
   "metadata": {},
   "source": [
    "## 557. Reverse Words in a String III"
   ]
  },
  {
   "cell_type": "code",
   "execution_count": 40,
   "id": "5fb2382d-a204-4abd-b16b-6afdf9f6e1d8",
   "metadata": {
    "tags": []
   },
   "outputs": [],
   "source": [
    "# My Solution: Simple reversal of each string and then joining them\n",
    "def reverseWords(s):\n",
    "    out = s.split(\" \")\n",
    "    for word_idx in range(len(out)):\n",
    "        out[word_idx] = out[word_idx][::-1]\n",
    "    return \" \".join(out)"
   ]
  },
  {
   "cell_type": "code",
   "execution_count": 41,
   "id": "771f1382-1edc-44e4-afcb-371ba79f5d95",
   "metadata": {
    "tags": []
   },
   "outputs": [
    {
     "data": {
      "text/plain": [
       "\"s'teL ekat edoCteeL tsetnoc\""
      ]
     },
     "execution_count": 41,
     "metadata": {},
     "output_type": "execute_result"
    }
   ],
   "source": [
    "s = \"Let's take LeetCode contest\"\n",
    "reverseWords(s)"
   ]
  },
  {
   "cell_type": "markdown",
   "id": "6ff85e18-e11a-431e-aa36-027fd57c072d",
   "metadata": {},
   "source": [
    "## 559. Maximum Depth of N-ary Tree"
   ]
  },
  {
   "cell_type": "code",
   "execution_count": 46,
   "id": "55cc7899-2c6c-4c14-ac10-89311aefd3cb",
   "metadata": {
    "tags": []
   },
   "outputs": [],
   "source": [
    "# Stack Solution:\n",
    "def maxDepth(root):\n",
    "    stack = []\n",
    "    if root:\n",
    "        stack.append((root, 1))\n",
    "    depth = 0\n",
    "    while stack:\n",
    "        node, level = stack.pop()\n",
    "        depth = max(depth, level)\n",
    "        for i in node.children:\n",
    "            stack.append((i, level+1))\n",
    "    return depth"
   ]
  },
  {
   "cell_type": "markdown",
   "id": "bd3857bc-814b-41d2-aa5b-a10d38131c48",
   "metadata": {},
   "source": [
    "## 563. Binary Tree Tilt"
   ]
  },
  {
   "cell_type": "code",
   "execution_count": 2,
   "id": "99697674-c1da-474b-9aae-a8e391015008",
   "metadata": {},
   "outputs": [],
   "source": [
    "# Recursive Solution: https://www.youtube.com/watch?v=h-Wo5TIzfjI\n",
    "def findTilt(root):\n",
    "    self.tilt = 0\n",
    "    def dfs(root):\n",
    "        if not root:\n",
    "            return 0\n",
    "        left = dfs(root.left)\n",
    "        right = dfs(root.right)\n",
    "        self.tilt += abs(left - right)\n",
    "        return left + right + root.val\n",
    "    dfs(root)\n",
    "    return self.tilt"
   ]
  },
  {
   "cell_type": "markdown",
   "id": "a02b9abb-5523-4643-bfe6-f34181b24a98",
   "metadata": {
    "tags": []
   },
   "source": [
    "## 575. Distribute Candies"
   ]
  },
  {
   "cell_type": "code",
   "execution_count": 5,
   "id": "812e01af-7e44-4ee4-bfdb-70b16ff48356",
   "metadata": {
    "tags": []
   },
   "outputs": [],
   "source": [
    "# My Solution:\n",
    "def distributeCandies(candyType):\n",
    "    unique = len(set(candyType))\n",
    "    if (len(candyType)/2) <= unique:\n",
    "        return int(len(candyType)/2)\n",
    "    else:\n",
    "        return unique"
   ]
  },
  {
   "cell_type": "code",
   "execution_count": 6,
   "id": "10905a0c-f4bf-4192-be5e-8193abbdab4f",
   "metadata": {
    "tags": []
   },
   "outputs": [
    {
     "data": {
      "text/plain": [
       "1"
      ]
     },
     "execution_count": 6,
     "metadata": {},
     "output_type": "execute_result"
    }
   ],
   "source": [
    "candyType = [6,6,6,6]\n",
    "distributeCandies(candyType)"
   ]
  },
  {
   "cell_type": "markdown",
   "id": "61ab94e4-04d4-4441-8d85-366cf898796b",
   "metadata": {},
   "source": [
    "## 589. N-ary Tree Preorder Traversal"
   ]
  },
  {
   "cell_type": "code",
   "execution_count": 10,
   "id": "da05fdca-93aa-4820-a00d-1fbd639ec073",
   "metadata": {
    "tags": []
   },
   "outputs": [],
   "source": [
    "# Recursive Solution: https://www.youtube.com/watch?v=Al6TW2WErK8\n",
    "def preorder(root):\n",
    "    out = []\n",
    "    def dfs(root):\n",
    "        if not root:\n",
    "            return\n",
    "        out.append(root.val)\n",
    "        for child in root.children:\n",
    "            dfs(child)\n",
    "    dfs(root)\n",
    "    return out"
   ]
  },
  {
   "cell_type": "code",
   "execution_count": 11,
   "id": "12847a9f-beab-40a4-af98-4b506dbbd312",
   "metadata": {
    "tags": []
   },
   "outputs": [],
   "source": [
    "# Iterative Solution:\n",
    "def preorder(root):\n",
    "    if not root:\n",
    "        return []\n",
    "    out = []\n",
    "    stack = deque([root])\n",
    "    while stack:\n",
    "        now = stack.popleft()\n",
    "        out.append(now.val)\n",
    "        for child in reversed(now.children):\n",
    "            stack.appendleft(child)\n",
    "    return out"
   ]
  },
  {
   "cell_type": "markdown",
   "id": "8392b056-e77b-45bc-b8ff-61072abea994",
   "metadata": {},
   "source": [
    "## 590. N-ary Tree Postorder Traversal"
   ]
  },
  {
   "cell_type": "code",
   "execution_count": 13,
   "id": "db608cba-8164-4c01-9fed-ea01f106fe21",
   "metadata": {
    "tags": []
   },
   "outputs": [],
   "source": [
    "# Recursive Solution:\n",
    "def postorder(root):\n",
    "    out = []\n",
    "    def dfs(root):\n",
    "        if not root:\n",
    "            return\n",
    "        for child in root.children:\n",
    "            dfs(child)\n",
    "        out.append(root.val)\n",
    "    dfs(root)\n",
    "    return out"
   ]
  },
  {
   "cell_type": "markdown",
   "id": "0682cbb4-fd51-41bd-a579-7691d926e86c",
   "metadata": {},
   "source": [
    "## 598. Range Addition II"
   ]
  },
  {
   "cell_type": "code",
   "execution_count": 3,
   "id": "5a5d14a0-8703-47ee-9d61-b61402bb3897",
   "metadata": {},
   "outputs": [],
   "source": [
    "# My SOlution: Just track the minimum values in ops[0] and ops[1]\n",
    "def maxCount(m , n, ops):\n",
    "    if not ops:\n",
    "        return m * n\n",
    "    left, right = float('inf'), float('inf')\n",
    "    for i in ops:\n",
    "        left = min(left, i[0])\n",
    "        right = min(right, i[1])\n",
    "    return left * right"
   ]
  },
  {
   "cell_type": "code",
   "execution_count": 4,
   "id": "60dab8e2-21ee-410c-baef-dddfb33fe7e0",
   "metadata": {
    "tags": []
   },
   "outputs": [
    {
     "data": {
      "text/plain": [
       "4"
      ]
     },
     "execution_count": 4,
     "metadata": {},
     "output_type": "execute_result"
    }
   ],
   "source": [
    "m = 3\n",
    "n = 3\n",
    "ops = [[2,2],[3,3]]\n",
    "maxCount(m, n, ops)"
   ]
  },
  {
   "cell_type": "markdown",
   "id": "4be05b31-9475-499e-b15d-a761ad7e30b7",
   "metadata": {},
   "source": [
    "## 599. Minimum Index Sum of Two Lists"
   ]
  },
  {
   "cell_type": "code",
   "execution_count": 43,
   "id": "5a2a3ea4-bd3b-4991-b7b7-108659caa97f",
   "metadata": {
    "tags": []
   },
   "outputs": [],
   "source": [
    "list1 = [\"happy\",\"sad\",\"good\"]\n",
    "list2 = [\"sad\",\"happy\",\"good\"]"
   ]
  },
  {
   "cell_type": "code",
   "execution_count": 47,
   "id": "c132587b-0a8e-491f-b1bd-17a2892ef85f",
   "metadata": {
    "tags": []
   },
   "outputs": [],
   "source": [
    "# My Solution: Insert all words into a dictionary and track if they repeat and sum of lowest index and then sort this dictionary and output the words whoch have been repaeated and \n",
    "# have lowest index(could be multiple values)\n",
    "def min_index(list1, list2):\n",
    "    track = {}\n",
    "    for idx, word in enumerate(list1):\n",
    "        track[word] = [False, idx]\n",
    "    for idx, word in enumerate(list2):\n",
    "        if word in track:\n",
    "            track[word][0] = True\n",
    "            track[word][1] += idx\n",
    "    lst = sorted(track.items(), key = lambda x: x[1][1])\n",
    "    ic(lst)\n",
    "    track = []\n",
    "    low = float('inf')\n",
    "    for i, j in lst:\n",
    "        if j[0]:\n",
    "            low = min(low, j[1])\n",
    "        if (j[0]) and (j[1] == low):\n",
    "            track.append(i)\n",
    "        elif j[1] > low:\n",
    "            break\n",
    "    return track"
   ]
  },
  {
   "cell_type": "code",
   "execution_count": 48,
   "id": "c691c2a2-bf50-42a4-8fe3-d6afa45a7f1d",
   "metadata": {
    "tags": []
   },
   "outputs": [
    {
     "name": "stderr",
     "output_type": "stream",
     "text": [
      "ic| lst: [('Tapioca Express', [False, 1]),\n",
      "          ('Burger King', [False, 2]),\n",
      "          ('Shogun', [True, 3]),\n",
      "          ('KFC', [False, 3])]\n"
     ]
    },
    {
     "data": {
      "text/plain": [
       "['Shogun']"
      ]
     },
     "execution_count": 48,
     "metadata": {},
     "output_type": "execute_result"
    }
   ],
   "source": [
    "min_index(list1, list2)"
   ]
  },
  {
   "cell_type": "code",
   "execution_count": 49,
   "id": "9d6ad1d4-9d08-48ea-b35e-d874962ed891",
   "metadata": {
    "tags": []
   },
   "outputs": [
    {
     "name": "stderr",
     "output_type": "stream",
     "text": [
      "ic| lst: [('Tapioca Express', [False, 1]),\n",
      "          ('Burger King', [False, 2]),\n",
      "          ('Shogun', [True, 3]),\n",
      "          ('KFC', [False, 3])]\n"
     ]
    },
    {
     "data": {
      "text/plain": [
       "['Shogun']"
      ]
     },
     "execution_count": 49,
     "metadata": {},
     "output_type": "execute_result"
    }
   ],
   "source": [
    "list1 = [\"Shogun\",\"Tapioca Express\",\"Burger King\",\"KFC\"]\n",
    "list2 = [\"Piatti\",\"The Grill at Torrey Pines\",\"Hungry Hunter Steakhouse\",\"Shogun\"]\n",
    "min_index(list1, list2)"
   ]
  },
  {
   "cell_type": "markdown",
   "id": "6fd8c004-fad2-467b-9656-07790d5d5acc",
   "metadata": {
    "tags": []
   },
   "source": [
    "## 594. Longest Harmonious Subsequence"
   ]
  },
  {
   "cell_type": "code",
   "execution_count": 53,
   "id": "1d295e7f-25ad-47ac-ae0e-f9e6a8d26f07",
   "metadata": {
    "tags": []
   },
   "outputs": [],
   "source": [
    "# Best Solution: https://www.youtube.com/watch?v=U1dAf0pnNBc\n",
    "def findLHS(nums):\n",
    "    c = Counter(nums)\n",
    "    out = 0\n",
    "    for i, j in c.items():\n",
    "        if i+1 in c:\n",
    "            out = max(out, j+c[i+1])\n",
    "    return out"
   ]
  },
  {
   "cell_type": "code",
   "execution_count": 54,
   "id": "191b2429-311b-4812-9e09-3f9ec0841b90",
   "metadata": {
    "tags": []
   },
   "outputs": [
    {
     "data": {
      "text/plain": [
       "5"
      ]
     },
     "execution_count": 54,
     "metadata": {},
     "output_type": "execute_result"
    }
   ],
   "source": [
    "nums = [1,3,2,2,5,2,3,7]\n",
    "findLHS(nums)"
   ]
  },
  {
   "cell_type": "markdown",
   "id": "96b071a8-773d-4de3-a5c9-5c95549cc0e4",
   "metadata": {},
   "source": [
    "## 605. Can Place Flowers"
   ]
  },
  {
   "cell_type": "code",
   "execution_count": 59,
   "id": "323f1ad3-d557-4d66-b579-887fc0e1ceb9",
   "metadata": {
    "tags": []
   },
   "outputs": [],
   "source": [
    "# My Solution: Not fast\n",
    "def canPlaceFlowers(flowerbed, n):\n",
    "    flowerbed = deque(flowerbed)\n",
    "    flowerbed.append(0)\n",
    "    flowerbed.appendleft(0)\n",
    "    flowerbed = list(flowerbed)\n",
    "    if n == 0:\n",
    "        return True\n",
    "    for i in range(len(flowerbed) - 2):\n",
    "        if sum(flowerbed[i:i+3]) == 0:\n",
    "            n -= 1\n",
    "            flowerbed[i+1] = 1\n",
    "        if n == 0:\n",
    "            return True\n",
    "    return False"
   ]
  },
  {
   "cell_type": "code",
   "execution_count": 61,
   "id": "a70c4f40-6dc1-4a18-b318-ee4953d43277",
   "metadata": {
    "tags": []
   },
   "outputs": [
    {
     "data": {
      "text/plain": [
       "True"
      ]
     },
     "execution_count": 61,
     "metadata": {},
     "output_type": "execute_result"
    }
   ],
   "source": [
    "flowerbed = [1,0,0,0,1]\n",
    "n = 1\n",
    "canPlaceFlowers(flowerbed, n) # Too many edgecases to explore"
   ]
  },
  {
   "cell_type": "markdown",
   "id": "083bd6dc-5bec-4609-a2d4-cfe529fe7709",
   "metadata": {},
   "source": [
    "## 606. Construct String from Binary Tree"
   ]
  },
  {
   "cell_type": "code",
   "execution_count": 63,
   "id": "153983c6-7b01-4f32-ad35-f7bd07bc20d4",
   "metadata": {
    "tags": []
   },
   "outputs": [],
   "source": [
    "# Recursive Solution: https://www.youtube.com/watch?v=b1WpYxnuebQ\n",
    "def tree2str(root):\n",
    "    out = []\n",
    "\n",
    "    def dfs(root):\n",
    "        if not root:\n",
    "            return\n",
    "        out.append('(')\n",
    "        out.append(str(root.val))\n",
    "        if not root.left and root.right:\n",
    "            out.append('()')\n",
    "        dfs(root.left)\n",
    "        dfs(root.right)\n",
    "        out.append(')')\n",
    "\n",
    "    dfs(root)\n",
    "    return \"\".join(out[1:-1])"
   ]
  },
  {
   "cell_type": "markdown",
   "id": "fea57dbe-edbb-4d5a-9eab-96bcea4572bd",
   "metadata": {},
   "source": [
    "## 617. Merge Two Binary Trees"
   ]
  },
  {
   "cell_type": "code",
   "execution_count": 64,
   "id": "3b1d022e-08b7-4020-9637-441141cfc84d",
   "metadata": {
    "tags": []
   },
   "outputs": [],
   "source": [
    "def mergeTrees(root1, root2):\n",
    "    if not root1 and not root2:\n",
    "        return\n",
    "    node1 = root1.val if root1 else 0 \n",
    "    node2 = root2.val if root2 else 0\n",
    "    root = TreeNode(val = node1 + node2)\n",
    "    root.left = self.mergeTrees(root1.left if root1 else None, root2.left if root2 else None)\n",
    "    root.right = self.mergeTrees(root1.right if root1 else None, root2.right if root2 else None)\n",
    "    return root"
   ]
  },
  {
   "cell_type": "markdown",
   "id": "d473956a-cbf4-4daf-9d19-79e4ca0b284a",
   "metadata": {},
   "source": [
    "## 628. Maximum Product of Three Numbers"
   ]
  },
  {
   "cell_type": "code",
   "execution_count": 2,
   "id": "f9f95c23-80bf-44bb-a92e-97b53942cee4",
   "metadata": {},
   "outputs": [],
   "source": [
    "# Best Solution: First sort the array, then eiter return the product of last three numbers(if all numbers are positive) else return product of first 2 and last number\n",
    "# (this will take care of first 2 numbers being negative which multiply to positive and the last vale will either be a negative or largest positive)\n",
    "def maximumProduct(nums):\n",
    "    nums = sorted(nums)\n",
    "    return max((nums[-1]*nums[-2]*nums[-3]),(nums[0]*nums[1]*nums[-1]))"
   ]
  },
  {
   "cell_type": "code",
   "execution_count": 3,
   "id": "9e893bf8-f56d-4e7d-9a25-2fe08e625b22",
   "metadata": {
    "tags": []
   },
   "outputs": [
    {
     "data": {
      "text/plain": [
       "300"
      ]
     },
     "execution_count": 3,
     "metadata": {},
     "output_type": "execute_result"
    }
   ],
   "source": [
    "nums = [-100,-3,-2,1]\n",
    "maximumProduct(nums)"
   ]
  },
  {
   "cell_type": "markdown",
   "id": "dc3eabf3-9875-4da7-a759-de1a0ea0b1f1",
   "metadata": {},
   "source": [
    "## 645. Set Mismatch"
   ]
  },
  {
   "cell_type": "code",
   "execution_count": 46,
   "id": "92bc3420-dfa3-4559-b6af-d934021ff989",
   "metadata": {
    "tags": []
   },
   "outputs": [],
   "source": [
    "nums = [1,2,2,4]"
   ]
  },
  {
   "cell_type": "code",
   "execution_count": 47,
   "id": "aac4bb8b-eccd-4db0-a737-fd4d54e01c7f",
   "metadata": {
    "tags": []
   },
   "outputs": [],
   "source": [
    "def mismatch(nums):\n",
    "    num_set = set(nums)\n",
    "    missing = int(((len(nums)*(len(nums)+1))/2) - sum(num_set))\n",
    "    nums = sorted(nums)\n",
    "    prev = nums[0]\n",
    "    for i in nums[1:]:\n",
    "        if i == prev:\n",
    "            repeat = i\n",
    "            break\n",
    "        prev = i\n",
    "    return [repeat, missing]"
   ]
  },
  {
   "cell_type": "code",
   "execution_count": 48,
   "id": "58589977-ea37-487d-bcf3-d70b8a9007d9",
   "metadata": {
    "tags": []
   },
   "outputs": [
    {
     "data": {
      "text/plain": [
       "[2, 3]"
      ]
     },
     "execution_count": 48,
     "metadata": {},
     "output_type": "execute_result"
    }
   ],
   "source": [
    "mismatch(nums)"
   ]
  },
  {
   "cell_type": "code",
   "execution_count": 49,
   "id": "250fb877-ed84-4771-ba56-4cb2d01c3b39",
   "metadata": {
    "tags": []
   },
   "outputs": [
    {
     "data": {
      "text/plain": [
       "[3, 1]"
      ]
     },
     "execution_count": 49,
     "metadata": {},
     "output_type": "execute_result"
    }
   ],
   "source": [
    "nums = [3,2,3,4,6,5]\n",
    "mismatch(nums)"
   ]
  },
  {
   "cell_type": "markdown",
   "id": "bbb7c887-93aa-4702-b9dc-7c2281ec2b41",
   "metadata": {},
   "source": [
    "## 637. Average of Levels in Binary Tree"
   ]
  },
  {
   "cell_type": "code",
   "execution_count": 51,
   "id": "f02156e4-c630-4ecd-9f6b-4e59d9949167",
   "metadata": {
    "tags": []
   },
   "outputs": [],
   "source": [
    "# DFS Solution: https://www.youtube.com/watch?v=MVxvNunB0d4\n",
    "def averageOfLevels(root):\n",
    "    level_sum = defaultdict(float)\n",
    "    level = defaultdict(int)\n",
    "\n",
    "    def dfs(node, lvl):\n",
    "        if not node:\n",
    "            return\n",
    "        dfs(node.left, lvl+1)\n",
    "        dfs(node.right, lvl+1)\n",
    "        level_sum[lvl] += node.val\n",
    "        level[lvl] += 1\n",
    "\n",
    "    dfs(root, 0)\n",
    "\n",
    "    out = []\n",
    "    for i in range(len(level_sum)):\n",
    "        out.append(level_sum[i]/level[i])\n",
    "\n",
    "    return out"
   ]
  },
  {
   "cell_type": "markdown",
   "id": "c3c1f370-711f-4b10-a844-aa63e5dee339",
   "metadata": {},
   "source": [
    "## 653. Two Sum IV - Input is a BST"
   ]
  },
  {
   "cell_type": "code",
   "execution_count": 56,
   "id": "e15e6c64-0c12-4673-926e-41eae8387c25",
   "metadata": {
    "tags": []
   },
   "outputs": [],
   "source": [
    "# DFS Solution: https://www.youtube.com/watch?v=AswWgktaeDk\n",
    "def findTarget(root):\n",
    "    track = set()\n",
    "    def dfs(node):\n",
    "        if not node:\n",
    "            return False\n",
    "        diff = k - node.val\n",
    "        if diff in track:\n",
    "            return True\n",
    "        else:\n",
    "            track.add(node.val)\n",
    "        return dfs(node.left) or dfs(node.right)\n",
    "\n",
    "    return dfs(root)"
   ]
  },
  {
   "cell_type": "markdown",
   "id": "390a33b3-dc17-4adc-873c-28ff86c65328",
   "metadata": {
    "tags": []
   },
   "source": [
    "## 657. Robot Return to Origin"
   ]
  },
  {
   "cell_type": "code",
   "execution_count": 66,
   "id": "bc31bae0-e2e8-4317-9190-2d0fc537b024",
   "metadata": {
    "tags": []
   },
   "outputs": [],
   "source": [
    "# My Solution\n",
    "def judgeCircle(moves):\n",
    "    track = defaultdict(int)\n",
    "    for move in moves:\n",
    "        if move == 'U':\n",
    "            if track['D'] > 0:\n",
    "                track['D'] -= 1\n",
    "            else:\n",
    "                track['U'] += 1\n",
    "        if move == 'D':\n",
    "            if track['U'] > 0:\n",
    "                track['U'] -= 1\n",
    "            else:\n",
    "                track['D'] += 1\n",
    "        if move == 'L':\n",
    "            if track['R'] > 0:\n",
    "                track['R'] -= 1\n",
    "            else:\n",
    "                track['L'] += 1\n",
    "        if move == 'R':\n",
    "            if track['L'] > 0:\n",
    "                track['L'] -= 1\n",
    "            else:\n",
    "                track['R'] += 1\n",
    "    if sum(track.values()) == 0:\n",
    "        return True\n",
    "    return False"
   ]
  },
  {
   "cell_type": "code",
   "execution_count": 67,
   "id": "9cb4bfc4-a0de-4302-a99f-c809927b3beb",
   "metadata": {
    "tags": []
   },
   "outputs": [],
   "source": [
    "# Best Solution:\n",
    "def judgeCircle(moves):\n",
    "    return moves.count('U') == moves.count('D') and moves.count('R') == moves.count('L')"
   ]
  },
  {
   "cell_type": "code",
   "execution_count": 68,
   "id": "44276180-4afa-4419-ba88-c3be38d14f54",
   "metadata": {
    "tags": []
   },
   "outputs": [
    {
     "data": {
      "text/plain": [
       "True"
      ]
     },
     "execution_count": 68,
     "metadata": {},
     "output_type": "execute_result"
    }
   ],
   "source": [
    "moves = \"UD\"\n",
    "judgeCircle(moves)"
   ]
  },
  {
   "cell_type": "markdown",
   "id": "f40bb8b0-4fce-429f-a697-88d79e79f107",
   "metadata": {
    "tags": []
   },
   "source": [
    "## 661. Image Smoother"
   ]
  },
  {
   "cell_type": "code",
   "execution_count": 4,
   "id": "4b2fb7e7-1cfd-4f78-966d-4f961a71fbfc",
   "metadata": {
    "tags": []
   },
   "outputs": [],
   "source": [
    "def imageSmoother(img):\n",
    "    m = len(img)\n",
    "    n = len(img[0])\n",
    "\n",
    "    img_np = zeros((m + 2, n + 2), dtype=int)\n",
    "    img_np[1: -1, 1: -1] = img\n",
    "    cnt_np = zeros((m + 2, n + 2), dtype=int)\n",
    "    cnt_np[1: -1, 1: -1] = 1\n",
    "\n",
    "    img_sum = zeros((m, n), dtype=int)\n",
    "    cnt_sum = zeros((m, n), dtype=int)\n",
    "    for i in range(3):\n",
    "        for j in range(3):\n",
    "            img_sum += img_np[i:i+m, j:j+n]\n",
    "            cnt_sum += cnt_np[i:i+m, j:j+n]\n",
    "\n",
    "    ans = img_sum // cnt_sum\n",
    "    return ans.tolist()"
   ]
  },
  {
   "cell_type": "markdown",
   "id": "2cbf135d-3f54-4ad3-8a7d-4f3720647cd2",
   "metadata": {},
   "source": [
    "## 671. Second Minimum Node In a Binary Tree"
   ]
  },
  {
   "cell_type": "code",
   "execution_count": 5,
   "id": "0f4d5b5c-ee95-43fb-b0fe-f4fb4e4fda44",
   "metadata": {
    "tags": []
   },
   "outputs": [],
   "source": [
    "# My Solution: DFS\n",
    "def findSecondMinimumValue(root):\n",
    "    track = set()\n",
    "    def dfs(node):\n",
    "        if not node:\n",
    "            return\n",
    "        dfs(node.left)\n",
    "        track.add(node.val)\n",
    "        dfs(node.right)\n",
    "\n",
    "    dfs(root)\n",
    "    if len(track) <= 1:\n",
    "        return -1\n",
    "    return sorted(track)[1]"
   ]
  },
  {
   "cell_type": "markdown",
   "id": "239bb486-678e-4ac1-a6c0-5bb5c492e429",
   "metadata": {
    "tags": []
   },
   "source": [
    "## 674. Longest Continuous Increasing Subsequence"
   ]
  },
  {
   "cell_type": "code",
   "execution_count": 7,
   "id": "b213529a-e70d-4d4d-a286-9e0f6960cfa4",
   "metadata": {
    "tags": []
   },
   "outputs": [],
   "source": [
    "# My Solution\n",
    "def findLengthOfLCIS(nums):\n",
    "    track = 0\n",
    "    maxlen = 0\n",
    "    for i in range(1, len(nums)):\n",
    "        if nums[i] > nums[i-1]:\n",
    "            track += 1\n",
    "        else:\n",
    "            track = 0\n",
    "        maxlen = max(maxlen, track)\n",
    "    return maxlen+1"
   ]
  },
  {
   "cell_type": "markdown",
   "id": "2378dde7-0bc6-4ebf-a965-4910152014ca",
   "metadata": {
    "tags": []
   },
   "source": [
    "## 682. Baseball Game"
   ]
  },
  {
   "cell_type": "code",
   "execution_count": 45,
   "id": "900957c7-5380-4a6c-922d-d69067b67e59",
   "metadata": {
    "tags": []
   },
   "outputs": [],
   "source": [
    "# My Solution\n",
    "def calPoints(ops):\n",
    "    score = []\n",
    "    for i in ops:\n",
    "        if i[-1].isdigit():\n",
    "            score.append(int(i))\n",
    "        elif i == \"+\":\n",
    "            score.append(score[-1] + score[-2])\n",
    "        elif i == \"D\":\n",
    "            score.append(2 * score[-1])\n",
    "        else:\n",
    "            score.pop()\n",
    "    return sum(score)"
   ]
  },
  {
   "cell_type": "code",
   "execution_count": 46,
   "id": "8193e2c2-77a7-472f-ba29-027948c1efff",
   "metadata": {
    "tags": []
   },
   "outputs": [
    {
     "data": {
      "text/plain": [
       "30"
      ]
     },
     "execution_count": 46,
     "metadata": {},
     "output_type": "execute_result"
    }
   ],
   "source": [
    "ops = [\"5\",\"2\",\"C\",\"D\",\"+\"]\n",
    "calPoints(ops)"
   ]
  },
  {
   "cell_type": "code",
   "execution_count": 47,
   "id": "4740ef85-f557-4ae7-8970-25057a0cb2a3",
   "metadata": {
    "tags": []
   },
   "outputs": [
    {
     "data": {
      "text/plain": [
       "27"
      ]
     },
     "execution_count": 47,
     "metadata": {},
     "output_type": "execute_result"
    }
   ],
   "source": [
    "ops = [\"5\",\"-2\",\"4\",\"C\",\"D\",\"9\",\"+\",\"+\"]\n",
    "calPoints(ops)"
   ]
  },
  {
   "cell_type": "markdown",
   "id": "52d655d0-a030-4b6a-92e1-3a36fd634afc",
   "metadata": {},
   "source": [
    "## 693. Binary Number with Alternating Bits"
   ]
  },
  {
   "cell_type": "code",
   "execution_count": 65,
   "id": "ba283859-225e-46f7-a72b-3fc7ba8ea6b0",
   "metadata": {
    "tags": []
   },
   "outputs": [],
   "source": [
    "def alternate(n):\n",
    "    binary = bin(n)[2:]\n",
    "    for i in range(len(binary)):\n",
    "        if i % 2 == 0:\n",
    "            if int(binary[i]) != 1:\n",
    "                return False\n",
    "        else:\n",
    "            if int(binary[i]) != 0:\n",
    "                return False\n",
    "    return True"
   ]
  },
  {
   "cell_type": "code",
   "execution_count": 66,
   "id": "17d49533-215f-47fb-b9e5-2677de986506",
   "metadata": {
    "tags": []
   },
   "outputs": [
    {
     "data": {
      "text/plain": [
       "True"
      ]
     },
     "execution_count": 66,
     "metadata": {},
     "output_type": "execute_result"
    }
   ],
   "source": [
    "alternate(5)"
   ]
  },
  {
   "cell_type": "markdown",
   "id": "3e42f5d8-5d89-461b-99ff-986efc039e5f",
   "metadata": {
    "tags": []
   },
   "source": [
    "## 697. Degree of an Array"
   ]
  },
  {
   "cell_type": "code",
   "execution_count": 117,
   "id": "4f3d435b-aab4-4461-9a84-4beda2c61ef4",
   "metadata": {
    "tags": []
   },
   "outputs": [],
   "source": [
    "nums = [1,2,2,3,1,4,2]"
   ]
  },
  {
   "cell_type": "code",
   "execution_count": 118,
   "id": "752c47ac-0c2c-45c3-9f96-a168e7deecc1",
   "metadata": {
    "tags": []
   },
   "outputs": [],
   "source": [
    "def degree(nums):\n",
    "    track = defaultdict()\n",
    "    maxlen = 0\n",
    "    for idx, num in enumerate(nums):\n",
    "        if num not in track:\n",
    "            track[num] = [1, idx, 1]  #[occurance, first_idx, subarray_len]\n",
    "        else:\n",
    "            track[num][2] = idx - track[num][1] + 1\n",
    "            track[num][0] += 1\n",
    "    track = sorted(track.items(), key = lambda x: x[1][0], reverse=True)\n",
    "    maxlen = track[0][1][0]\n",
    "    minlen = float('inf')\n",
    "    for i in track:\n",
    "        if i[1][0] == maxlen:\n",
    "            minlen = min(minlen, i[1][2])\n",
    "        else:\n",
    "            break\n",
    "    return minlen"
   ]
  },
  {
   "cell_type": "code",
   "execution_count": 119,
   "id": "db841144-cca8-4fd1-ae45-e35b3f04a48e",
   "metadata": {
    "tags": []
   },
   "outputs": [
    {
     "data": {
      "text/plain": [
       "6"
      ]
     },
     "execution_count": 119,
     "metadata": {},
     "output_type": "execute_result"
    }
   ],
   "source": [
    "degree(nums)"
   ]
  },
  {
   "cell_type": "code",
   "execution_count": 120,
   "id": "ff90b1b8-52fe-4b13-8443-3e705b2c1eea",
   "metadata": {
    "tags": []
   },
   "outputs": [
    {
     "data": {
      "text/plain": [
       "2"
      ]
     },
     "execution_count": 120,
     "metadata": {},
     "output_type": "execute_result"
    }
   ],
   "source": [
    "nums = [1,2,2,3,1]\n",
    "degree(nums)"
   ]
  },
  {
   "cell_type": "markdown",
   "id": "99b26a95-0494-4df6-8ed2-afe7b5b125d8",
   "metadata": {
    "tags": []
   },
   "source": [
    "## 680. Valid Palindrome II"
   ]
  },
  {
   "cell_type": "code",
   "execution_count": 123,
   "id": "aea4350a-684e-44dc-b528-8a503fc2d4ab",
   "metadata": {
    "tags": []
   },
   "outputs": [],
   "source": [
    "def validPalindrome(s):\n",
    "    l, r = 0, len(s)-1\n",
    "    while l < r:\n",
    "        if s[l] != s[r]:\n",
    "            newL, newR = s[l+1: r+1], s[l: r]\n",
    "            return (newL[::-1] == newL or newR[::-1] == newR)\n",
    "        l += 1\n",
    "        r -= 1\n",
    "    return True"
   ]
  },
  {
   "cell_type": "code",
   "execution_count": 124,
   "id": "3db9d684-f802-452e-bfcb-875ca4b01ca2",
   "metadata": {
    "tags": []
   },
   "outputs": [
    {
     "data": {
      "text/plain": [
       "True"
      ]
     },
     "execution_count": 124,
     "metadata": {},
     "output_type": "execute_result"
    }
   ],
   "source": [
    "s = \"aba\"\n",
    "validPalindrome(s)"
   ]
  },
  {
   "cell_type": "markdown",
   "id": "8bd0a001-685a-4748-bddc-40672270b888",
   "metadata": {},
   "source": [
    "## 6. Zigzag Conversion"
   ]
  },
  {
   "cell_type": "code",
   "execution_count": 10,
   "id": "c9dc2a10-6fc3-4ca4-9c0e-2c745747d94c",
   "metadata": {
    "tags": []
   },
   "outputs": [],
   "source": [
    "# Best Solution: https://youtu.be/Q2Tw6gcVEwc?si=sIayGjk1IHp7ILnm\n",
    "def zigzag(s, numRow):\n",
    "    if numRows == 1:\n",
    "        return s\n",
    "    out = []\n",
    "    for r in range(numRow):\n",
    "        interval = 2 * (numRow - 1)\n",
    "        for i in range(r, len(s), interval):\n",
    "            out.append(s[i])\n",
    "            if (r > 0) and (r < numRow-1) and (i + interval - (2*r) < len(s)):\n",
    "                out.append(s[i + interval - (2*r)])\n",
    "    return \"\".join(out)"
   ]
  },
  {
   "cell_type": "code",
   "execution_count": 11,
   "id": "d36317bc-93ee-4f64-b658-fb37d73cb048",
   "metadata": {
    "tags": []
   },
   "outputs": [
    {
     "data": {
      "text/plain": [
       "'PINALSIGYAHRPI'"
      ]
     },
     "execution_count": 11,
     "metadata": {},
     "output_type": "execute_result"
    }
   ],
   "source": [
    "s = \"PAYPALISHIRING\"\n",
    "numRows = 4\n",
    "zigzag(s, numRows)"
   ]
  },
  {
   "cell_type": "markdown",
   "id": "a52eaf53-55de-47a5-91d8-dfa2e6c3ec96",
   "metadata": {},
   "source": [
    "## 7. Reverse Integer"
   ]
  },
  {
   "cell_type": "code",
   "execution_count": 24,
   "id": "1b87fa2d-c658-48f8-871a-126dff3a0b19",
   "metadata": {
    "tags": []
   },
   "outputs": [],
   "source": [
    "def reverse(x):\n",
    "    if len(str(x)) == 1:\n",
    "        return x\n",
    "    num = str(abs(x))[::-1]\n",
    "    out = []\n",
    "    first_zero = True\n",
    "    for i in num:\n",
    "        if int(i) == 0 and first_zero:\n",
    "            continue\n",
    "        else:\n",
    "            out.append(i)\n",
    "            first_zero = False\n",
    "\n",
    "    out_digit = int(\"\".join(out))\n",
    "\n",
    "    if out_digit > 2147483648 or out_digit < -2147483648:\n",
    "        return 0\n",
    "    if x < 0:\n",
    "        return -1 * out_digit\n",
    "    else:\n",
    "        return out_digit"
   ]
  },
  {
   "cell_type": "code",
   "execution_count": 25,
   "id": "5b71620d-31c0-4753-80c2-01e9935b14b5",
   "metadata": {
    "tags": []
   },
   "outputs": [
    {
     "name": "stderr",
     "output_type": "stream",
     "text": [
      "ic| num: '321'\n"
     ]
    },
    {
     "data": {
      "text/plain": [
       "-321"
      ]
     },
     "execution_count": 25,
     "metadata": {},
     "output_type": "execute_result"
    }
   ],
   "source": [
    "x = -123\n",
    "reverseInteger(x)"
   ]
  },
  {
   "cell_type": "code",
   "execution_count": 26,
   "id": "0d357f08-b44f-4ef1-8d2a-d439cd1378c9",
   "metadata": {
    "tags": []
   },
   "outputs": [
    {
     "name": "stderr",
     "output_type": "stream",
     "text": [
      "ic| num: '021'\n"
     ]
    },
    {
     "data": {
      "text/plain": [
       "21"
      ]
     },
     "execution_count": 26,
     "metadata": {},
     "output_type": "execute_result"
    }
   ],
   "source": [
    "x = 120\n",
    "reverseInteger(x)"
   ]
  },
  {
   "cell_type": "code",
   "execution_count": 27,
   "id": "f819e7a2-ae45-4b3d-b496-19b5bb91154c",
   "metadata": {
    "tags": []
   },
   "outputs": [
    {
     "data": {
      "text/plain": [
       "0"
      ]
     },
     "execution_count": 27,
     "metadata": {},
     "output_type": "execute_result"
    }
   ],
   "source": [
    "x = 0\n",
    "reverseInteger(x)"
   ]
  },
  {
   "cell_type": "markdown",
   "id": "dcf9ab51-abb1-467e-bf6f-3f3ac4a69956",
   "metadata": {},
   "source": [
    "## 2. Add Two Numbers"
   ]
  },
  {
   "cell_type": "code",
   "execution_count": 2,
   "id": "a7e9414d-d6e6-4805-8420-169422d983e5",
   "metadata": {},
   "outputs": [],
   "source": [
    "def addTwoNumbers(l1, l2):\n",
    "    lst1 = deque()\n",
    "    lst2 = deque()\n",
    "    while l1:\n",
    "        lst1.appendleft(str(l1.val))\n",
    "        l1 = l1.next\n",
    "    while l2:\n",
    "        lst2.appendleft(str(l2.val))\n",
    "        l2 = l2.next\n",
    "    total = str(int(\"\".join(lst1)) + int(\"\".join(lst2)))[::-1]\n",
    "\n",
    "    out = ListNode(val = int(total[0]))\n",
    "    head = out\n",
    "    for i in total[1:]:\n",
    "        head.next = ListNode(val = int(i))\n",
    "        head = head.next\n",
    "\n",
    "    return out"
   ]
  },
  {
   "cell_type": "markdown",
   "id": "95f716dc-4b35-4fe4-833c-ef8989b9aebe",
   "metadata": {},
   "source": [
    "## 8. String to Integer (atoi)"
   ]
  },
  {
   "cell_type": "code",
   "execution_count": 20,
   "id": "7e75a739-9410-4d69-aaa2-fd54dc776ec1",
   "metadata": {
    "tags": []
   },
   "outputs": [],
   "source": [
    "s = \"4193 with words\""
   ]
  },
  {
   "cell_type": "code",
   "execution_count": 21,
   "id": "c9aaeafd-e1b1-4623-ae0f-d2cc69b9b548",
   "metadata": {
    "tags": []
   },
   "outputs": [],
   "source": [
    "def string_to_int(s):\n",
    "    digit = []\n",
    "    found_digit = False\n",
    "    for i in s:\n",
    "        if (i.isdigit()) or (i == \"-\"):\n",
    "            digit.append(i)\n",
    "            if i.isdigit():\n",
    "                found_digit = True\n",
    "        if found_digit and (not i.isdigit()):\n",
    "            break\n",
    "    return int(\"\".join(digit))"
   ]
  },
  {
   "cell_type": "code",
   "execution_count": 22,
   "id": "c2e62d44-8535-4266-b9f8-9cb382ea21f7",
   "metadata": {
    "tags": []
   },
   "outputs": [
    {
     "data": {
      "text/plain": [
       "4193"
      ]
     },
     "execution_count": 22,
     "metadata": {},
     "output_type": "execute_result"
    }
   ],
   "source": [
    "string_to_int(s)"
   ]
  },
  {
   "cell_type": "code",
   "execution_count": 23,
   "id": "7545c1bc-cbe5-418f-85ec-abff2acf12e4",
   "metadata": {
    "tags": []
   },
   "outputs": [
    {
     "data": {
      "text/plain": [
       "42"
      ]
     },
     "execution_count": 23,
     "metadata": {},
     "output_type": "execute_result"
    }
   ],
   "source": [
    "s = \"42\"\n",
    "string_to_int(s)"
   ]
  },
  {
   "cell_type": "code",
   "execution_count": 24,
   "id": "d3818d82-eff0-4a17-baed-ad5d02f1b838",
   "metadata": {
    "tags": []
   },
   "outputs": [
    {
     "data": {
      "text/plain": [
       "-42"
      ]
     },
     "execution_count": 24,
     "metadata": {},
     "output_type": "execute_result"
    }
   ],
   "source": [
    "s = \"   -42\"\n",
    "string_to_int(s)"
   ]
  },
  {
   "cell_type": "markdown",
   "id": "759c724e-a97c-4b3d-b34b-d2d1f986328f",
   "metadata": {},
   "source": [
    "## 11. Container With Most Water"
   ]
  },
  {
   "cell_type": "code",
   "execution_count": 32,
   "id": "5883956c-8772-4f02-90b5-a0ede12e06da",
   "metadata": {
    "tags": []
   },
   "outputs": [],
   "source": [
    "height = [1,8,6,2,5,4,8,3,7]"
   ]
  },
  {
   "cell_type": "code",
   "execution_count": 33,
   "id": "681d644d-02fc-4a27-b3b3-8222ec338ad7",
   "metadata": {
    "tags": []
   },
   "outputs": [],
   "source": [
    "# My Solution: 2 left and right pointer and track the max area ('water') and move ponters left or right inwards based on the given condition\n",
    "def most_water(height):\n",
    "    l = 0\n",
    "    r = len(height) - 1\n",
    "    water = 0\n",
    "    while l < r:\n",
    "        water = max(water, (min(height[l], height[r]) * (r - l)))\n",
    "        if height[l] < height[r]:\n",
    "            l += 1\n",
    "        elif height[l] > height[r]:\n",
    "            r -= 1\n",
    "        else:\n",
    "            if height[l + 1] > height[r - 1]:\n",
    "                l += 1\n",
    "            else:\n",
    "                r -= 1\n",
    "    return water"
   ]
  },
  {
   "cell_type": "code",
   "execution_count": 34,
   "id": "e53467ed-517a-4d3e-b6bc-63a9dbf9106e",
   "metadata": {
    "tags": []
   },
   "outputs": [
    {
     "data": {
      "text/plain": [
       "49"
      ]
     },
     "execution_count": 34,
     "metadata": {},
     "output_type": "execute_result"
    }
   ],
   "source": [
    "most_water(height)"
   ]
  },
  {
   "cell_type": "code",
   "execution_count": 35,
   "id": "5c467697-3d27-4f41-84f0-67b2738d2f07",
   "metadata": {
    "tags": []
   },
   "outputs": [
    {
     "data": {
      "text/plain": [
       "1"
      ]
     },
     "execution_count": 35,
     "metadata": {},
     "output_type": "execute_result"
    }
   ],
   "source": [
    "height = [1, 1]\n",
    "most_water(height)"
   ]
  },
  {
   "cell_type": "markdown",
   "id": "d7386715-71ad-432a-87d1-f58e6c7b5c25",
   "metadata": {},
   "source": [
    "## 696. Count Binary Substrings"
   ]
  },
  {
   "cell_type": "code",
   "execution_count": 36,
   "id": "995f1bea-7ba6-401c-9679-278dab77b70d",
   "metadata": {
    "tags": []
   },
   "outputs": [],
   "source": [
    "s = \"00110011\""
   ]
  },
  {
   "cell_type": "code",
   "execution_count": 37,
   "id": "6cb3bcde-e3bb-4fe0-bbbb-5ec413310ee6",
   "metadata": {
    "tags": []
   },
   "outputs": [],
   "source": [
    "def count_binary(s):\n",
    "    prev, curr = 0, 1\n",
    "    out = 0\n",
    "    for i in range(1, len(s)):\n",
    "        if s[i] != s[i-1]:\n",
    "            out += min(prev, curr)\n",
    "            prev = curr\n",
    "            curr = 1\n",
    "        else:\n",
    "            curr += 1\n",
    "    return out + min(prev, curr)"
   ]
  },
  {
   "cell_type": "code",
   "execution_count": 38,
   "id": "eafe4a75-6a54-44c8-b85d-5f4234880e94",
   "metadata": {
    "tags": []
   },
   "outputs": [
    {
     "data": {
      "text/plain": [
       "6"
      ]
     },
     "execution_count": 38,
     "metadata": {},
     "output_type": "execute_result"
    }
   ],
   "source": [
    "count_binary(s)"
   ]
  },
  {
   "cell_type": "code",
   "execution_count": 39,
   "id": "5cc8efe1-5ec1-43a8-adfb-3dc5d4c24bbf",
   "metadata": {
    "tags": []
   },
   "outputs": [
    {
     "data": {
      "text/plain": [
       "4"
      ]
     },
     "execution_count": 39,
     "metadata": {},
     "output_type": "execute_result"
    }
   ],
   "source": [
    "s = \"10101\"\n",
    "count_binary(s)"
   ]
  },
  {
   "cell_type": "markdown",
   "id": "35148174-9f45-48b2-8d22-fba6f5839bc7",
   "metadata": {},
   "source": [
    "## 700. Search in a Binary Search Tree"
   ]
  },
  {
   "cell_type": "code",
   "execution_count": 43,
   "id": "e2b30c1f-14cb-4668-b421-0c8d51c101fe",
   "metadata": {
    "tags": []
   },
   "outputs": [],
   "source": [
    "# Best Solution: Since it is a BST left subtree value < right subtree value\n",
    "def searchBST(root, val):\n",
    "    def rec(root):\n",
    "        if root:\n",
    "            if root.val == val:\n",
    "                return root\n",
    "            elif root.val < val:\n",
    "                return rec(root.right)\n",
    "            else:\n",
    "                return rec(root.left)\n",
    "    return rec(root)"
   ]
  },
  {
   "cell_type": "markdown",
   "id": "6559205b-b853-4e2c-94ee-1b7abc87bd1d",
   "metadata": {},
   "source": [
    "## 703. Kth Largest Element in a Stream"
   ]
  },
  {
   "cell_type": "code",
   "execution_count": 74,
   "id": "17160676-9447-4764-afac-20904d9b9c2e",
   "metadata": {
    "tags": []
   },
   "outputs": [],
   "source": [
    "# My Solution: Bad, Check heapify\n",
    "class KthLargest:\n",
    "\n",
    "    def __init__(self, k: int, nums):\n",
    "        self.k = k\n",
    "        self.nums = sorted(nums)\n",
    "\n",
    "    def add(self, val: int) -> int:\n",
    "        if not self.nums or (val > self.nums[-1]):\n",
    "            self.nums.append(val)\n",
    "        else:\n",
    "            for idx, num in enumerate(self.nums):\n",
    "                if val <= num:\n",
    "                    self.nums.insert(idx, val)\n",
    "                    break\n",
    "        return self.nums[-self.k]\n",
    "\n",
    "\n",
    "# Your KthLargest object will be instantiated and called as such:\n",
    "# obj = KthLargest(k, nums)\n",
    "# param_1 = obj.add(val)"
   ]
  },
  {
   "cell_type": "markdown",
   "id": "f7dc9500-7fc4-41bf-8ae5-ccd9edfe314a",
   "metadata": {},
   "source": [
    "## 704. Binary Search"
   ]
  },
  {
   "cell_type": "code",
   "execution_count": 3,
   "id": "119af5ab-9d21-47f2-8928-e736053dc5f5",
   "metadata": {
    "tags": []
   },
   "outputs": [],
   "source": [
    "def search(nums, target):\n",
    "    l, r = 0, len(nums)-1\n",
    "    while l <= r:\n",
    "        mid = (r + l)//2\n",
    "        if target < nums[mid]:\n",
    "            r = mid - 1\n",
    "        elif target > nums[mid]:\n",
    "            l = mid + 1\n",
    "        else:\n",
    "            return mid\n",
    "    return -1"
   ]
  },
  {
   "cell_type": "code",
   "execution_count": 5,
   "id": "5aa382a2-54fe-4af5-829a-36d036ff0a22",
   "metadata": {
    "tags": []
   },
   "outputs": [
    {
     "data": {
      "text/plain": [
       "4"
      ]
     },
     "execution_count": 5,
     "metadata": {},
     "output_type": "execute_result"
    }
   ],
   "source": [
    "nums = [-1,0,3,5,9,12]\n",
    "target = 9\n",
    "search(nums, target)"
   ]
  },
  {
   "cell_type": "markdown",
   "id": "ca9daf20-03a4-4299-8046-a014005a893c",
   "metadata": {},
   "source": [
    "## 705. Design HashSet"
   ]
  },
  {
   "cell_type": "code",
   "execution_count": 11,
   "id": "67160d7d-fc85-4782-8bf6-2b01d2814850",
   "metadata": {
    "tags": []
   },
   "outputs": [],
   "source": [
    "# Designing hash set:\n",
    "# To store a value in hash set a hashing algorithm is used to find the index where the element has to be set using the element + some formula\n",
    "#https://www.youtube.com/watch?v=VymjPQUXjL8\n",
    "\n",
    "class LinkList:\n",
    "    def __init__(self, val):\n",
    "        self.val = val\n",
    "        self.next = None\n",
    "\n",
    "class MyHashSet:\n",
    "\n",
    "    def __init__(self):\n",
    "        self.set = [LinkList(0) for i in range(10000)]\n",
    "\n",
    "    def add(self, key: int) -> None:\n",
    "        cur = self.set[key % len(self.set)]\n",
    "        while cur.next:\n",
    "            if cur.next.val == key:\n",
    "                return\n",
    "            cur = cur.next\n",
    "        cur.next = LinkList(key)\n",
    "\n",
    "    def remove(self, key: int) -> None:\n",
    "        cur = self.set[key % len(self.set)]\n",
    "        while cur.next:\n",
    "            if cur.next.val == key:\n",
    "                cur.next = cur.next.next\n",
    "                return\n",
    "            cur = cur.next\n",
    "\n",
    "    def contains(self, key: int) -> bool:\n",
    "        cur = self.set[key % len(self.set)]\n",
    "        while cur.next:\n",
    "            if cur.next.val == key:\n",
    "                return True\n",
    "            cur = cur.next\n",
    "        return False"
   ]
  },
  {
   "cell_type": "markdown",
   "id": "9cb452aa-1d06-4a15-bb72-517cd1087005",
   "metadata": {},
   "source": [
    "## 15. 3Sum"
   ]
  },
  {
   "cell_type": "code",
   "execution_count": 17,
   "id": "3f420bb8-3ca0-4400-97db-46712cd56978",
   "metadata": {
    "tags": []
   },
   "outputs": [],
   "source": [
    "nums = [-1,0,1,2,-1,-4]"
   ]
  },
  {
   "cell_type": "code",
   "execution_count": 22,
   "id": "e2055acb-964d-4ea5-b958-7f20c5c604ba",
   "metadata": {
    "tags": []
   },
   "outputs": [],
   "source": [
    "# Best Solution: https://www.youtube.com/watch?v=jzZsG8n2R9A\n",
    "def threeSum(nums):\n",
    "    out = []\n",
    "    nums.sort()\n",
    "    for idx, num in enumerate(nums):\n",
    "        if (idx > 0) and (num == nums[idx - 1]):\n",
    "            continue\n",
    "\n",
    "        l, r = idx+1, len(nums)-1\n",
    "        while l < r:\n",
    "            temp = num + nums[l] + nums[r]\n",
    "            if temp < 0:\n",
    "                l += 1\n",
    "            elif temp > 0:\n",
    "                r -= 1\n",
    "            else:\n",
    "                out.append([num, nums[l], nums[r]])\n",
    "                l += 1\n",
    "                while (nums[l] == nums[l-1]) and (l < r):\n",
    "                    l += 1\n",
    "    return out"
   ]
  },
  {
   "cell_type": "code",
   "execution_count": 20,
   "id": "e31c6ee5-9602-414f-892c-49cf450c1fcd",
   "metadata": {
    "tags": []
   },
   "outputs": [
    {
     "data": {
      "text/plain": [
       "[[-1, -1, 2], [-1, 0, 1]]"
      ]
     },
     "execution_count": 20,
     "metadata": {},
     "output_type": "execute_result"
    }
   ],
   "source": [
    "threeSum(nums)"
   ]
  },
  {
   "cell_type": "markdown",
   "id": "36c07e6d-63af-4073-a517-a18a4add0c20",
   "metadata": {
    "tags": []
   },
   "source": [
    "## 167. Two Sum II - Input Array Is Sorted"
   ]
  },
  {
   "cell_type": "code",
   "execution_count": 21,
   "id": "0708ce10-febd-4e12-89fa-74e8435a1fed",
   "metadata": {
    "tags": []
   },
   "outputs": [],
   "source": [
    "# Best Solution: https://youtu.be/cQ1Oz4ckceM?si=sbgdaUj0Sqw8G8CI\n",
    "def twoSum(numbers, target):\n",
    "    out = []\n",
    "    l, r = 0, len(numbers) - 1\n",
    "    while l < r:\n",
    "        temp = numbers[l] + numbers[r]\n",
    "        if temp < target:\n",
    "            l += 1\n",
    "        elif temp > target:\n",
    "            r -= 1\n",
    "        else:\n",
    "            return [l+1, r+1]"
   ]
  },
  {
   "cell_type": "code",
   "execution_count": 10,
   "id": "334566dc-a06f-4a58-a070-76bd42480dd5",
   "metadata": {
    "tags": []
   },
   "outputs": [
    {
     "data": {
      "text/plain": [
       "[1, 2]"
      ]
     },
     "execution_count": 10,
     "metadata": {},
     "output_type": "execute_result"
    }
   ],
   "source": [
    "numbers = [2,7,11,15]\n",
    "target = 9\n",
    "twoSum(numbers, target)"
   ]
  },
  {
   "cell_type": "markdown",
   "id": "c8001db0-fbbe-4a94-b6a7-118e465e3491",
   "metadata": {},
   "source": [
    "## 16. 3Sum Closest"
   ]
  },
  {
   "cell_type": "code",
   "execution_count": 8,
   "id": "0776257d-9bf1-4d9a-b149-950e9258bafa",
   "metadata": {
    "tags": []
   },
   "outputs": [],
   "source": [
    "def threeSumClosest(nums, target):\n",
    "    nums.sort()\n",
    "    total = nums[0] + nums[1] + nums[2]\n",
    "    for i in range(len(nums) - 2):\n",
    "        l, r = i + 1, len(nums) - 1\n",
    "        while l < r:\n",
    "            t = nums[i] + nums[l] + nums[r]\n",
    "            if t == target:\n",
    "                return target\n",
    "            if abs(t - target) < abs(total - target):\n",
    "                total = t\n",
    "            if t < target:\n",
    "                l += 1\n",
    "            elif t > target:\n",
    "                r -= 1\n",
    "    return total"
   ]
  },
  {
   "cell_type": "code",
   "execution_count": 9,
   "id": "e1ac95ba-a884-4f53-b196-c12faba1b5a4",
   "metadata": {
    "tags": []
   },
   "outputs": [
    {
     "data": {
      "text/plain": [
       "2"
      ]
     },
     "execution_count": 9,
     "metadata": {},
     "output_type": "execute_result"
    }
   ],
   "source": [
    "nums = [-1,2,1,-4]\n",
    "target = 1\n",
    "threeSumClosest(nums, target)"
   ]
  },
  {
   "cell_type": "markdown",
   "id": "6869e52a-d071-444f-a73d-c5df3c406970",
   "metadata": {
    "tags": []
   },
   "source": [
    "## 17. Letter Combinations of a Phone Number"
   ]
  },
  {
   "cell_type": "code",
   "execution_count": 5,
   "id": "ef7a9c64-8c58-4f7b-8591-5d04a978408b",
   "metadata": {
    "tags": []
   },
   "outputs": [],
   "source": [
    "digits = \"23\""
   ]
  },
  {
   "cell_type": "code",
   "execution_count": 6,
   "id": "73769f4e-328e-453c-be51-b1b6dd728d4d",
   "metadata": {
    "tags": []
   },
   "outputs": [],
   "source": [
    "# Best Solution: Backtracking - https://www.youtube.com/watch?v=0snEunUacZY\n",
    "def letterCombinations(digits):\n",
    "    out = []\n",
    "    numpad = {  \"2\" : 'abc',\n",
    "                \"3\" : 'def',\n",
    "                \"4\" : 'ghi',\n",
    "                \"5\" : 'jkl',\n",
    "                \"6\" : 'mno',\n",
    "                \"7\" : 'pqrs',\n",
    "                \"8\" : 'tuv',\n",
    "                \"9\" : 'wxyz'}\n",
    "    def rec(i, cur):\n",
    "        if len(cur) == len(digits):\n",
    "            out.append(cur)\n",
    "            return None\n",
    "        for l in numpad[digits[i]]:\n",
    "            rec(i+1, cur + l)\n",
    "    if digits:\n",
    "        rec(0, \"\")\n",
    "    return out"
   ]
  },
  {
   "cell_type": "code",
   "execution_count": 7,
   "id": "5233a054-0734-4868-9b8b-d12af049107e",
   "metadata": {
    "tags": []
   },
   "outputs": [
    {
     "data": {
      "text/plain": [
       "['ad', 'ae', 'af', 'bd', 'be', 'bf', 'cd', 'ce', 'cf']"
      ]
     },
     "execution_count": 7,
     "metadata": {},
     "output_type": "execute_result"
    }
   ],
   "source": [
    "letterCombinations(digits)"
   ]
  },
  {
   "cell_type": "markdown",
   "id": "524fae76-843d-4b3f-8d4f-4db6e1169ab2",
   "metadata": {},
   "source": [
    "## 706. Design HashMap"
   ]
  },
  {
   "cell_type": "code",
   "execution_count": 4,
   "id": "150dcd8c-80b2-4006-92e4-a92e10c35d4d",
   "metadata": {
    "tags": []
   },
   "outputs": [],
   "source": [
    "# My Solution: Same as hashset\n",
    "class HashLink:\n",
    "    def __init__(self, key, value):\n",
    "        self.key = key\n",
    "        self.val = value\n",
    "        self.next = None\n",
    "\n",
    "class MyHashMap:\n",
    "\n",
    "    def __init__(self):\n",
    "        self.HashMap = [HashLink(0, 0) for i in range(10000)]\n",
    "\n",
    "    def put(self, key: int, value: int) -> None:\n",
    "        cur = self.HashMap[key % 10000]\n",
    "        while cur.next:\n",
    "            if cur.next.key == key:\n",
    "                cur.next.val = value\n",
    "                return\n",
    "            cur = cur.next\n",
    "        cur.next = HashLink(key, value)\n",
    "\n",
    "    def get(self, key: int) -> int:\n",
    "        cur = self.HashMap[key % 10000]\n",
    "        while cur.next:\n",
    "            if cur.next.key == key:\n",
    "                return cur.next.val\n",
    "            cur = cur.next\n",
    "        return -1\n",
    "\n",
    "    def remove(self, key: int) -> None:\n",
    "        cur = self.HashMap[key % 10000]\n",
    "        while cur.next:\n",
    "            if cur.next.key == key:\n",
    "                cur.next = cur.next.next\n",
    "                return\n",
    "            cur = cur.next"
   ]
  },
  {
   "cell_type": "markdown",
   "id": "24d52ba8-e142-403f-994c-1c8e9d0dbf6b",
   "metadata": {},
   "source": [
    "## 1160. Find Words That Can Be Formed by Characters"
   ]
  },
  {
   "cell_type": "code",
   "execution_count": 13,
   "id": "39d57764-27e2-45d9-af94-34dfdfb10847",
   "metadata": {
    "tags": []
   },
   "outputs": [],
   "source": [
    "# My Solution: \n",
    "def countCharacters(words, chars):\n",
    "    out = 0\n",
    "    chars = Counter(chars)\n",
    "    for word in words:\n",
    "        temp = chars.copy()\n",
    "        remove = 0\n",
    "        for l in word:\n",
    "            if temp[l] > 0:\n",
    "                temp[l] -= 1\n",
    "                remove += 1\n",
    "            else:\n",
    "                break\n",
    "        if remove == len(word):\n",
    "            out += len(word)\n",
    "    return out"
   ]
  },
  {
   "cell_type": "code",
   "execution_count": 18,
   "id": "8089dcd6-8183-4e2b-a6f8-557d3f7d8ce3",
   "metadata": {
    "tags": []
   },
   "outputs": [
    {
     "data": {
      "text/plain": [
       "6"
      ]
     },
     "execution_count": 18,
     "metadata": {},
     "output_type": "execute_result"
    }
   ],
   "source": [
    "words = [\"cat\",\"bt\",\"hat\",\"tree\"]\n",
    "chars = \"atach\"\n",
    "countCharacters(words, chars)"
   ]
  },
  {
   "cell_type": "markdown",
   "id": "d9326c52-cd74-44bd-bf79-64660a641730",
   "metadata": {},
   "source": [
    "## 717. 1-bit and 2-bit Characters"
   ]
  },
  {
   "cell_type": "code",
   "execution_count": 17,
   "id": "ce8ef144-1dae-4b76-8ed9-3bbacbdef3c5",
   "metadata": {
    "tags": []
   },
   "outputs": [],
   "source": [
    "def isOneBitCharacter(bits):\n",
    "    i = 0\n",
    "    while i < len(bits)-1:\n",
    "        if bits[i] == 1:\n",
    "            i += 2\n",
    "        else:\n",
    "            i += 1\n",
    "    if i == len(bits)-1:\n",
    "        return True\n",
    "    return False"
   ]
  },
  {
   "cell_type": "code",
   "execution_count": 20,
   "id": "c8a6e701-57f4-465f-89f4-268f2b9fd6c5",
   "metadata": {
    "tags": []
   },
   "outputs": [
    {
     "data": {
      "text/plain": [
       "True"
      ]
     },
     "execution_count": 20,
     "metadata": {},
     "output_type": "execute_result"
    }
   ],
   "source": [
    "bits = [1,0,0]\n",
    "isOneBitCharacter(bits)"
   ]
  },
  {
   "cell_type": "markdown",
   "id": "e167c4bc-8f7c-42d2-a624-99fb1bea1745",
   "metadata": {},
   "source": [
    "## 19. Remove Nth Node From End of List"
   ]
  },
  {
   "cell_type": "code",
   "execution_count": 22,
   "id": "06869052-5000-45c7-8dfc-b45d129d2c61",
   "metadata": {
    "tags": []
   },
   "outputs": [],
   "source": [
    "# Maintain two pointers and update one with a delay of n steps.\n",
    "def removeNthFromEnd(head, n):\n",
    "    fast = slow = head\n",
    "    for _ in range(n):\n",
    "        fast = fast.next\n",
    "    if not fast:\n",
    "        return head.next\n",
    "    while fast.next:\n",
    "        fast = fast.next\n",
    "        slow = slow.next\n",
    "    slow.next = slow.next.next\n",
    "    return head"
   ]
  },
  {
   "cell_type": "markdown",
   "id": "e7e64685-d5a6-4e33-b210-f9a26967b00b",
   "metadata": {},
   "source": [
    "## 22. Generate Parentheses"
   ]
  },
  {
   "cell_type": "code",
   "execution_count": 2,
   "id": "905ebda8-74e8-4384-a405-d6a0cceebfa7",
   "metadata": {
    "tags": []
   },
   "outputs": [],
   "source": [
    "n = 3"
   ]
  },
  {
   "cell_type": "code",
   "execution_count": 8,
   "id": "19117be3-a390-40cb-8a2c-df94502700be",
   "metadata": {
    "tags": []
   },
   "outputs": [],
   "source": [
    "# Best Solution: https://www.youtube.com/watch?v=s9fokUqJ76A\n",
    "# A stack is maintained to keep track of the paranthesis\n",
    "# Conditions: a. If number of closed paranthesis == open para == n then append stack sequence to res, b. If open paranthesis id less than n then add ( and call function again, c. If\n",
    "# number of closed para is less than open para then add close para, this sequnce of recursion ensures that all para sequence are valid, check out tree diagram in video\n",
    "def genearte_paranthesis(n):\n",
    "    stack = []\n",
    "    res = []\n",
    "    def backtrack(openP, closeP):\n",
    "        if openP == closeP == n:\n",
    "            res.append(\"\".join(stack))\n",
    "            return\n",
    "        if openP < n:\n",
    "            stack.append(\"(\")\n",
    "            backtrack(openP + 1, closeP)\n",
    "            stack.pop()\n",
    "        if closeP < openP:\n",
    "            stack.append(\")\")\n",
    "            backtrack(openP, closeP + 1)\n",
    "            stack.pop()\n",
    "    backtrack(0, 0)\n",
    "    return res"
   ]
  },
  {
   "cell_type": "code",
   "execution_count": 6,
   "id": "0eb3897f-0bad-4eca-bc67-d9cb9a383d69",
   "metadata": {
    "tags": []
   },
   "outputs": [
    {
     "data": {
      "text/plain": [
       "['((()))', '(()())', '(())()', '()(())', '()()()']"
      ]
     },
     "execution_count": 6,
     "metadata": {},
     "output_type": "execute_result"
    }
   ],
   "source": [
    "genearte_paranthesis(3)"
   ]
  },
  {
   "cell_type": "markdown",
   "id": "4e967009-ac05-4411-89fc-211ffb1ef1c5",
   "metadata": {
    "tags": []
   },
   "source": [
    "## 24. Swap Nodes in Pairs"
   ]
  },
  {
   "cell_type": "code",
   "execution_count": 3,
   "id": "8c6df3b8-9ce2-4d46-89ef-5a95b7b73477",
   "metadata": {
    "tags": []
   },
   "outputs": [],
   "source": [
    "# Best Solution: 3 pointer approach with dummy node\n",
    "def swapPairs(head):\n",
    "    dummy = ListNode(None, head)\n",
    "    prev = dummy\n",
    "    cur = head\n",
    "    while cur and cur.next:\n",
    "        nxt = cur.next.next\n",
    "        sec = cur.next\n",
    "\n",
    "        sec.next = cur\n",
    "        cur.next = nxt\n",
    "        prev.next = sec\n",
    "\n",
    "        prev = cur\n",
    "        cur = nxt\n",
    "\n",
    "    return dummy.next"
   ]
  },
  {
   "cell_type": "markdown",
   "id": "0c2d67e7-130a-4482-9ed5-81bf0feb658d",
   "metadata": {},
   "source": [
    "## 724. Find Pivot Index"
   ]
  },
  {
   "cell_type": "code",
   "execution_count": 4,
   "id": "11f0ab5f-5538-4b7a-9dcb-23231bb2f161",
   "metadata": {
    "tags": []
   },
   "outputs": [],
   "source": [
    "nums = [1,7,3,6,5,6]"
   ]
  },
  {
   "cell_type": "code",
   "execution_count": 9,
   "id": "ca1370d3-268b-4e95-84ab-5d6f6f0c200e",
   "metadata": {
    "tags": []
   },
   "outputs": [],
   "source": [
    "def pivot(nums):\n",
    "    right = sum(nums[1:])\n",
    "    if right == 0:\n",
    "        return 0\n",
    "    left = 0\n",
    "    for i in range(1, len(nums)):\n",
    "        right = right - nums[i]\n",
    "        left = left + nums[i-1]\n",
    "        if left == right:\n",
    "            return i\n",
    "    return -1"
   ]
  },
  {
   "cell_type": "code",
   "execution_count": 10,
   "id": "a8d931d0-fd30-442f-9f82-cd3c41a437d7",
   "metadata": {
    "tags": []
   },
   "outputs": [
    {
     "data": {
      "text/plain": [
       "3"
      ]
     },
     "execution_count": 10,
     "metadata": {},
     "output_type": "execute_result"
    }
   ],
   "source": [
    "pivot(nums)"
   ]
  },
  {
   "cell_type": "markdown",
   "id": "f964b957-7c35-49be-b462-5e2d6784e213",
   "metadata": {},
   "source": [
    "## 29. Divide Two Integers"
   ]
  },
  {
   "cell_type": "code",
   "execution_count": 14,
   "id": "7d688504-1bad-4af2-9dd4-4c3a9fc4dd3f",
   "metadata": {
    "tags": []
   },
   "outputs": [],
   "source": [
    "# Iterative Solution: https://www.youtube.com/watch?v=6kFp_s_UtPE\n",
    "def divide(dividend, divisor):\n",
    "    d1 = abs(dividend)\n",
    "    d2 = abs(divisor)\n",
    "    output = 0\n",
    "    while d1 >= d2:\n",
    "        temp = d2\n",
    "        mul = 1\n",
    "        while d1 >= temp:\n",
    "            d1 -= temp\n",
    "            output += mul\n",
    "            mul += mul\n",
    "            temp += temp\n",
    "    if (dividend < 0 and divisor >= 0) or (divisor < 0 and dividend >= 0):\n",
    "        output = -output\n",
    "    return min(2147483647, max(-2147483648, output))"
   ]
  },
  {
   "cell_type": "code",
   "execution_count": 15,
   "id": "8818f0d0-3907-4211-ae92-4c3ff8bb776a",
   "metadata": {
    "tags": []
   },
   "outputs": [
    {
     "data": {
      "text/plain": [
       "3"
      ]
     },
     "execution_count": 15,
     "metadata": {},
     "output_type": "execute_result"
    }
   ],
   "source": [
    "dividend = 10\n",
    "divisor = 3\n",
    "divide(dividend, divisor)"
   ]
  },
  {
   "cell_type": "markdown",
   "id": "f46bd381-c0b9-4027-9141-bd1c8343bdd5",
   "metadata": {},
   "source": [
    "## 31. Next Permutation"
   ]
  },
  {
   "cell_type": "code",
   "execution_count": 3,
   "id": "7eaa7ae3-4540-4194-b43b-49c7264fd44d",
   "metadata": {
    "tags": []
   },
   "outputs": [],
   "source": [
    "# Best Solution: https://www.youtube.com/watch?v=JDOXKqF60RQ\n",
    "def nextPermutation(nums):\n",
    "    \"\"\"\n",
    "    Do not return anything, modify nums in-place instead.\n",
    "    \"\"\"\n",
    "    idx = -1\n",
    "    for i in range(len(nums)-2, -1, -1):\n",
    "        if nums[i] < nums[i+1]:\n",
    "            idx = i\n",
    "            break\n",
    "    if idx == -1:\n",
    "        return nums.reverse()\n",
    "    for i in range(len(nums)-1, idx, -1):\n",
    "        if nums[i] > nums[idx]:\n",
    "            nums[i], nums[idx] = nums[idx], nums[i]\n",
    "            break\n",
    "    nums[idx+1:] = sorted(nums[idx+1:])"
   ]
  },
  {
   "cell_type": "code",
   "execution_count": 4,
   "id": "d815da4c-9cf5-488a-a40b-ccc71b39dd13",
   "metadata": {
    "tags": []
   },
   "outputs": [
    {
     "name": "stdout",
     "output_type": "stream",
     "text": [
      "[1, 3, 2]\n"
     ]
    }
   ],
   "source": [
    "nums = [1,2,3]\n",
    "nextPermutation(nums)\n",
    "print(nums)"
   ]
  },
  {
   "cell_type": "code",
   "execution_count": 2,
   "id": "aa09e43e-be11-4a8b-878b-e5865f7d6238",
   "metadata": {},
   "outputs": [],
   "source": [
    "#--"
   ]
  },
  {
   "cell_type": "markdown",
   "id": "94451939-9639-47d6-9087-5b1ad9e78f03",
   "metadata": {},
   "source": [
    "## 75. Sort Colors"
   ]
  },
  {
   "cell_type": "code",
   "execution_count": 12,
   "id": "e22f4fe3-cd2e-498f-888b-65d816173fac",
   "metadata": {
    "tags": []
   },
   "outputs": [],
   "source": [
    "# https://www.youtube.com/watch?v=4xbWSRZHqac\n",
    "# Bubble sort solution:\n",
    "def sortColors(nums) -> None:\n",
    "    d = defaultdict(int)\n",
    "    for i in nums:\n",
    "        d[i] += 1\n",
    "    p = 0\n",
    "    for i in [0,1,2]:\n",
    "        for j in range(d[i]):\n",
    "            nums[p] = i\n",
    "            p += 1"
   ]
  },
  {
   "cell_type": "code",
   "execution_count": 13,
   "id": "6364abc7-b91a-4618-815b-22c9d3bcbc5e",
   "metadata": {
    "tags": []
   },
   "outputs": [
    {
     "name": "stdout",
     "output_type": "stream",
     "text": [
      "[0, 0, 1, 1, 2, 2]\n"
     ]
    }
   ],
   "source": [
    "nums = [2,0,2,1,1,0]\n",
    "sortColors(nums)\n",
    "print(nums)"
   ]
  },
  {
   "cell_type": "code",
   "execution_count": null,
   "id": "3ba59027-8371-4b99-a3a9-560cee37d455",
   "metadata": {},
   "outputs": [],
   "source": []
  }
 ],
 "metadata": {
  "kernelspec": {
   "display_name": "Python 3 (ipykernel)",
   "language": "python",
   "name": "python3"
  },
  "language_info": {
   "codemirror_mode": {
    "name": "ipython",
    "version": 3
   },
   "file_extension": ".py",
   "mimetype": "text/x-python",
   "name": "python",
   "nbconvert_exporter": "python",
   "pygments_lexer": "ipython3",
   "version": "3.10.10"
  },
  "toc-autonumbering": false,
  "toc-showcode": false,
  "toc-showmarkdowntxt": true,
  "toc-showtags": false
 },
 "nbformat": 4,
 "nbformat_minor": 5
}
