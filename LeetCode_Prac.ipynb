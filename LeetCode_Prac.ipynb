{
 "cells": [
  {
   "cell_type": "code",
   "execution_count": 1,
   "id": "90d99c96-7a51-476e-9e03-6fcd9ac114be",
   "metadata": {
    "tags": []
   },
   "outputs": [],
   "source": [
    "from icecream import ic"
   ]
  },
  {
   "cell_type": "markdown",
   "id": "75ba4006-7305-48ca-a04e-8766924a1ec5",
   "metadata": {},
   "source": [
    "## 14. Longest Common Prefix"
   ]
  },
  {
   "cell_type": "code",
   "execution_count": 25,
   "id": "8a4c316b-3dda-4eb2-93e0-fa0c7e6ed8b6",
   "metadata": {
    "tags": []
   },
   "outputs": [],
   "source": [
    "strs1 = [\"flower\",\"flow\",\"flight\"]\n",
    "strs2 = [\"dog\",\"racecar\",\"car\"]"
   ]
  },
  {
   "cell_type": "code",
   "execution_count": 26,
   "id": "92b41a23-2d2d-4a0c-9c83-50c77f4471c6",
   "metadata": {
    "tags": []
   },
   "outputs": [
    {
     "name": "stderr",
     "output_type": "stream",
     "text": [
      "ic| longest_prefix_length: 6\n",
      "ic| i: 'flower'\n",
      "ic| longest_prefix_length: 6\n",
      "ic| i: 'flow'\n",
      "ic| longest_prefix_length: 4\n",
      "ic| i: 'flight'\n",
      "ic| longest_prefix_length: 4\n"
     ]
    }
   ],
   "source": [
    "# Finding length of longest prefix possible\n",
    "longest_prefix_length = len(strs1[0])\n",
    "ic(longest_prefix_length)\n",
    "for i in strs1:\n",
    "    ic(i)\n",
    "    longest_prefix_length = min(longest_prefix_length, len(i))\n",
    "    ic(longest_prefix_length)"
   ]
  },
  {
   "cell_type": "code",
   "execution_count": 27,
   "id": "bc9b50ca-767e-4d69-97ca-f0d7a28f6119",
   "metadata": {
    "tags": []
   },
   "outputs": [
    {
     "data": {
      "text/plain": [
       "4"
      ]
     },
     "execution_count": 27,
     "metadata": {},
     "output_type": "execute_result"
    }
   ],
   "source": [
    "longest_prefix_length"
   ]
  },
  {
   "cell_type": "code",
   "execution_count": 37,
   "id": "b50fcf2d-9f71-4c78-8577-8f6d75439a96",
   "metadata": {
    "tags": []
   },
   "outputs": [
    {
     "name": "stderr",
     "output_type": "stream",
     "text": [
      "ic| string: ''\n",
      "ic| i: 0\n",
      "ic| nxt: 'f'\n",
      "ic| keep: True\n",
      "ic| j: 'flower'\n",
      "ic| start: 'f'\n",
      "ic| nxt: 'f'\n",
      "ic| j: 'flow'\n",
      "ic| start: 'f'\n",
      "ic| nxt: 'f'\n",
      "ic| j: 'flight'\n",
      "ic| start: 'f'\n",
      "ic| nxt: 'f'\n",
      "ic| string: 'f'\n",
      "ic| i: 1\n",
      "ic| nxt: 'l'\n",
      "ic| keep: True\n",
      "ic| j: 'flower'\n",
      "ic| start: 'l'\n",
      "ic| nxt: 'l'\n",
      "ic| j: 'flow'\n",
      "ic| start: 'l'\n",
      "ic| nxt: 'l'\n",
      "ic| j: 'flight'\n",
      "ic| start: 'l'\n",
      "ic| nxt: 'l'\n",
      "ic| string: 'fl'\n",
      "ic| i: 2\n",
      "ic| nxt: 'o'\n",
      "ic| keep: True\n",
      "ic| j: 'flower'\n",
      "ic| start: 'o'\n",
      "ic| nxt: 'o'\n",
      "ic| j: 'flow'\n",
      "ic| start: 'o'\n",
      "ic| nxt: 'o'\n",
      "ic| j: 'flight'\n",
      "ic| start: 'i'\n"
     ]
    }
   ],
   "source": [
    "# My solution\n",
    "string = \"\"\n",
    "ic(string)\n",
    "for i in range(longest_prefix_length):\n",
    "    ic(i)\n",
    "    nxt = strs1[0][i]\n",
    "    ic(nxt)\n",
    "    keep = True\n",
    "    ic(keep)\n",
    "    for j in strs1:\n",
    "        ic(j)\n",
    "        start = j[i]\n",
    "        ic(start)\n",
    "        if start != nxt:\n",
    "            keep = False\n",
    "            break\n",
    "        nxt = start\n",
    "        ic(nxt)\n",
    "    if keep == False:\n",
    "        break\n",
    "    else:\n",
    "        string += strs1[0][i]\n",
    "        ic(string)"
   ]
  },
  {
   "cell_type": "code",
   "execution_count": 36,
   "id": "543cb9c4-a395-4406-82cd-1a3a15afb7f4",
   "metadata": {
    "tags": []
   },
   "outputs": [
    {
     "data": {
      "text/plain": [
       "'fl'"
      ]
     },
     "execution_count": 36,
     "metadata": {},
     "output_type": "execute_result"
    }
   ],
   "source": [
    "string"
   ]
  },
  {
   "cell_type": "code",
   "execution_count": 39,
   "id": "38a323c5-3b8e-479e-99af-f5cb32206454",
   "metadata": {
    "tags": []
   },
   "outputs": [
    {
     "name": "stderr",
     "output_type": "stream",
     "text": [
      "ic| sorted_strs1: ['flight', 'flow', 'flower']\n"
     ]
    }
   ],
   "source": [
    "# Best solution\n",
    "sorted_strs1 = sorted(strs1)\n",
    "ic(sorted_strs1)               # https://leetcode.com/problems/longest-common-prefix/solutions/3273176/python3-c-java-19-ms-beats-99-91/\n",
    "first = sorted_strs1[0]\n",
    "last = sorted_strs1[-1]\n",
    "string = \"\"\n",
    "for i in range(min(len(first), len(last))):\n",
    "    if first[i] == last[i]:\n",
    "        string += first[i]\n",
    "    else:\n",
    "        break"
   ]
  },
  {
   "cell_type": "code",
   "execution_count": 42,
   "id": "e34504b3-3c08-4d43-86de-647d0b3f2bd7",
   "metadata": {
    "tags": []
   },
   "outputs": [
    {
     "data": {
      "text/plain": [
       "'fl'"
      ]
     },
     "execution_count": 42,
     "metadata": {},
     "output_type": "execute_result"
    }
   ],
   "source": [
    "string"
   ]
  },
  {
   "cell_type": "markdown",
   "id": "1c5a291b-de93-4597-8a58-c5b581c14226",
   "metadata": {},
   "source": [
    "## 20. Valid Parentheses"
   ]
  },
  {
   "cell_type": "code",
   "execution_count": 70,
   "id": "cca226b0-0b8b-4ec4-b116-97bd2f213a21",
   "metadata": {
    "tags": []
   },
   "outputs": [],
   "source": [
    "s1 = \"()[]{}\"\n",
    "s2 = \"(]\"\n",
    "s3 = \"{[]}\""
   ]
  },
  {
   "cell_type": "code",
   "execution_count": 88,
   "id": "3f556cc0-fc6c-48ff-b560-3eb143eac775",
   "metadata": {
    "tags": []
   },
   "outputs": [],
   "source": [
    "# Best Solution\n",
    "def valid_parentheses(s):    \n",
    "    stack = []\n",
    "    for para in s:\n",
    "        if para in \"([{\":\n",
    "            stack.append(para)\n",
    "        else:\n",
    "            if not stack or \\\n",
    "            (para == \")\" and stack[-1] != \"(\") or \\\n",
    "            (para == \"]\" and stack[-1] != \"[\") or \\\n",
    "            (para == \"}\" and stack[-1] != \"{\"):\n",
    "                return False\n",
    "            stack.pop()\n",
    "    return not stack"
   ]
  },
  {
   "cell_type": "code",
   "execution_count": 89,
   "id": "0cb09d0a-cad0-47f3-891f-24f3a96d12ed",
   "metadata": {
    "tags": []
   },
   "outputs": [
    {
     "data": {
      "text/plain": [
       "False"
      ]
     },
     "execution_count": 89,
     "metadata": {},
     "output_type": "execute_result"
    }
   ],
   "source": [
    "valid_parentheses(s2)"
   ]
  },
  {
   "cell_type": "code",
   "execution_count": 90,
   "id": "fc379541-71cf-4e8d-956f-bd333d3ee039",
   "metadata": {
    "tags": []
   },
   "outputs": [
    {
     "data": {
      "text/plain": [
       "True"
      ]
     },
     "execution_count": 90,
     "metadata": {},
     "output_type": "execute_result"
    }
   ],
   "source": [
    "valid_parentheses(s3)"
   ]
  },
  {
   "cell_type": "markdown",
   "id": "700229de-0f4b-4aa8-8cc8-49f35e553cf6",
   "metadata": {
    "tags": []
   },
   "source": [
    "## 27. Remove Element"
   ]
  },
  {
   "cell_type": "code",
   "execution_count": 158,
   "id": "9fc86441-5575-4586-8d6f-2547d59a2148",
   "metadata": {
    "tags": []
   },
   "outputs": [],
   "source": [
    "nums = [0,1,2,2,3,0,4,2]\n",
    "val = 2"
   ]
  },
  {
   "cell_type": "code",
   "execution_count": 176,
   "id": "777143e8-f96a-4c41-b38d-7d1b61e3c280",
   "metadata": {
    "tags": []
   },
   "outputs": [],
   "source": [
    "# My Solution\n",
    "def remove_elements(nums):\n",
    "    for i in reversed(range(len(nums))):\n",
    "        if nums[i] == val:\n",
    "            nums.pop(i)\n",
    "    return len(nums)"
   ]
  },
  {
   "cell_type": "code",
   "execution_count": 177,
   "id": "f25f46b4-358e-4dca-99b2-c1b94aded07f",
   "metadata": {},
   "outputs": [
    {
     "data": {
      "text/plain": [
       "5"
      ]
     },
     "execution_count": 177,
     "metadata": {},
     "output_type": "execute_result"
    }
   ],
   "source": [
    "remove_elements(nums)"
   ]
  },
  {
   "cell_type": "code",
   "execution_count": 178,
   "id": "b67f31e1-9d75-4ff6-a24f-21ad8a0923b3",
   "metadata": {
    "tags": []
   },
   "outputs": [
    {
     "data": {
      "text/plain": [
       "[0, 1, 3, 0, 4]"
      ]
     },
     "execution_count": 178,
     "metadata": {},
     "output_type": "execute_result"
    }
   ],
   "source": [
    "nums"
   ]
  },
  {
   "cell_type": "code",
   "execution_count": 179,
   "id": "f6cc49ee-f48f-4070-8a38-8c6189ec79a0",
   "metadata": {
    "tags": []
   },
   "outputs": [],
   "source": [
    "# Alternate Solution\n",
    "def removeElement(nums):\n",
    "    index = 0\n",
    "    for i in range(len(nums)):\n",
    "        if nums[i] != val:\n",
    "            nums[index] = nums[i]\n",
    "            index += 1\n",
    "    return index"
   ]
  },
  {
   "cell_type": "markdown",
   "id": "4b798196-19ae-4ca4-8752-23d26bae769a",
   "metadata": {},
   "source": [
    "## 28. Find the Index of the First Occurrence in a String"
   ]
  },
  {
   "cell_type": "code",
   "execution_count": 180,
   "id": "308054f5-5e0d-48c8-813e-7f5ab027570f",
   "metadata": {
    "tags": []
   },
   "outputs": [],
   "source": [
    "haystack = \"sadbutsad\"\n",
    "needle = \"sad\""
   ]
  },
  {
   "cell_type": "code",
   "execution_count": 191,
   "id": "7420fb59-896f-42de-be06-b4091aa715d5",
   "metadata": {
    "tags": []
   },
   "outputs": [
    {
     "name": "stderr",
     "output_type": "stream",
     "text": [
      "ic| idx: 0\n",
      "ic| needle: 'sad'\n",
      "ic| haystack[idx : idx + len(needle)]: 'sad'\n",
      "ic| idx: 1\n",
      "ic| idx: 2\n",
      "ic| idx: 3\n",
      "ic| idx: 4\n",
      "ic| idx: 5\n",
      "ic| idx: 6\n",
      "ic| needle: 'sad'\n",
      "ic| haystack[idx : idx + len(needle)]: 'sad'\n"
     ]
    },
    {
     "name": "stdout",
     "output_type": "stream",
     "text": [
      "0\n",
      "6\n"
     ]
    }
   ],
   "source": [
    "# My Solution\n",
    "for idx in range(len(haystack) - len(needle) + 1):\n",
    "    ic(idx)\n",
    "    if needle == haystack[idx : idx + len(needle)]:\n",
    "        ic(needle)\n",
    "        ic(haystack[idx : idx + len(needle)])\n",
    "        print(idx)"
   ]
  },
  {
   "cell_type": "code",
   "execution_count": 193,
   "id": "2e8b2ca0-fd92-4295-9127-1f39207d43bb",
   "metadata": {
    "tags": []
   },
   "outputs": [
    {
     "data": {
      "text/plain": [
       "0"
      ]
     },
     "execution_count": 193,
     "metadata": {},
     "output_type": "execute_result"
    }
   ],
   "source": [
    "# Alternate Solution\n",
    "haystack.find(needle)"
   ]
  },
  {
   "cell_type": "markdown",
   "id": "35db625b-3e29-4fb9-a57b-fbeae6ad1fde",
   "metadata": {},
   "source": [
    "## 35. Search Insert Position"
   ]
  },
  {
   "cell_type": "code",
   "execution_count": 195,
   "id": "23cf4d69-eba0-4636-af5e-8faf4d84229e",
   "metadata": {
    "tags": []
   },
   "outputs": [],
   "source": [
    "nums = [1,3,5,6]\n",
    "target = 5"
   ]
  },
  {
   "cell_type": "code",
   "execution_count": 203,
   "id": "3f19264f-aa2f-49d1-a7a0-bd47c0ca8083",
   "metadata": {
    "tags": []
   },
   "outputs": [],
   "source": [
    "# My Solution\n",
    "def insert_pos(nums, target):\n",
    "    for idx, val in enumerate(nums):\n",
    "        if val == target:\n",
    "            return idx\n",
    "        elif val > target:\n",
    "            return idx\n",
    "    return len(nums)"
   ]
  },
  {
   "cell_type": "code",
   "execution_count": 204,
   "id": "7b6e1137-59c0-4397-9f11-a51b39da3156",
   "metadata": {
    "tags": []
   },
   "outputs": [
    {
     "data": {
      "text/plain": [
       "4"
      ]
     },
     "execution_count": 204,
     "metadata": {},
     "output_type": "execute_result"
    }
   ],
   "source": [
    "insert_pos(nums, target)"
   ]
  },
  {
   "cell_type": "code",
   "execution_count": 205,
   "id": "1eec66a2-1c51-4eee-8f72-97084a1f6c4a",
   "metadata": {
    "tags": []
   },
   "outputs": [
    {
     "data": {
      "text/plain": [
       "1"
      ]
     },
     "execution_count": 205,
     "metadata": {},
     "output_type": "execute_result"
    }
   ],
   "source": [
    "nums = [1,3,5,6]\n",
    "target = 2\n",
    "insert_pos(nums, target)"
   ]
  },
  {
   "cell_type": "code",
   "execution_count": 206,
   "id": "601c36f3-fa41-426b-945f-53aaaf740ace",
   "metadata": {
    "tags": []
   },
   "outputs": [
    {
     "data": {
      "text/plain": [
       "4"
      ]
     },
     "execution_count": 206,
     "metadata": {},
     "output_type": "execute_result"
    }
   ],
   "source": [
    "nums = [1,3,5,6]\n",
    "target = 7\n",
    "insert_pos(nums, target)"
   ]
  },
  {
   "cell_type": "markdown",
   "id": "4d332448-ba9c-41b8-87ab-1aa6e00797be",
   "metadata": {},
   "source": [
    "## 58. Length of Last Word"
   ]
  },
  {
   "cell_type": "code",
   "execution_count": 13,
   "id": "0648d64e-12e1-4fe5-879d-9c861ba00492",
   "metadata": {},
   "outputs": [],
   "source": [
    "s = \"   fly me   to   the moon  \""
   ]
  },
  {
   "cell_type": "code",
   "execution_count": 14,
   "id": "64a1c7e1-f4ac-4ba5-bb8f-26fc12960e56",
   "metadata": {
    "tags": []
   },
   "outputs": [
    {
     "data": {
      "text/plain": [
       "4"
      ]
     },
     "execution_count": 14,
     "metadata": {},
     "output_type": "execute_result"
    }
   ],
   "source": [
    "# My Solution\n",
    "len(s.split()[-1])"
   ]
  },
  {
   "cell_type": "code",
   "execution_count": 15,
   "id": "913fada5-144b-4b4c-b8d6-fe41b4b00de7",
   "metadata": {
    "tags": []
   },
   "outputs": [],
   "source": [
    "# My Alternate Solution\n",
    "foundword = False\n",
    "length = 0\n",
    "for i in reversed(s):\n",
    "    if i.isalpha():\n",
    "        length += 1\n",
    "        foundword = True\n",
    "    if i.isspace() and foundword:\n",
    "        break"
   ]
  },
  {
   "cell_type": "code",
   "execution_count": 16,
   "id": "cbe45c07-56dc-4a6e-b8d7-8beff1a4fcce",
   "metadata": {
    "tags": []
   },
   "outputs": [
    {
     "data": {
      "text/plain": [
       "4"
      ]
     },
     "execution_count": 16,
     "metadata": {},
     "output_type": "execute_result"
    }
   ],
   "source": [
    "length"
   ]
  },
  {
   "cell_type": "markdown",
   "id": "bcd04459-2273-44f3-910d-8652a6e40763",
   "metadata": {},
   "source": [
    "## 66. Plus One"
   ]
  },
  {
   "cell_type": "code",
   "execution_count": 52,
   "id": "22d58d12-bfeb-4e8b-b49e-6d8ae311f878",
   "metadata": {
    "tags": []
   },
   "outputs": [],
   "source": [
    "digits = [9, 9]\n",
    "digits = [1,2,9]"
   ]
  },
  {
   "cell_type": "code",
   "execution_count": 53,
   "id": "67c51b72-1069-4237-ae55-49b8470a39e3",
   "metadata": {
    "tags": []
   },
   "outputs": [],
   "source": [
    "# My Solution\n",
    "# for i in reversed(range(len(digits))):\n",
    "#     if digits[i] == 9:\n",
    "#         if i == 0:\n",
    "#             digits[i] = 1\n",
    "#             digits.append(0)\n",
    "#             break\n",
    "#         digits[i] = 0\n",
    "#     else:\n",
    "#         digits[i] += 1\n",
    "#         break"
   ]
  },
  {
   "cell_type": "code",
   "execution_count": 54,
   "id": "7f81b637-5946-450e-aa34-89262bd17b11",
   "metadata": {
    "tags": []
   },
   "outputs": [],
   "source": [
    "# digits"
   ]
  },
  {
   "cell_type": "code",
   "execution_count": 59,
   "id": "b3b21869-6333-44bd-92b1-dcbc4169fc7f",
   "metadata": {
    "tags": []
   },
   "outputs": [],
   "source": [
    "# My Alternate Solution\n",
    "string = \"\"\n",
    "for i in digits:\n",
    "    string += str(i)\n",
    "string = str(int(string) + 1)\n",
    "string1 = [int(s) for s in string]"
   ]
  },
  {
   "cell_type": "code",
   "execution_count": 60,
   "id": "a070a38b-6dbb-4133-b39d-f03970d177d1",
   "metadata": {
    "tags": []
   },
   "outputs": [
    {
     "data": {
      "text/plain": [
       "[1, 3, 0]"
      ]
     },
     "execution_count": 60,
     "metadata": {},
     "output_type": "execute_result"
    }
   ],
   "source": [
    "string1"
   ]
  },
  {
   "cell_type": "markdown",
   "id": "7124824d-746b-4601-9a67-92b7e3885b04",
   "metadata": {},
   "source": [
    "## 67. Add Binary"
   ]
  },
  {
   "cell_type": "code",
   "execution_count": 61,
   "id": "399e84f9-e373-47e9-b93a-09096de3c1ce",
   "metadata": {
    "tags": []
   },
   "outputs": [],
   "source": [
    "a = \"11\"\n",
    "b = \"1\""
   ]
  },
  {
   "cell_type": "code",
   "execution_count": 67,
   "id": "4b7d5bf2-5eac-43e9-9631-283517035b0b",
   "metadata": {
    "tags": []
   },
   "outputs": [
    {
     "data": {
      "text/plain": [
       "'100'"
      ]
     },
     "execution_count": 67,
     "metadata": {},
     "output_type": "execute_result"
    }
   ],
   "source": [
    "bin(int(a, 2) + int(b, 2))[2:]"
   ]
  },
  {
   "cell_type": "markdown",
   "id": "f557be3b-8a96-4b76-93de-0426aa5a0f1e",
   "metadata": {},
   "source": [
    "## 69. Sqrt(x)"
   ]
  },
  {
   "cell_type": "code",
   "execution_count": 83,
   "id": "14bae83f-ffa4-4dfc-9383-4e49ad329fcf",
   "metadata": {
    "tags": []
   },
   "outputs": [],
   "source": [
    "x = 8192"
   ]
  },
  {
   "cell_type": "code",
   "execution_count": 84,
   "id": "7d21ccab-d322-425a-bc52-615866e6e290",
   "metadata": {
    "tags": []
   },
   "outputs": [],
   "source": [
    "# Newton Method: https://www.geeksforgeeks.org/find-root-of-a-number-using-newtons-method/\n",
    "def mySqrt(x: int) -> int:\n",
    "    if x == 0:\n",
    "        return 0\n",
    "    elif len(str(x)) <= 3:\n",
    "        init = x / 2\n",
    "    else:\n",
    "        init = int(str(x)[:int(len(str(x))/2)])\n",
    "    for i in range(7):\n",
    "        init = (init + (x/init))/2\n",
    "    return int(init)"
   ]
  },
  {
   "cell_type": "code",
   "execution_count": 85,
   "id": "8e9764bc-a4d9-447b-a997-652d3ce12f8d",
   "metadata": {
    "tags": []
   },
   "outputs": [
    {
     "data": {
      "text/plain": [
       "90"
      ]
     },
     "execution_count": 85,
     "metadata": {},
     "output_type": "execute_result"
    }
   ],
   "source": [
    "mySqrt(x)"
   ]
  },
  {
   "cell_type": "code",
   "execution_count": 91,
   "id": "32da07d5-ea35-4e24-9207-91e1d1da11ea",
   "metadata": {
    "tags": []
   },
   "outputs": [],
   "source": [
    "# Binary Search: https://www.youtube.com/watch?v=Bsv3FPUX_BA\n",
    "def binary_search_sqrt(x):\n",
    "    if x == 0:\n",
    "        return 0\n",
    "    first = 1\n",
    "    last = x\n",
    "    while first <= last:\n",
    "        middle = int((first + last) / 2)\n",
    "        if x == (middle * middle):\n",
    "            return middle\n",
    "        elif x < (middle * middle):\n",
    "            last = middle - 1\n",
    "        else:\n",
    "            first = middle + 1\n",
    "    return last"
   ]
  },
  {
   "cell_type": "code",
   "execution_count": 96,
   "id": "30d55877-1262-44a3-bd00-b87c117ff8d0",
   "metadata": {
    "tags": []
   },
   "outputs": [
    {
     "data": {
      "text/plain": [
       "10"
      ]
     },
     "execution_count": 96,
     "metadata": {},
     "output_type": "execute_result"
    }
   ],
   "source": [
    "binary_search_sqrt(120)"
   ]
  },
  {
   "cell_type": "markdown",
   "id": "bf61e04b-dac7-4515-adb0-8cef05f59089",
   "metadata": {},
   "source": [
    "## 70. Climbing Stairs"
   ]
  },
  {
   "cell_type": "code",
   "execution_count": 2,
   "id": "6d0a880e-e7fd-4b55-b298-7e7c8220d676",
   "metadata": {
    "tags": []
   },
   "outputs": [],
   "source": [
    "from itertools import permutations"
   ]
  },
  {
   "cell_type": "code",
   "execution_count": 12,
   "id": "b5034ed7-5f00-4093-9106-1f7ca3906500",
   "metadata": {
    "tags": []
   },
   "outputs": [
    {
     "data": {
      "text/plain": [
       "[(1, 2), (2, 1)]"
      ]
     },
     "execution_count": 12,
     "metadata": {},
     "output_type": "execute_result"
    }
   ],
   "source": [
    "list(permutations([1,2], 2))"
   ]
  },
  {
   "cell_type": "code",
   "execution_count": 17,
   "id": "965a00b8-b995-4340-a0bd-138909584d89",
   "metadata": {
    "tags": []
   },
   "outputs": [],
   "source": [
    "# Best Solution: Dynamic Programming : https://www.youtube.com/watch?v=Y0lT9Fck7qI\n",
    "def climb_stairs(n):\n",
    "    if n == 0:\n",
    "        return 0\n",
    "    if n == 1:\n",
    "        return 1\n",
    "    else:\n",
    "        one, two, new = 1, 1, 0\n",
    "        for i in range(n - 1):\n",
    "            new = one + two\n",
    "            two = one\n",
    "            one = new\n",
    "    return new"
   ]
  },
  {
   "cell_type": "code",
   "execution_count": 19,
   "id": "9147fdac-8f9e-4af2-84ef-b07c422c6421",
   "metadata": {
    "tags": []
   },
   "outputs": [
    {
     "data": {
      "text/plain": [
       "3"
      ]
     },
     "execution_count": 19,
     "metadata": {},
     "output_type": "execute_result"
    }
   ],
   "source": [
    "climb_stairs(3)"
   ]
  },
  {
   "cell_type": "markdown",
   "id": "39b79a74-a9ad-49ad-8ff2-702ede0812e8",
   "metadata": {},
   "source": [
    "## 83. Remove Duplicates from Sorted List"
   ]
  },
  {
   "cell_type": "code",
   "execution_count": null,
   "id": "47be425c-6c42-4adb-9b08-a30fbbf5271b",
   "metadata": {},
   "outputs": [],
   "source": [
    "# ListNode is an object which has a value and 'next' which has pointer to next ListNode object\n",
    "# ListNode is stored this way: ListNode{val: 2, next: ListNode{val: 4, next: None}} (Recursive)"
   ]
  },
  {
   "cell_type": "code",
   "execution_count": 2,
   "id": "2f944d58-ef59-47e0-8af0-c007b6830849",
   "metadata": {
    "tags": []
   },
   "outputs": [],
   "source": [
    "class ListNode:\n",
    "    def __init__(self, val=0, next=None):\n",
    "        self.val = val\n",
    "        self.next = next"
   ]
  },
  {
   "cell_type": "code",
   "execution_count": 8,
   "id": "9906b7c2-aa27-4d6d-94d4-b1daa152188d",
   "metadata": {
    "tags": []
   },
   "outputs": [],
   "source": [
    "# Best Solution\n",
    "def deleteDuplicates(head):\n",
    "    if head == None:\n",
    "        return None\n",
    "\n",
    "    current = head\n",
    "    while current.next:\n",
    "        if current.val == current.next.val:\n",
    "            current.next = current.next.next\n",
    "        else:\n",
    "            current = current.next\n",
    "\n",
    "    return head"
   ]
  },
  {
   "cell_type": "markdown",
   "id": "958a155f-59a6-4298-a0f9-55a1f02f537d",
   "metadata": {},
   "source": [
    "## 88. Merge Sorted Array"
   ]
  },
  {
   "cell_type": "code",
   "execution_count": 9,
   "id": "624496e3-7715-4d18-9832-50a9ed940014",
   "metadata": {
    "tags": []
   },
   "outputs": [],
   "source": [
    "nums1 = [1, 2, 3, 0, 0, 0]"
   ]
  },
  {
   "cell_type": "code",
   "execution_count": 10,
   "id": "d29ef3f1-4aa9-4eea-83d2-258336761e66",
   "metadata": {
    "tags": []
   },
   "outputs": [],
   "source": [
    "# My Solution 1\n",
    "def merge_sorted(nums1, m, nums2, n):\n",
    "    nums1[m:] = nums2\n",
    "    nums1.sort()"
   ]
  },
  {
   "cell_type": "code",
   "execution_count": 12,
   "id": "64a57602-7e4c-4127-bb72-89ec5412efd4",
   "metadata": {
    "tags": []
   },
   "outputs": [],
   "source": [
    "# Algo Solution (backwards pass)\n",
    "def merge_sorted(nums1, m, nums2, n):    \n",
    "    x = m - 1\n",
    "    y = n - 1\n",
    "    track = n + m - 1\n",
    "    while y >= 0:\n",
    "        if x >= 0 and nums1[x] > nums2[y]:\n",
    "            nums1[track] = nums1[x]\n",
    "            x -= 1\n",
    "        else:\n",
    "            nums1[track] = nums2[y]\n",
    "            y -= 1\n",
    "        track -= 1 "
   ]
  },
  {
   "cell_type": "markdown",
   "id": "af9a71c9-6793-4d29-ba34-374017bdb893",
   "metadata": {},
   "source": [
    "## 94. Binary Tree Inorder Traversal"
   ]
  },
  {
   "cell_type": "code",
   "execution_count": null,
   "id": "ba0aa790-ebb1-4bad-b40e-edec2e1fa03a",
   "metadata": {},
   "outputs": [],
   "source": []
  }
 ],
 "metadata": {
  "kernelspec": {
   "display_name": "Python 3 (ipykernel)",
   "language": "python",
   "name": "python3"
  },
  "language_info": {
   "codemirror_mode": {
    "name": "ipython",
    "version": 3
   },
   "file_extension": ".py",
   "mimetype": "text/x-python",
   "name": "python",
   "nbconvert_exporter": "python",
   "pygments_lexer": "ipython3",
   "version": "3.10.10"
  },
  "toc-autonumbering": false,
  "toc-showcode": false,
  "toc-showmarkdowntxt": true,
  "toc-showtags": false
 },
 "nbformat": 4,
 "nbformat_minor": 5
}
